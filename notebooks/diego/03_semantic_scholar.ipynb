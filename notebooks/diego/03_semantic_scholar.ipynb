{
 "cells": [
  {
   "cell_type": "code",
   "execution_count": 59,
   "metadata": {},
   "outputs": [],
   "source": [
    "from datetime import datetime\n",
    "\n",
    "import numpy as np\n",
    "import pandas as pd\n",
    "import plotly.express as px\n",
    "from semanticscholar import SemanticScholar"
   ]
  },
  {
   "cell_type": "code",
   "execution_count": 2,
   "metadata": {},
   "outputs": [
    {
     "data": {
      "text/plain": [
       "'Mapping poverty at multiple geographical scales'"
      ]
     },
     "execution_count": 2,
     "metadata": {},
     "output_type": "execute_result"
    }
   ],
   "source": [
    "sch = SemanticScholar()\n",
    "paper = sch.get_paper(\"f24dc845602d5b395b3c33697e6edcf29ad5776a\")\n",
    "paper.title"
   ]
  },
  {
   "cell_type": "code",
   "execution_count": 104,
   "metadata": {},
   "outputs": [
    {
     "name": "stdout",
     "output_type": "stream",
     "text": [
      "['paperId', 'externalIds', 'corpusId', 'publicationVenue', 'url', 'title', 'abstract', 'venue', 'year', 'referenceCount', 'citationCount', 'influentialCitationCount', 'isOpenAccess', 'openAccessPdf', 'fieldsOfStudy', 's2FieldsOfStudy', 'publicationTypes', 'publicationDate', 'journal', 'citationStyles', 'authors']\n"
     ]
    },
    {
     "data": {
      "text/html": [
       "<div>\n",
       "<style scoped>\n",
       "    .dataframe tbody tr th:only-of-type {\n",
       "        vertical-align: middle;\n",
       "    }\n",
       "\n",
       "    .dataframe tbody tr th {\n",
       "        vertical-align: top;\n",
       "    }\n",
       "\n",
       "    .dataframe thead th {\n",
       "        text-align: right;\n",
       "    }\n",
       "</style>\n",
       "<table border=\"1\" class=\"dataframe\">\n",
       "  <thead>\n",
       "    <tr style=\"text-align: right;\">\n",
       "      <th></th>\n",
       "      <th>paperId</th>\n",
       "      <th>title</th>\n",
       "      <th>url</th>\n",
       "      <th>publicationDate</th>\n",
       "      <th>venue</th>\n",
       "      <th>publication_venue_type</th>\n",
       "      <th>referenceCount</th>\n",
       "      <th>citationCount</th>\n",
       "      <th>binning</th>\n",
       "    </tr>\n",
       "  </thead>\n",
       "  <tbody>\n",
       "    <tr>\n",
       "      <th>0</th>\n",
       "      <td>90405063133184d0ad29b426feb490ece0ce83b9</td>\n",
       "      <td>A review of machine learning and satellite ima...</td>\n",
       "      <td>https://www.semanticscholar.org/paper/90405063...</td>\n",
       "      <td>2023-02-01</td>\n",
       "      <td>Journal of International Development</td>\n",
       "      <td>journal</td>\n",
       "      <td>37.0</td>\n",
       "      <td>2.0</td>\n",
       "      <td>1</td>\n",
       "    </tr>\n",
       "    <tr>\n",
       "      <th>1</th>\n",
       "      <td>830d29d57e9c54bff7803aa52b00dc56535b4470</td>\n",
       "      <td>Multivariate mixture model for small area esti...</td>\n",
       "      <td>https://www.semanticscholar.org/paper/830d29d5...</td>\n",
       "      <td>2022-12-01</td>\n",
       "      <td>Journal of the Royal Statistical Society: Seri...</td>\n",
       "      <td>None</td>\n",
       "      <td>27.0</td>\n",
       "      <td>1.0</td>\n",
       "      <td>1</td>\n",
       "    </tr>\n",
       "    <tr>\n",
       "      <th>2</th>\n",
       "      <td>d253b41297e7ec43cec7f02401196125188e0824</td>\n",
       "      <td>Guidelines to Small Area Estimation for Povert...</td>\n",
       "      <td>https://www.semanticscholar.org/paper/d253b412...</td>\n",
       "      <td>2022-06-16</td>\n",
       "      <td></td>\n",
       "      <td>None</td>\n",
       "      <td>0.0</td>\n",
       "      <td>2.0</td>\n",
       "      <td>1</td>\n",
       "    </tr>\n",
       "    <tr>\n",
       "      <th>3</th>\n",
       "      <td>2c36a2514c98f47483a40c5152b337a2bc4450c0</td>\n",
       "      <td>A Computationally Efficient Approach to Fully ...</td>\n",
       "      <td>https://www.semanticscholar.org/paper/2c36a251...</td>\n",
       "      <td>2022-03-23</td>\n",
       "      <td></td>\n",
       "      <td>None</td>\n",
       "      <td>0.0</td>\n",
       "      <td>1.0</td>\n",
       "      <td>1</td>\n",
       "    </tr>\n",
       "    <tr>\n",
       "      <th>4</th>\n",
       "      <td>3bba63cd7b14cdcd458a4fa6be8c78d2582cd65c</td>\n",
       "      <td>Accounting for survey design in Bayesian disag...</td>\n",
       "      <td>https://www.semanticscholar.org/paper/3bba63cd...</td>\n",
       "      <td>2021-12-13</td>\n",
       "      <td>Annals of Applied Statistics</td>\n",
       "      <td>journal</td>\n",
       "      <td>51.0</td>\n",
       "      <td>2.0</td>\n",
       "      <td>1</td>\n",
       "    </tr>\n",
       "  </tbody>\n",
       "</table>\n",
       "</div>"
      ],
      "text/plain": [
       "                                    paperId  \\\n",
       "0  90405063133184d0ad29b426feb490ece0ce83b9   \n",
       "1  830d29d57e9c54bff7803aa52b00dc56535b4470   \n",
       "2  d253b41297e7ec43cec7f02401196125188e0824   \n",
       "3  2c36a2514c98f47483a40c5152b337a2bc4450c0   \n",
       "4  3bba63cd7b14cdcd458a4fa6be8c78d2582cd65c   \n",
       "\n",
       "                                               title  \\\n",
       "0  A review of machine learning and satellite ima...   \n",
       "1  Multivariate mixture model for small area esti...   \n",
       "2  Guidelines to Small Area Estimation for Povert...   \n",
       "3  A Computationally Efficient Approach to Fully ...   \n",
       "4  Accounting for survey design in Bayesian disag...   \n",
       "\n",
       "                                                 url publicationDate  \\\n",
       "0  https://www.semanticscholar.org/paper/90405063...      2023-02-01   \n",
       "1  https://www.semanticscholar.org/paper/830d29d5...      2022-12-01   \n",
       "2  https://www.semanticscholar.org/paper/d253b412...      2022-06-16   \n",
       "3  https://www.semanticscholar.org/paper/2c36a251...      2022-03-23   \n",
       "4  https://www.semanticscholar.org/paper/3bba63cd...      2021-12-13   \n",
       "\n",
       "                                               venue publication_venue_type  \\\n",
       "0               Journal of International Development                journal   \n",
       "1  Journal of the Royal Statistical Society: Seri...                   None   \n",
       "2                                                                      None   \n",
       "3                                                                      None   \n",
       "4                       Annals of Applied Statistics                journal   \n",
       "\n",
       "   referenceCount  citationCount  binning  \n",
       "0            37.0            2.0        1  \n",
       "1            27.0            1.0        1  \n",
       "2             0.0            2.0        1  \n",
       "3             0.0            1.0        1  \n",
       "4            51.0            2.0        1  "
      ]
     },
     "execution_count": 104,
     "metadata": {},
     "output_type": "execute_result"
    }
   ],
   "source": [
    "def get_references(references: list) -> list:\n",
    "    data = []\n",
    "    for ref in references:\n",
    "        if ref[\"publicationVenue\"]:\n",
    "            if ref[\"publicationVenue\"][\"type\"]:\n",
    "                publication_venue_type = ref[\"publicationVenue\"][\"type\"]\n",
    "        else:\n",
    "            publication_venue_type = None\n",
    "        data.append(\n",
    "            (\n",
    "                ref[\"paperId\"],\n",
    "                ref[\"title\"],\n",
    "                ref[\"url\"],\n",
    "                ref[\"publicationDate\"],\n",
    "                ref[\"venue\"],\n",
    "                publication_venue_type,\n",
    "                ref[\"referenceCount\"],\n",
    "                ref[\"citationCount\"],\n",
    "            )\n",
    "        )\n",
    "    return data\n",
    "\n",
    "\n",
    "print([k for k in paper.references[0].keys()])\n",
    "data = get_references(paper.references)\n",
    "df = pd.DataFrame(\n",
    "    data,\n",
    "    columns=[\n",
    "        \"paperId\",\n",
    "        \"title\",\n",
    "        \"url\",\n",
    "        \"publicationDate\",\n",
    "        \"venue\",\n",
    "        \"publication_venue_type\",\n",
    "        \"referenceCount\",\n",
    "        \"citationCount\",\n",
    "    ],\n",
    ")\n",
    "df.citationCount = df.citationCount.fillna(0)\n",
    "df[\"binning\"] = pd.qcut(df.citationCount, 8, labels=False)\n",
    "df[\"binning\"] = df[\"binning\"] + 1\n",
    "# df['binning'] = pd.cut(df.citationCount, bins=4, labels=False)\n",
    "df.head()"
   ]
  },
  {
   "cell_type": "code",
   "execution_count": 123,
   "metadata": {},
   "outputs": [
    {
     "data": {
      "application/vnd.plotly.v1+json": {
       "config": {
        "plotlyServerURL": "https://plot.ly"
       },
       "data": [
        {
         "customdata": [
          [
           "A review of machine learning and satellite imagery for poverty prediction: Implications for development research and applications",
           37,
           2
          ],
          [
           "Multivariate mixture model for small area estimation of poverty indicators",
           27,
           1
          ],
          [
           "Guidelines to Small Area Estimation for Poverty Mapping",
           0,
           2
          ],
          [
           "A Computationally Efficient Approach to Fully Bayesian Benchmarking",
           0,
           1
          ],
          [
           "Accounting for survey design in Bayesian disaggregation of survey-based areal estimates of proportions: An application to the American Community Survey",
           51,
           2
          ],
          [
           "Using Satellite Data to Guide Urban Poverty Reduction",
           32,
           10
          ],
          [
           "Paths out of poverty: International experience",
           21,
           12
          ],
          [
           "A Clipped Gaussian Geo-Classification model for poverty mapping",
           19,
           2
          ],
          [
           "Properties of the beta regression model for small area estimation of proportions and application to estimation of poverty rates",
           24,
           10
          ],
          [
           "Fully Bayesian Benchmarking of Small Area Estimation Models",
           52,
           8
          ],
          [
           "Approaches and Alternatives to the Wealth Index to Measure Socioeconomic Status Using Survey Data: A Critical Interpretive Synthesis",
           72,
           69
          ],
          [
           "Estimation of Poverty Using Random Forest Regression with Multi-Source Data: A Case Study in Bangladesh",
           58,
           81
          ],
          [
           "The geography of poverty: Review and research prospects",
           161,
           66
          ],
          [
           "Constrained inference through posterior projections",
           46,
           13
          ],
          [
           "Model‐based county level crop estimates incorporating auxiliary sources of information",
           43,
           24
          ],
          [
           "Comparing multilevel and multiscale convolution models for small area aggregated health data.",
           44,
           3
          ],
          [
           "Sparsity information and regularization in the horseshoe and other shrinkage priors",
           40,
           253
          ],
          [
           "Places in Need: The Changing Geography of Poverty",
           0,
           73
          ],
          [
           "Constructing sociodemographic indicators for national statistical institutes by using mobile phone data: estimating literacy rates in Senegal",
           61,
           47
          ],
          [
           "Spatio-temporal patterns of rural poverty in China and targeted poverty alleviation strategies",
           108,
           280
          ],
          [
           "Benchmarking techniques for reconciling Bayesian small area models at distinct geographic levels",
           22,
           2
          ],
          [
           "Mapping poverty using mobile phone and satellite data",
           95,
           226
          ],
          [
           "Stan: A Probabilistic Programming Language.",
           58,
           5130
          ],
          [
           "Practical Bayesian model evaluation using leave-one-out cross-validation and WAIC",
           32,
           89
          ],
          [
           "Combining satellite imagery and machine learning to predict poverty",
           35,
           1113
          ],
          [
           "Multiscale measurement error models for aggregated small area health data",
           31,
           6
          ],
          [
           "Encyclopedia of Quality of Life and Well-being Research",
           0,
           794
          ],
          [
           "Impact of flood disasters in Bangladesh: A multi-sector regional analysis",
           20,
           28
          ],
          [
           "Benchmarked empirical Bayes methods in multiplicative area-level models with risk evaluation",
           26,
           18
          ],
          [
           "Practical Bayesian model evaluation using leave-one-out cross-validation and WAIC",
           43,
           2729
          ],
          [
           "Do Poverty Traps Exist? Assessing the Evidence",
           66,
           230
          ],
          [
           "Small area estimation of general parameters with application to poverty indicators: A hierarchical Bayes approach",
           32,
           95
          ],
          [
           "On small area estimation under a sub-area level model",
           22,
           27
          ],
          [
           "Poverty Reduction During the Rural-Urban Transformation: The Role of the Missing Middle",
           31,
           139
          ],
          [
           "Benchmarking small area estimators",
           27,
           41
          ],
          [
           "A systematic review of Demographic and Health Surveys: data availability and utilization for research.",
           32,
           157
          ],
          [
           "Bayesian benchmarking with applications to small area estimation",
           27,
           73
          ],
          [
           "Evaluation of the Effectiveness of Water Management Policies in Bangladesh",
           29,
           24
          ],
          [
           "Multiscale Statistical Models for Hierarchical Spatial Aggregation",
           31,
           39
          ],
          [
           "A multiscale method for disease mapping in spatial epidemiology",
           29,
           33
          ],
          [
           "Spatial patterns of rural poverty and their relationship with welfare-influencing factors in Bangladesh",
           25,
           69
          ],
          [
           "On the optimality of conditional expectation as a Bregman predictor",
           26,
           253
          ],
          [
           "Decentralized targeting of an antipoverty program",
           36,
           448
          ],
          [
           "Poverty Alleviation Through Geographic Targeting: How Much Does Disaggregation Help?",
           21,
           224
          ],
          [
           "Beta Regression for Modelling Rates and Proportions",
           29,
           2231
          ],
          [
           "Bayesian Inference on Order‐Constrained Parameters in Generalized Linear Models",
           27,
           86
          ],
          [
           "From start to finish.",
           0,
           12
          ],
          [
           "On criteria for measures of compositional difference",
           6,
           209
          ],
          [
           "Extended beta models for poverty mapping. an application integrating survey and remote sensing data in Bangladesh",
           null,
           0
          ],
          [
           "Smallholder farmers’ willingness to pay for flood insurance as climate change adaptation strategy in northern bangladesh",
           null,
           0
          ],
          [
           "Constrained Bayesian Inference through Posterior Projection with Applications",
           0,
           2
          ],
          [
           "Poverty Mapping for the Chilean Comunas",
           20,
           29
          ],
          [
           "Introduction on Measuring Poverty at Local Level Using Small Area Estimation Methods",
           37,
           17
          ],
          [
           "Hierarchical beta regression models for the estimation of poverty and inequality parameters in small areas. Analysis of Poverty Data by Small Area Methods",
           null,
           0
          ],
          [
           "Hierarchical Bayes Modeling of Survey-Weighted Small Area Proportions",
           42,
           47
          ],
          [
           "Small Area Estimation",
           0,
           894
          ],
          [
           "Spatial maps. targeting & mapping poverty. London: United Nations. Economic Commission for Africa",
           null,
           0
          ],
          [
           "Geographical Targeting for Poverty Alleviation: An Introduction to the Special Issue",
           28,
           154
          ],
          [
           "Discussion of ‘an essay on the logical foundations of survey sampling, part i",
           null,
           0
          ]
         ],
         "hovertemplate": "publicationDate=%{x}<br>venue=%{y}<br>citationCount=%{marker.color}<br>title=%{customdata[0]}<br>referenceCount=%{customdata[1]}<extra></extra>",
         "legendgroup": "",
         "marker": {
          "color": [
           2,
           1,
           2,
           1,
           2,
           10,
           12,
           2,
           10,
           8,
           69,
           81,
           66,
           13,
           24,
           3,
           253,
           73,
           47,
           280,
           2,
           226,
           5130,
           89,
           1113,
           6,
           794,
           28,
           18,
           2729,
           230,
           95,
           27,
           139,
           41,
           157,
           73,
           24,
           39,
           33,
           69,
           253,
           448,
           224,
           2231,
           86,
           12,
           209,
           0,
           0,
           2,
           29,
           17,
           0,
           47,
           894,
           0,
           154,
           0
          ],
          "coloraxis": "coloraxis",
          "size": [
           2,
           1,
           2,
           1,
           2,
           10,
           12,
           2,
           10,
           8,
           69,
           81,
           66,
           13,
           24,
           3,
           253,
           73,
           47,
           280,
           2,
           226,
           5130,
           89,
           1113,
           6,
           794,
           28,
           18,
           2729,
           230,
           95,
           27,
           139,
           41,
           157,
           73,
           24,
           39,
           33,
           69,
           253,
           448,
           224,
           2231,
           86,
           12,
           209,
           0,
           0,
           2,
           29,
           17,
           0,
           47,
           894,
           0,
           154,
           0
          ],
          "sizemode": "area",
          "sizeref": 0.8015625,
          "symbol": "circle"
         },
         "mode": "markers",
         "name": "",
         "orientation": "v",
         "showlegend": false,
         "type": "scatter",
         "x": [
          "2023-02-01",
          "2022-12-01",
          "2022-06-16",
          "2022-03-23",
          "2021-12-13",
          "2021-11-13",
          "2021-04-01",
          "2020-06-18",
          "2020-05-02",
          "2020-03-01",
          "2019-09-12",
          "2019-02-13",
          "2019-02-01",
          "2018-12-14",
          "2018-07-13",
          "2017-08-01",
          "2017-07-01",
          "2017-06-20",
          "2017-05-22",
          "2017-05-01",
          "2017-03-24",
          "2017-02-01",
          "2017-01-11",
          "2016-08-30",
          "2016-08-19",
          "2016-08-01",
          "2015-09-23",
          "2015-09-01",
          "2015-09-01",
          "2015-07-16",
          "2014-08-01",
          "2014-06-01",
          "2014-05-01",
          "2013-05-01",
          "2013-03-01",
          "2012-08-01",
          "2011-11-01",
          "2011-04-21",
          "2010-09-03",
          "2006-04-30",
          "2005-10-01",
          "2005-07-01",
          "2005-04-01",
          "2004-10-01",
          "2004-08-01",
          "2003-06-01",
          "1995-10-04",
          "1992-05-01",
          null,
          null,
          null,
          null,
          null,
          null,
          null,
          null,
          null,
          null,
          null
         ],
         "xaxis": "x",
         "y": [
          "Journal of International Development",
          "Journal of the Royal Statistical Society: Series A (Statistics in Society)",
          "",
          "",
          "Annals of Applied Statistics",
          "The Review of Income and Wealth",
          "",
          "Journal of Applied Statistics",
          "Communications in Statistics - Theory and Methods",
          "Journal of Official Statistics",
          "Social Indicators Research",
          "Remote Sensing",
          "Journal of Rural Studies",
          "",
          "Journal of the Royal Statistical Society: Series A (Statistics in Society)",
          "Spatial and Spatio-temporal Epidemiology",
          "",
          "",
          "",
          "",
          "Stat. Methods Appl.",
          "Journal of the Royal Society Interface",
          "Journal of Statistical Software",
          "Statistics and computing",
          "Science",
          "Statistical Methods in Medical Research",
          "",
          "",
          "",
          "Statistics and computing",
          "",
          "",
          "Journal of Multivariate Analysis",
          "",
          "",
          "Bulletin of the World Health Organization",
          "",
          "",
          "",
          "Statistics in Medicine",
          "",
          "IEEE Transactions on Information Theory",
          "",
          "",
          "",
          "Biometrics",
          "Nursing Times",
          "",
          "In Quaderni di Dipartimento. Serie Ricerche",
          "Journal of Cleaner Production,",
          "",
          "",
          "",
          "",
          "",
          "International Encyclopedia of Statistical Science",
          "",
          "",
          "by d. basu. Foundations of Statistical Inference,"
         ],
         "yaxis": "y"
        },
        {
         "alignmentgroup": "True",
         "bingroup": "x",
         "hovertemplate": "publicationDate=%{x}<br>count=%{y}<extra></extra>",
         "legendgroup": "",
         "marker": {
          "color": "#0d0887"
         },
         "name": "",
         "offsetgroup": "",
         "opacity": 0.5,
         "showlegend": false,
         "type": "histogram",
         "x": [
          "2023-02-01",
          "2022-12-01",
          "2022-06-16",
          "2022-03-23",
          "2021-12-13",
          "2021-11-13",
          "2021-04-01",
          "2020-06-18",
          "2020-05-02",
          "2020-03-01",
          "2019-09-12",
          "2019-02-13",
          "2019-02-01",
          "2018-12-14",
          "2018-07-13",
          "2017-08-01",
          "2017-07-01",
          "2017-06-20",
          "2017-05-22",
          "2017-05-01",
          "2017-03-24",
          "2017-02-01",
          "2017-01-11",
          "2016-08-30",
          "2016-08-19",
          "2016-08-01",
          "2015-09-23",
          "2015-09-01",
          "2015-09-01",
          "2015-07-16",
          "2014-08-01",
          "2014-06-01",
          "2014-05-01",
          "2013-05-01",
          "2013-03-01",
          "2012-08-01",
          "2011-11-01",
          "2011-04-21",
          "2010-09-03",
          "2006-04-30",
          "2005-10-01",
          "2005-07-01",
          "2005-04-01",
          "2004-10-01",
          "2004-08-01",
          "2003-06-01",
          "1995-10-04",
          "1992-05-01",
          null,
          null,
          null,
          null,
          null,
          null,
          null,
          null,
          null,
          null,
          null
         ],
         "xaxis": "x2",
         "yaxis": "y2"
        }
       ],
       "layout": {
        "barmode": "overlay",
        "coloraxis": {
         "colorbar": {
          "title": {
           "text": "citationCount"
          }
         },
         "colorscale": [
          [
           0,
           "#0d0887"
          ],
          [
           0.1111111111111111,
           "#46039f"
          ],
          [
           0.2222222222222222,
           "#7201a8"
          ],
          [
           0.3333333333333333,
           "#9c179e"
          ],
          [
           0.4444444444444444,
           "#bd3786"
          ],
          [
           0.5555555555555556,
           "#d8576b"
          ],
          [
           0.6666666666666666,
           "#ed7953"
          ],
          [
           0.7777777777777778,
           "#fb9f3a"
          ],
          [
           0.8888888888888888,
           "#fdca26"
          ],
          [
           1,
           "#f0f921"
          ]
         ]
        },
        "legend": {
         "itemsizing": "constant",
         "tracegroupgap": 0
        },
        "template": {
         "data": {
          "bar": [
           {
            "error_x": {
             "color": "#2a3f5f"
            },
            "error_y": {
             "color": "#2a3f5f"
            },
            "marker": {
             "line": {
              "color": "#E5ECF6",
              "width": 0.5
             },
             "pattern": {
              "fillmode": "overlay",
              "size": 10,
              "solidity": 0.2
             }
            },
            "type": "bar"
           }
          ],
          "barpolar": [
           {
            "marker": {
             "line": {
              "color": "#E5ECF6",
              "width": 0.5
             },
             "pattern": {
              "fillmode": "overlay",
              "size": 10,
              "solidity": 0.2
             }
            },
            "type": "barpolar"
           }
          ],
          "carpet": [
           {
            "aaxis": {
             "endlinecolor": "#2a3f5f",
             "gridcolor": "white",
             "linecolor": "white",
             "minorgridcolor": "white",
             "startlinecolor": "#2a3f5f"
            },
            "baxis": {
             "endlinecolor": "#2a3f5f",
             "gridcolor": "white",
             "linecolor": "white",
             "minorgridcolor": "white",
             "startlinecolor": "#2a3f5f"
            },
            "type": "carpet"
           }
          ],
          "choropleth": [
           {
            "colorbar": {
             "outlinewidth": 0,
             "ticks": ""
            },
            "type": "choropleth"
           }
          ],
          "contour": [
           {
            "colorbar": {
             "outlinewidth": 0,
             "ticks": ""
            },
            "colorscale": [
             [
              0,
              "#0d0887"
             ],
             [
              0.1111111111111111,
              "#46039f"
             ],
             [
              0.2222222222222222,
              "#7201a8"
             ],
             [
              0.3333333333333333,
              "#9c179e"
             ],
             [
              0.4444444444444444,
              "#bd3786"
             ],
             [
              0.5555555555555556,
              "#d8576b"
             ],
             [
              0.6666666666666666,
              "#ed7953"
             ],
             [
              0.7777777777777778,
              "#fb9f3a"
             ],
             [
              0.8888888888888888,
              "#fdca26"
             ],
             [
              1,
              "#f0f921"
             ]
            ],
            "type": "contour"
           }
          ],
          "contourcarpet": [
           {
            "colorbar": {
             "outlinewidth": 0,
             "ticks": ""
            },
            "type": "contourcarpet"
           }
          ],
          "heatmap": [
           {
            "colorbar": {
             "outlinewidth": 0,
             "ticks": ""
            },
            "colorscale": [
             [
              0,
              "#0d0887"
             ],
             [
              0.1111111111111111,
              "#46039f"
             ],
             [
              0.2222222222222222,
              "#7201a8"
             ],
             [
              0.3333333333333333,
              "#9c179e"
             ],
             [
              0.4444444444444444,
              "#bd3786"
             ],
             [
              0.5555555555555556,
              "#d8576b"
             ],
             [
              0.6666666666666666,
              "#ed7953"
             ],
             [
              0.7777777777777778,
              "#fb9f3a"
             ],
             [
              0.8888888888888888,
              "#fdca26"
             ],
             [
              1,
              "#f0f921"
             ]
            ],
            "type": "heatmap"
           }
          ],
          "heatmapgl": [
           {
            "colorbar": {
             "outlinewidth": 0,
             "ticks": ""
            },
            "colorscale": [
             [
              0,
              "#0d0887"
             ],
             [
              0.1111111111111111,
              "#46039f"
             ],
             [
              0.2222222222222222,
              "#7201a8"
             ],
             [
              0.3333333333333333,
              "#9c179e"
             ],
             [
              0.4444444444444444,
              "#bd3786"
             ],
             [
              0.5555555555555556,
              "#d8576b"
             ],
             [
              0.6666666666666666,
              "#ed7953"
             ],
             [
              0.7777777777777778,
              "#fb9f3a"
             ],
             [
              0.8888888888888888,
              "#fdca26"
             ],
             [
              1,
              "#f0f921"
             ]
            ],
            "type": "heatmapgl"
           }
          ],
          "histogram": [
           {
            "marker": {
             "pattern": {
              "fillmode": "overlay",
              "size": 10,
              "solidity": 0.2
             }
            },
            "type": "histogram"
           }
          ],
          "histogram2d": [
           {
            "colorbar": {
             "outlinewidth": 0,
             "ticks": ""
            },
            "colorscale": [
             [
              0,
              "#0d0887"
             ],
             [
              0.1111111111111111,
              "#46039f"
             ],
             [
              0.2222222222222222,
              "#7201a8"
             ],
             [
              0.3333333333333333,
              "#9c179e"
             ],
             [
              0.4444444444444444,
              "#bd3786"
             ],
             [
              0.5555555555555556,
              "#d8576b"
             ],
             [
              0.6666666666666666,
              "#ed7953"
             ],
             [
              0.7777777777777778,
              "#fb9f3a"
             ],
             [
              0.8888888888888888,
              "#fdca26"
             ],
             [
              1,
              "#f0f921"
             ]
            ],
            "type": "histogram2d"
           }
          ],
          "histogram2dcontour": [
           {
            "colorbar": {
             "outlinewidth": 0,
             "ticks": ""
            },
            "colorscale": [
             [
              0,
              "#0d0887"
             ],
             [
              0.1111111111111111,
              "#46039f"
             ],
             [
              0.2222222222222222,
              "#7201a8"
             ],
             [
              0.3333333333333333,
              "#9c179e"
             ],
             [
              0.4444444444444444,
              "#bd3786"
             ],
             [
              0.5555555555555556,
              "#d8576b"
             ],
             [
              0.6666666666666666,
              "#ed7953"
             ],
             [
              0.7777777777777778,
              "#fb9f3a"
             ],
             [
              0.8888888888888888,
              "#fdca26"
             ],
             [
              1,
              "#f0f921"
             ]
            ],
            "type": "histogram2dcontour"
           }
          ],
          "mesh3d": [
           {
            "colorbar": {
             "outlinewidth": 0,
             "ticks": ""
            },
            "type": "mesh3d"
           }
          ],
          "parcoords": [
           {
            "line": {
             "colorbar": {
              "outlinewidth": 0,
              "ticks": ""
             }
            },
            "type": "parcoords"
           }
          ],
          "pie": [
           {
            "automargin": true,
            "type": "pie"
           }
          ],
          "scatter": [
           {
            "fillpattern": {
             "fillmode": "overlay",
             "size": 10,
             "solidity": 0.2
            },
            "type": "scatter"
           }
          ],
          "scatter3d": [
           {
            "line": {
             "colorbar": {
              "outlinewidth": 0,
              "ticks": ""
             }
            },
            "marker": {
             "colorbar": {
              "outlinewidth": 0,
              "ticks": ""
             }
            },
            "type": "scatter3d"
           }
          ],
          "scattercarpet": [
           {
            "marker": {
             "colorbar": {
              "outlinewidth": 0,
              "ticks": ""
             }
            },
            "type": "scattercarpet"
           }
          ],
          "scattergeo": [
           {
            "marker": {
             "colorbar": {
              "outlinewidth": 0,
              "ticks": ""
             }
            },
            "type": "scattergeo"
           }
          ],
          "scattergl": [
           {
            "marker": {
             "colorbar": {
              "outlinewidth": 0,
              "ticks": ""
             }
            },
            "type": "scattergl"
           }
          ],
          "scattermapbox": [
           {
            "marker": {
             "colorbar": {
              "outlinewidth": 0,
              "ticks": ""
             }
            },
            "type": "scattermapbox"
           }
          ],
          "scatterpolar": [
           {
            "marker": {
             "colorbar": {
              "outlinewidth": 0,
              "ticks": ""
             }
            },
            "type": "scatterpolar"
           }
          ],
          "scatterpolargl": [
           {
            "marker": {
             "colorbar": {
              "outlinewidth": 0,
              "ticks": ""
             }
            },
            "type": "scatterpolargl"
           }
          ],
          "scatterternary": [
           {
            "marker": {
             "colorbar": {
              "outlinewidth": 0,
              "ticks": ""
             }
            },
            "type": "scatterternary"
           }
          ],
          "surface": [
           {
            "colorbar": {
             "outlinewidth": 0,
             "ticks": ""
            },
            "colorscale": [
             [
              0,
              "#0d0887"
             ],
             [
              0.1111111111111111,
              "#46039f"
             ],
             [
              0.2222222222222222,
              "#7201a8"
             ],
             [
              0.3333333333333333,
              "#9c179e"
             ],
             [
              0.4444444444444444,
              "#bd3786"
             ],
             [
              0.5555555555555556,
              "#d8576b"
             ],
             [
              0.6666666666666666,
              "#ed7953"
             ],
             [
              0.7777777777777778,
              "#fb9f3a"
             ],
             [
              0.8888888888888888,
              "#fdca26"
             ],
             [
              1,
              "#f0f921"
             ]
            ],
            "type": "surface"
           }
          ],
          "table": [
           {
            "cells": {
             "fill": {
              "color": "#EBF0F8"
             },
             "line": {
              "color": "white"
             }
            },
            "header": {
             "fill": {
              "color": "#C8D4E3"
             },
             "line": {
              "color": "white"
             }
            },
            "type": "table"
           }
          ]
         },
         "layout": {
          "annotationdefaults": {
           "arrowcolor": "#2a3f5f",
           "arrowhead": 0,
           "arrowwidth": 1
          },
          "autotypenumbers": "strict",
          "coloraxis": {
           "colorbar": {
            "outlinewidth": 0,
            "ticks": ""
           }
          },
          "colorscale": {
           "diverging": [
            [
             0,
             "#8e0152"
            ],
            [
             0.1,
             "#c51b7d"
            ],
            [
             0.2,
             "#de77ae"
            ],
            [
             0.3,
             "#f1b6da"
            ],
            [
             0.4,
             "#fde0ef"
            ],
            [
             0.5,
             "#f7f7f7"
            ],
            [
             0.6,
             "#e6f5d0"
            ],
            [
             0.7,
             "#b8e186"
            ],
            [
             0.8,
             "#7fbc41"
            ],
            [
             0.9,
             "#4d9221"
            ],
            [
             1,
             "#276419"
            ]
           ],
           "sequential": [
            [
             0,
             "#0d0887"
            ],
            [
             0.1111111111111111,
             "#46039f"
            ],
            [
             0.2222222222222222,
             "#7201a8"
            ],
            [
             0.3333333333333333,
             "#9c179e"
            ],
            [
             0.4444444444444444,
             "#bd3786"
            ],
            [
             0.5555555555555556,
             "#d8576b"
            ],
            [
             0.6666666666666666,
             "#ed7953"
            ],
            [
             0.7777777777777778,
             "#fb9f3a"
            ],
            [
             0.8888888888888888,
             "#fdca26"
            ],
            [
             1,
             "#f0f921"
            ]
           ],
           "sequentialminus": [
            [
             0,
             "#0d0887"
            ],
            [
             0.1111111111111111,
             "#46039f"
            ],
            [
             0.2222222222222222,
             "#7201a8"
            ],
            [
             0.3333333333333333,
             "#9c179e"
            ],
            [
             0.4444444444444444,
             "#bd3786"
            ],
            [
             0.5555555555555556,
             "#d8576b"
            ],
            [
             0.6666666666666666,
             "#ed7953"
            ],
            [
             0.7777777777777778,
             "#fb9f3a"
            ],
            [
             0.8888888888888888,
             "#fdca26"
            ],
            [
             1,
             "#f0f921"
            ]
           ]
          },
          "colorway": [
           "#636efa",
           "#EF553B",
           "#00cc96",
           "#ab63fa",
           "#FFA15A",
           "#19d3f3",
           "#FF6692",
           "#B6E880",
           "#FF97FF",
           "#FECB52"
          ],
          "font": {
           "color": "#2a3f5f"
          },
          "geo": {
           "bgcolor": "white",
           "lakecolor": "white",
           "landcolor": "#E5ECF6",
           "showlakes": true,
           "showland": true,
           "subunitcolor": "white"
          },
          "hoverlabel": {
           "align": "left"
          },
          "hovermode": "closest",
          "mapbox": {
           "style": "light"
          },
          "paper_bgcolor": "white",
          "plot_bgcolor": "#E5ECF6",
          "polar": {
           "angularaxis": {
            "gridcolor": "white",
            "linecolor": "white",
            "ticks": ""
           },
           "bgcolor": "#E5ECF6",
           "radialaxis": {
            "gridcolor": "white",
            "linecolor": "white",
            "ticks": ""
           }
          },
          "scene": {
           "xaxis": {
            "backgroundcolor": "#E5ECF6",
            "gridcolor": "white",
            "gridwidth": 2,
            "linecolor": "white",
            "showbackground": true,
            "ticks": "",
            "zerolinecolor": "white"
           },
           "yaxis": {
            "backgroundcolor": "#E5ECF6",
            "gridcolor": "white",
            "gridwidth": 2,
            "linecolor": "white",
            "showbackground": true,
            "ticks": "",
            "zerolinecolor": "white"
           },
           "zaxis": {
            "backgroundcolor": "#E5ECF6",
            "gridcolor": "white",
            "gridwidth": 2,
            "linecolor": "white",
            "showbackground": true,
            "ticks": "",
            "zerolinecolor": "white"
           }
          },
          "shapedefaults": {
           "line": {
            "color": "#2a3f5f"
           }
          },
          "ternary": {
           "aaxis": {
            "gridcolor": "white",
            "linecolor": "white",
            "ticks": ""
           },
           "baxis": {
            "gridcolor": "white",
            "linecolor": "white",
            "ticks": ""
           },
           "bgcolor": "#E5ECF6",
           "caxis": {
            "gridcolor": "white",
            "linecolor": "white",
            "ticks": ""
           }
          },
          "title": {
           "x": 0.05
          },
          "xaxis": {
           "automargin": true,
           "gridcolor": "white",
           "linecolor": "white",
           "ticks": "",
           "title": {
            "standoff": 15
           },
           "zerolinecolor": "white",
           "zerolinewidth": 2
          },
          "yaxis": {
           "automargin": true,
           "gridcolor": "white",
           "linecolor": "white",
           "ticks": "",
           "title": {
            "standoff": 15
           },
           "zerolinecolor": "white",
           "zerolinewidth": 2
          }
         }
        },
        "title": {
         "text": "Paper: Mapping poverty at multiple geographical scales (2023)"
        },
        "xaxis": {
         "anchor": "y",
         "domain": [
          0,
          1
         ],
         "title": {
          "text": "publicationDate"
         }
        },
        "xaxis2": {
         "anchor": "y2",
         "domain": [
          0,
          1
         ],
         "matches": "x",
         "showgrid": true,
         "showticklabels": false
        },
        "yaxis": {
         "anchor": "x",
         "domain": [
          0,
          0.7326
         ],
         "title": {
          "text": "venue"
         }
        },
        "yaxis2": {
         "anchor": "x2",
         "domain": [
          0.7426,
          1
         ],
         "matches": "y2",
         "showgrid": true,
         "showline": false,
         "showticklabels": false,
         "ticks": ""
        }
       }
      }
     },
     "metadata": {},
     "output_type": "display_data"
    }
   ],
   "source": [
    "fig = px.scatter(\n",
    "    df,\n",
    "    x=\"publicationDate\",\n",
    "    y=\"venue\",\n",
    "    # size=\"binning\",\n",
    "    size=\"citationCount\",\n",
    "    size_max=80,\n",
    "    color=\"citationCount\",\n",
    "    marginal_x=\"histogram\",\n",
    "    title=f\"Paper: {paper.title} ({paper.year})\",\n",
    "    hover_data=[\"title\", \"referenceCount\", \"citationCount\"],\n",
    ")\n",
    "fig.show()"
   ]
  },
  {
   "cell_type": "code",
   "execution_count": 96,
   "metadata": {},
   "outputs": [
    {
     "data": {
      "text/plain": [
       "<Axes: >"
      ]
     },
     "execution_count": 96,
     "metadata": {},
     "output_type": "execute_result"
    },
    {
     "data": {
      "image/png": "[encoded data removed]",
      "text/plain": [
       "<Figure size 640x480 with 1 Axes>"
      ]
     },
     "metadata": {},
     "output_type": "display_data"
    }
   ],
   "source": [
    "df[\"citationCount\"].hist()"
   ]
  },
  {
   "cell_type": "code",
   "execution_count": 49,
   "metadata": {},
   "outputs": [
    {
     "data": {
      "text/plain": [
       "['paperId',\n",
       " 'externalIds',\n",
       " 'corpusId',\n",
       " 'publicationVenue',\n",
       " 'url',\n",
       " 'title',\n",
       " 'abstract',\n",
       " 'venue',\n",
       " 'year',\n",
       " 'referenceCount',\n",
       " 'citationCount',\n",
       " 'influentialCitationCount',\n",
       " 'isOpenAccess',\n",
       " 'openAccessPdf',\n",
       " 'fieldsOfStudy',\n",
       " 's2FieldsOfStudy',\n",
       " 'embedding',\n",
       " 'tldr',\n",
       " 'publicationTypes',\n",
       " 'publicationDate',\n",
       " 'journal',\n",
       " 'authors',\n",
       " 'citations',\n",
       " 'references']"
      ]
     },
     "execution_count": 49,
     "metadata": {},
     "output_type": "execute_result"
    }
   ],
   "source": [
    "[x for x in paper.keys()]"
   ]
  }
 ],
 "metadata": {
  "kernelspec": {
   "display_name": "paper-analysis-RNeKgHHX",
   "language": "python",
   "name": "python3"
  },
  "language_info": {
   "codemirror_mode": {
    "name": "ipython",
    "version": 3
   },
   "file_extension": ".py",
   "mimetype": "text/x-python",
   "name": "python",
   "nbconvert_exporter": "python",
   "pygments_lexer": "ipython3",
   "version": "3.10.11"
  },
  "orig_nbformat": 4
 },
 "nbformat": 4,
 "nbformat_minor": 2
}
