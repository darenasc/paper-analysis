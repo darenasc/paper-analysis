{
 "cells": [
  {
   "cell_type": "code",
   "execution_count": 1,
   "metadata": {},
   "outputs": [],
   "source": [
    "import pandas as pd\n",
    "import plotly.express as px\n",
    "import requests\n",
    "from semanticscholar import SemanticScholar\n",
    "\n",
    "from paper_analysis import semantic_scholar as s2"
   ]
  },
  {
   "cell_type": "code",
   "execution_count": 2,
   "metadata": {},
   "outputs": [],
   "source": [
    "paper_id = s2.get_id_from_url(\n",
    "    \"https://www.semanticscholar.org/paper/Mapping-poverty-at-multiple-geographical-scales-Nicolò-Fabrizi/f24dc845602d5b395b3c33697e6edcf29ad5776a\"\n",
    ")"
   ]
  },
  {
   "cell_type": "code",
   "execution_count": 3,
   "metadata": {},
   "outputs": [],
   "source": [
    "paper = s2.get_paper_from_id(paper_id=paper_id)"
   ]
  },
  {
   "cell_type": "code",
   "execution_count": 2,
   "metadata": {},
   "outputs": [
    {
     "data": {
      "text/plain": [
       "'Mapping poverty at multiple geographical scales'"
      ]
     },
     "execution_count": 2,
     "metadata": {},
     "output_type": "execute_result"
    }
   ],
   "source": [
    "sch = SemanticScholar()\n",
    "paper = sch.get_paper(\"f24dc845602d5b395b3c33697e6edcf29ad5776a\")\n",
    "paper.title"
   ]
  },
  {
   "cell_type": "code",
   "execution_count": 4,
   "metadata": {},
   "outputs": [
    {
     "name": "stdout",
     "output_type": "stream",
     "text": [
      "['paperId', 'externalIds', 'corpusId', 'publicationVenue', 'url', 'title', 'abstract', 'venue', 'year', 'referenceCount', 'citationCount', 'influentialCitationCount', 'isOpenAccess', 'openAccessPdf', 'fieldsOfStudy', 's2FieldsOfStudy', 'publicationTypes', 'publicationDate', 'journal', 'citationStyles', 'authors']\n"
     ]
    },
    {
     "data": {
      "text/html": [
       "<div>\n",
       "<style scoped>\n",
       "    .dataframe tbody tr th:only-of-type {\n",
       "        vertical-align: middle;\n",
       "    }\n",
       "\n",
       "    .dataframe tbody tr th {\n",
       "        vertical-align: top;\n",
       "    }\n",
       "\n",
       "    .dataframe thead th {\n",
       "        text-align: right;\n",
       "    }\n",
       "</style>\n",
       "<table border=\"1\" class=\"dataframe\">\n",
       "  <thead>\n",
       "    <tr style=\"text-align: right;\">\n",
       "      <th></th>\n",
       "      <th>paperId</th>\n",
       "      <th>title</th>\n",
       "      <th>url</th>\n",
       "      <th>publicationDate</th>\n",
       "      <th>venue</th>\n",
       "      <th>publication_venue_type</th>\n",
       "      <th>referenceCount</th>\n",
       "      <th>citationCount</th>\n",
       "      <th>binning</th>\n",
       "    </tr>\n",
       "  </thead>\n",
       "  <tbody>\n",
       "    <tr>\n",
       "      <th>0</th>\n",
       "      <td>90405063133184d0ad29b426feb490ece0ce83b9</td>\n",
       "      <td>A review of machine learning and satellite ima...</td>\n",
       "      <td>https://www.semanticscholar.org/paper/90405063...</td>\n",
       "      <td>2023-02-01</td>\n",
       "      <td>Journal of International Development</td>\n",
       "      <td>journal</td>\n",
       "      <td>37.0</td>\n",
       "      <td>2.0</td>\n",
       "      <td>1</td>\n",
       "    </tr>\n",
       "    <tr>\n",
       "      <th>1</th>\n",
       "      <td>830d29d57e9c54bff7803aa52b00dc56535b4470</td>\n",
       "      <td>Multivariate mixture model for small area esti...</td>\n",
       "      <td>https://www.semanticscholar.org/paper/830d29d5...</td>\n",
       "      <td>2022-12-01</td>\n",
       "      <td>Journal of the Royal Statistical Society: Seri...</td>\n",
       "      <td>None</td>\n",
       "      <td>27.0</td>\n",
       "      <td>1.0</td>\n",
       "      <td>1</td>\n",
       "    </tr>\n",
       "    <tr>\n",
       "      <th>2</th>\n",
       "      <td>d253b41297e7ec43cec7f02401196125188e0824</td>\n",
       "      <td>Guidelines to Small Area Estimation for Povert...</td>\n",
       "      <td>https://www.semanticscholar.org/paper/d253b412...</td>\n",
       "      <td>2022-06-16</td>\n",
       "      <td></td>\n",
       "      <td>None</td>\n",
       "      <td>0.0</td>\n",
       "      <td>2.0</td>\n",
       "      <td>1</td>\n",
       "    </tr>\n",
       "    <tr>\n",
       "      <th>3</th>\n",
       "      <td>2c36a2514c98f47483a40c5152b337a2bc4450c0</td>\n",
       "      <td>A Computationally Efficient Approach to Fully ...</td>\n",
       "      <td>https://www.semanticscholar.org/paper/2c36a251...</td>\n",
       "      <td>2022-03-23</td>\n",
       "      <td></td>\n",
       "      <td>None</td>\n",
       "      <td>0.0</td>\n",
       "      <td>1.0</td>\n",
       "      <td>1</td>\n",
       "    </tr>\n",
       "    <tr>\n",
       "      <th>4</th>\n",
       "      <td>3bba63cd7b14cdcd458a4fa6be8c78d2582cd65c</td>\n",
       "      <td>Accounting for survey design in Bayesian disag...</td>\n",
       "      <td>https://www.semanticscholar.org/paper/3bba63cd...</td>\n",
       "      <td>2021-12-13</td>\n",
       "      <td>Annals of Applied Statistics</td>\n",
       "      <td>journal</td>\n",
       "      <td>51.0</td>\n",
       "      <td>2.0</td>\n",
       "      <td>1</td>\n",
       "    </tr>\n",
       "  </tbody>\n",
       "</table>\n",
       "</div>"
      ],
      "text/plain": [
       "                                    paperId  \\\n",
       "0  90405063133184d0ad29b426feb490ece0ce83b9   \n",
       "1  830d29d57e9c54bff7803aa52b00dc56535b4470   \n",
       "2  d253b41297e7ec43cec7f02401196125188e0824   \n",
       "3  2c36a2514c98f47483a40c5152b337a2bc4450c0   \n",
       "4  3bba63cd7b14cdcd458a4fa6be8c78d2582cd65c   \n",
       "\n",
       "                                               title  \\\n",
       "0  A review of machine learning and satellite ima...   \n",
       "1  Multivariate mixture model for small area esti...   \n",
       "2  Guidelines to Small Area Estimation for Povert...   \n",
       "3  A Computationally Efficient Approach to Fully ...   \n",
       "4  Accounting for survey design in Bayesian disag...   \n",
       "\n",
       "                                                 url publicationDate  \\\n",
       "0  https://www.semanticscholar.org/paper/90405063...      2023-02-01   \n",
       "1  https://www.semanticscholar.org/paper/830d29d5...      2022-12-01   \n",
       "2  https://www.semanticscholar.org/paper/d253b412...      2022-06-16   \n",
       "3  https://www.semanticscholar.org/paper/2c36a251...      2022-03-23   \n",
       "4  https://www.semanticscholar.org/paper/3bba63cd...      2021-12-13   \n",
       "\n",
       "                                               venue publication_venue_type  \\\n",
       "0               Journal of International Development                journal   \n",
       "1  Journal of the Royal Statistical Society: Seri...                   None   \n",
       "2                                                                      None   \n",
       "3                                                                      None   \n",
       "4                       Annals of Applied Statistics                journal   \n",
       "\n",
       "   referenceCount  citationCount  binning  \n",
       "0            37.0            2.0        1  \n",
       "1            27.0            1.0        1  \n",
       "2             0.0            2.0        1  \n",
       "3             0.0            1.0        1  \n",
       "4            51.0            2.0        1  "
      ]
     },
     "execution_count": 4,
     "metadata": {},
     "output_type": "execute_result"
    }
   ],
   "source": [
    "def get_references(references: list) -> list:\n",
    "    data = []\n",
    "    for ref in references:\n",
    "        if ref[\"publicationVenue\"]:\n",
    "            if ref[\"publicationVenue\"][\"type\"]:\n",
    "                publication_venue_type = ref[\"publicationVenue\"][\"type\"]\n",
    "        else:\n",
    "            publication_venue_type = None\n",
    "        data.append(\n",
    "            (\n",
    "                ref[\"paperId\"],\n",
    "                ref[\"title\"],\n",
    "                ref[\"url\"],\n",
    "                ref[\"publicationDate\"],\n",
    "                ref[\"venue\"],\n",
    "                publication_venue_type,\n",
    "                ref[\"referenceCount\"],\n",
    "                ref[\"citationCount\"],\n",
    "            )\n",
    "        )\n",
    "    return data\n",
    "\n",
    "\n",
    "print([k for k in paper.references[0].keys()])\n",
    "data = get_references(paper.references)\n",
    "df = pd.DataFrame(\n",
    "    data,\n",
    "    columns=[\n",
    "        \"paperId\",\n",
    "        \"title\",\n",
    "        \"url\",\n",
    "        \"publicationDate\",\n",
    "        \"venue\",\n",
    "        \"publication_venue_type\",\n",
    "        \"referenceCount\",\n",
    "        \"citationCount\",\n",
    "    ],\n",
    ")\n",
    "df.citationCount = df.citationCount.fillna(0)\n",
    "df[\"binning\"] = pd.qcut(df.citationCount, 8, labels=False)\n",
    "df[\"binning\"] = df[\"binning\"] + 1\n",
    "# df['binning'] = pd.cut(df.citationCount, bins=4, labels=False)\n",
    "df.head()"
   ]
  },
  {
   "cell_type": "code",
   "execution_count": 30,
   "metadata": {},
   "outputs": [
    {
     "data": {
      "application/vnd.plotly.v1+json": {
       "config": {
        "plotlyServerURL": "https://plot.ly"
       },
       "data": [
        {
         "customdata": [
          [
           "A review of machine learning and satellite imagery for poverty prediction: Implications for development research and applications",
           37,
           2
          ],
          [
           "Multivariate mixture model for small area estimation of poverty indicators",
           27,
           1
          ],
          [
           "Guidelines to Small Area Estimation for Poverty Mapping",
           0,
           2
          ],
          [
           "A Computationally Efficient Approach to Fully Bayesian Benchmarking",
           0,
           1
          ],
          [
           "Accounting for survey design in Bayesian disaggregation of survey-based areal estimates of proportions: An application to the American Community Survey",
           51,
           2
          ],
          [
           "Using Satellite Data to Guide Urban Poverty Reduction",
           32,
           10
          ],
          [
           "Paths out of poverty: International experience",
           21,
           12
          ],
          [
           "A Clipped Gaussian Geo-Classification model for poverty mapping",
           19,
           2
          ],
          [
           "Properties of the beta regression model for small area estimation of proportions and application to estimation of poverty rates",
           24,
           10
          ],
          [
           "Fully Bayesian Benchmarking of Small Area Estimation Models",
           52,
           8
          ],
          [
           "Approaches and Alternatives to the Wealth Index to Measure Socioeconomic Status Using Survey Data: A Critical Interpretive Synthesis",
           72,
           69
          ],
          [
           "Estimation of Poverty Using Random Forest Regression with Multi-Source Data: A Case Study in Bangladesh",
           58,
           81
          ],
          [
           "The geography of poverty: Review and research prospects",
           161,
           66
          ],
          [
           "Constrained inference through posterior projections",
           46,
           13
          ],
          [
           "Model‐based county level crop estimates incorporating auxiliary sources of information",
           43,
           24
          ],
          [
           "Comparing multilevel and multiscale convolution models for small area aggregated health data.",
           44,
           3
          ],
          [
           "Sparsity information and regularization in the horseshoe and other shrinkage priors",
           40,
           253
          ],
          [
           "Places in Need: The Changing Geography of Poverty",
           0,
           73
          ],
          [
           "Constructing sociodemographic indicators for national statistical institutes by using mobile phone data: estimating literacy rates in Senegal",
           61,
           47
          ],
          [
           "Spatio-temporal patterns of rural poverty in China and targeted poverty alleviation strategies",
           108,
           280
          ],
          [
           "Benchmarking techniques for reconciling Bayesian small area models at distinct geographic levels",
           22,
           2
          ],
          [
           "Mapping poverty using mobile phone and satellite data",
           95,
           226
          ],
          [
           "Stan: A Probabilistic Programming Language.",
           58,
           5131
          ],
          [
           "Practical Bayesian model evaluation using leave-one-out cross-validation and WAIC",
           32,
           89
          ],
          [
           "Combining satellite imagery and machine learning to predict poverty",
           35,
           1113
          ],
          [
           "Multiscale measurement error models for aggregated small area health data",
           31,
           6
          ],
          [
           "Encyclopedia of Quality of Life and Well-being Research",
           0,
           794
          ],
          [
           "Impact of flood disasters in Bangladesh: A multi-sector regional analysis",
           20,
           28
          ],
          [
           "Benchmarked empirical Bayes methods in multiplicative area-level models with risk evaluation",
           26,
           18
          ],
          [
           "Practical Bayesian model evaluation using leave-one-out cross-validation and WAIC",
           43,
           2729
          ],
          [
           "Do Poverty Traps Exist? Assessing the Evidence",
           66,
           230
          ],
          [
           "Small area estimation of general parameters with application to poverty indicators: A hierarchical Bayes approach",
           32,
           95
          ],
          [
           "On small area estimation under a sub-area level model",
           22,
           27
          ],
          [
           "Poverty Reduction During the Rural-Urban Transformation: The Role of the Missing Middle",
           31,
           139
          ],
          [
           "Benchmarking small area estimators",
           27,
           41
          ],
          [
           "A systematic review of Demographic and Health Surveys: data availability and utilization for research.",
           32,
           157
          ],
          [
           "Bayesian benchmarking with applications to small area estimation",
           27,
           73
          ],
          [
           "Evaluation of the Effectiveness of Water Management Policies in Bangladesh",
           29,
           24
          ],
          [
           "Multiscale Statistical Models for Hierarchical Spatial Aggregation",
           31,
           39
          ],
          [
           "A multiscale method for disease mapping in spatial epidemiology",
           29,
           33
          ],
          [
           "Spatial patterns of rural poverty and their relationship with welfare-influencing factors in Bangladesh",
           25,
           69
          ],
          [
           "On the optimality of conditional expectation as a Bregman predictor",
           26,
           253
          ],
          [
           "Decentralized targeting of an antipoverty program",
           36,
           448
          ],
          [
           "Poverty Alleviation Through Geographic Targeting: How Much Does Disaggregation Help?",
           21,
           224
          ],
          [
           "Beta Regression for Modelling Rates and Proportions",
           29,
           2231
          ],
          [
           "Bayesian Inference on Order‐Constrained Parameters in Generalized Linear Models",
           27,
           86
          ],
          [
           "From start to finish.",
           0,
           12
          ],
          [
           "On criteria for measures of compositional difference",
           6,
           209
          ],
          [
           "Extended beta models for poverty mapping. an application integrating survey and remote sensing data in Bangladesh",
           null,
           0
          ],
          [
           "Smallholder farmers’ willingness to pay for flood insurance as climate change adaptation strategy in northern bangladesh",
           null,
           0
          ],
          [
           "Constrained Bayesian Inference through Posterior Projection with Applications",
           0,
           2
          ],
          [
           "Poverty Mapping for the Chilean Comunas",
           20,
           29
          ],
          [
           "Introduction on Measuring Poverty at Local Level Using Small Area Estimation Methods",
           37,
           17
          ],
          [
           "Hierarchical beta regression models for the estimation of poverty and inequality parameters in small areas. Analysis of Poverty Data by Small Area Methods",
           null,
           0
          ],
          [
           "Hierarchical Bayes Modeling of Survey-Weighted Small Area Proportions",
           42,
           47
          ],
          [
           "Small Area Estimation",
           0,
           894
          ],
          [
           "Spatial maps. targeting & mapping poverty. London: United Nations. Economic Commission for Africa",
           null,
           0
          ],
          [
           "Geographical Targeting for Poverty Alleviation: An Introduction to the Special Issue",
           28,
           154
          ],
          [
           "Discussion of ‘an essay on the logical foundations of survey sampling, part i",
           null,
           0
          ]
         ],
         "hovertemplate": "publicationDate=%{x}<br>venue=%{y}<br>citationCount=%{marker.color}<br>title=%{customdata[0]}<br>referenceCount=%{customdata[1]}<extra></extra>",
         "legendgroup": "",
         "marker": {
          "color": [
           2,
           1,
           2,
           1,
           2,
           10,
           12,
           2,
           10,
           8,
           69,
           81,
           66,
           13,
           24,
           3,
           253,
           73,
           47,
           280,
           2,
           226,
           5131,
           89,
           1113,
           6,
           794,
           28,
           18,
           2729,
           230,
           95,
           27,
           139,
           41,
           157,
           73,
           24,
           39,
           33,
           69,
           253,
           448,
           224,
           2231,
           86,
           12,
           209,
           0,
           0,
           2,
           29,
           17,
           0,
           47,
           894,
           0,
           154,
           0
          ],
          "coloraxis": "coloraxis",
          "size": [
           2,
           1,
           2,
           1,
           2,
           10,
           12,
           2,
           10,
           8,
           69,
           81,
           66,
           13,
           24,
           3,
           253,
           73,
           47,
           280,
           2,
           226,
           5131,
           89,
           1113,
           6,
           794,
           28,
           18,
           2729,
           230,
           95,
           27,
           139,
           41,
           157,
           73,
           24,
           39,
           33,
           69,
           253,
           448,
           224,
           2231,
           86,
           12,
           209,
           0,
           0,
           2,
           29,
           17,
           0,
           47,
           894,
           0,
           154,
           0
          ],
          "sizemode": "area",
          "sizeref": 1.4252777777777779,
          "symbol": "circle"
         },
         "mode": "markers",
         "name": "",
         "orientation": "v",
         "showlegend": false,
         "type": "scatter",
         "x": [
          "2023-02-01",
          "2022-12-01",
          "2022-06-16",
          "2022-03-23",
          "2021-12-13",
          "2021-11-13",
          "2021-04-01",
          "2020-06-18",
          "2020-05-02",
          "2020-03-01",
          "2019-09-12",
          "2019-02-13",
          "2019-02-01",
          "2018-12-14",
          "2018-07-13",
          "2017-08-01",
          "2017-07-01",
          "2017-06-20",
          "2017-05-22",
          "2017-05-01",
          "2017-03-24",
          "2017-02-01",
          "2017-01-11",
          "2016-08-30",
          "2016-08-19",
          "2016-08-01",
          "2015-09-23",
          "2015-09-01",
          "2015-09-01",
          "2015-07-16",
          "2014-08-01",
          "2014-06-01",
          "2014-05-01",
          "2013-05-01",
          "2013-03-01",
          "2012-08-01",
          "2011-11-01",
          "2011-04-21",
          "2010-09-03",
          "2006-04-30",
          "2005-10-01",
          "2005-07-01",
          "2005-04-01",
          "2004-10-01",
          "2004-08-01",
          "2003-06-01",
          "1995-10-04",
          "1992-05-01",
          null,
          null,
          null,
          null,
          null,
          null,
          null,
          null,
          null,
          null,
          null
         ],
         "xaxis": "x",
         "y": [
          "Journal of International Development",
          "Journal of the Royal Statistical Society: Series A (Statistics in Society)",
          "",
          "",
          "Annals of Applied Statistics",
          "The Review of Income and Wealth",
          "",
          "Journal of Applied Statistics",
          "Communications in Statistics - Theory and Methods",
          "Journal of Official Statistics",
          "Social Indicators Research",
          "Remote Sensing",
          "Journal of Rural Studies",
          "",
          "Journal of the Royal Statistical Society: Series A (Statistics in Society)",
          "Spatial and Spatio-temporal Epidemiology",
          "",
          "",
          "",
          "",
          "Stat. Methods Appl.",
          "Journal of the Royal Society Interface",
          "Journal of Statistical Software",
          "Statistics and computing",
          "Science",
          "Statistical Methods in Medical Research",
          "",
          "",
          "",
          "Statistics and computing",
          "",
          "",
          "Journal of Multivariate Analysis",
          "",
          "",
          "Bulletin of the World Health Organization",
          "",
          "",
          "",
          "Statistics in Medicine",
          "",
          "IEEE Transactions on Information Theory",
          "",
          "",
          "",
          "Biometrics",
          "Nursing Times",
          "",
          "In Quaderni di Dipartimento. Serie Ricerche",
          "Journal of Cleaner Production,",
          "",
          "",
          "",
          "",
          "",
          "International Encyclopedia of Statistical Science",
          "",
          "",
          "by d. basu. Foundations of Statistical Inference,"
         ],
         "yaxis": "y"
        }
       ],
       "layout": {
        "coloraxis": {
         "colorbar": {
          "title": {
           "text": "citationCount"
          }
         },
         "colorscale": [
          [
           0,
           "#0d0887"
          ],
          [
           0.1111111111111111,
           "#46039f"
          ],
          [
           0.2222222222222222,
           "#7201a8"
          ],
          [
           0.3333333333333333,
           "#9c179e"
          ],
          [
           0.4444444444444444,
           "#bd3786"
          ],
          [
           0.5555555555555556,
           "#d8576b"
          ],
          [
           0.6666666666666666,
           "#ed7953"
          ],
          [
           0.7777777777777778,
           "#fb9f3a"
          ],
          [
           0.8888888888888888,
           "#fdca26"
          ],
          [
           1,
           "#f0f921"
          ]
         ]
        },
        "height": 700,
        "legend": {
         "itemsizing": "constant",
         "tracegroupgap": 0
        },
        "template": {
         "data": {
          "bar": [
           {
            "error_x": {
             "color": "#2a3f5f"
            },
            "error_y": {
             "color": "#2a3f5f"
            },
            "marker": {
             "line": {
              "color": "#E5ECF6",
              "width": 0.5
             },
             "pattern": {
              "fillmode": "overlay",
              "size": 10,
              "solidity": 0.2
             }
            },
            "type": "bar"
           }
          ],
          "barpolar": [
           {
            "marker": {
             "line": {
              "color": "#E5ECF6",
              "width": 0.5
             },
             "pattern": {
              "fillmode": "overlay",
              "size": 10,
              "solidity": 0.2
             }
            },
            "type": "barpolar"
           }
          ],
          "carpet": [
           {
            "aaxis": {
             "endlinecolor": "#2a3f5f",
             "gridcolor": "white",
             "linecolor": "white",
             "minorgridcolor": "white",
             "startlinecolor": "#2a3f5f"
            },
            "baxis": {
             "endlinecolor": "#2a3f5f",
             "gridcolor": "white",
             "linecolor": "white",
             "minorgridcolor": "white",
             "startlinecolor": "#2a3f5f"
            },
            "type": "carpet"
           }
          ],
          "choropleth": [
           {
            "colorbar": {
             "outlinewidth": 0,
             "ticks": ""
            },
            "type": "choropleth"
           }
          ],
          "contour": [
           {
            "colorbar": {
             "outlinewidth": 0,
             "ticks": ""
            },
            "colorscale": [
             [
              0,
              "#0d0887"
             ],
             [
              0.1111111111111111,
              "#46039f"
             ],
             [
              0.2222222222222222,
              "#7201a8"
             ],
             [
              0.3333333333333333,
              "#9c179e"
             ],
             [
              0.4444444444444444,
              "#bd3786"
             ],
             [
              0.5555555555555556,
              "#d8576b"
             ],
             [
              0.6666666666666666,
              "#ed7953"
             ],
             [
              0.7777777777777778,
              "#fb9f3a"
             ],
             [
              0.8888888888888888,
              "#fdca26"
             ],
             [
              1,
              "#f0f921"
             ]
            ],
            "type": "contour"
           }
          ],
          "contourcarpet": [
           {
            "colorbar": {
             "outlinewidth": 0,
             "ticks": ""
            },
            "type": "contourcarpet"
           }
          ],
          "heatmap": [
           {
            "colorbar": {
             "outlinewidth": 0,
             "ticks": ""
            },
            "colorscale": [
             [
              0,
              "#0d0887"
             ],
             [
              0.1111111111111111,
              "#46039f"
             ],
             [
              0.2222222222222222,
              "#7201a8"
             ],
             [
              0.3333333333333333,
              "#9c179e"
             ],
             [
              0.4444444444444444,
              "#bd3786"
             ],
             [
              0.5555555555555556,
              "#d8576b"
             ],
             [
              0.6666666666666666,
              "#ed7953"
             ],
             [
              0.7777777777777778,
              "#fb9f3a"
             ],
             [
              0.8888888888888888,
              "#fdca26"
             ],
             [
              1,
              "#f0f921"
             ]
            ],
            "type": "heatmap"
           }
          ],
          "heatmapgl": [
           {
            "colorbar": {
             "outlinewidth": 0,
             "ticks": ""
            },
            "colorscale": [
             [
              0,
              "#0d0887"
             ],
             [
              0.1111111111111111,
              "#46039f"
             ],
             [
              0.2222222222222222,
              "#7201a8"
             ],
             [
              0.3333333333333333,
              "#9c179e"
             ],
             [
              0.4444444444444444,
              "#bd3786"
             ],
             [
              0.5555555555555556,
              "#d8576b"
             ],
             [
              0.6666666666666666,
              "#ed7953"
             ],
             [
              0.7777777777777778,
              "#fb9f3a"
             ],
             [
              0.8888888888888888,
              "#fdca26"
             ],
             [
              1,
              "#f0f921"
             ]
            ],
            "type": "heatmapgl"
           }
          ],
          "histogram": [
           {
            "marker": {
             "pattern": {
              "fillmode": "overlay",
              "size": 10,
              "solidity": 0.2
             }
            },
            "type": "histogram"
           }
          ],
          "histogram2d": [
           {
            "colorbar": {
             "outlinewidth": 0,
             "ticks": ""
            },
            "colorscale": [
             [
              0,
              "#0d0887"
             ],
             [
              0.1111111111111111,
              "#46039f"
             ],
             [
              0.2222222222222222,
              "#7201a8"
             ],
             [
              0.3333333333333333,
              "#9c179e"
             ],
             [
              0.4444444444444444,
              "#bd3786"
             ],
             [
              0.5555555555555556,
              "#d8576b"
             ],
             [
              0.6666666666666666,
              "#ed7953"
             ],
             [
              0.7777777777777778,
              "#fb9f3a"
             ],
             [
              0.8888888888888888,
              "#fdca26"
             ],
             [
              1,
              "#f0f921"
             ]
            ],
            "type": "histogram2d"
           }
          ],
          "histogram2dcontour": [
           {
            "colorbar": {
             "outlinewidth": 0,
             "ticks": ""
            },
            "colorscale": [
             [
              0,
              "#0d0887"
             ],
             [
              0.1111111111111111,
              "#46039f"
             ],
             [
              0.2222222222222222,
              "#7201a8"
             ],
             [
              0.3333333333333333,
              "#9c179e"
             ],
             [
              0.4444444444444444,
              "#bd3786"
             ],
             [
              0.5555555555555556,
              "#d8576b"
             ],
             [
              0.6666666666666666,
              "#ed7953"
             ],
             [
              0.7777777777777778,
              "#fb9f3a"
             ],
             [
              0.8888888888888888,
              "#fdca26"
             ],
             [
              1,
              "#f0f921"
             ]
            ],
            "type": "histogram2dcontour"
           }
          ],
          "mesh3d": [
           {
            "colorbar": {
             "outlinewidth": 0,
             "ticks": ""
            },
            "type": "mesh3d"
           }
          ],
          "parcoords": [
           {
            "line": {
             "colorbar": {
              "outlinewidth": 0,
              "ticks": ""
             }
            },
            "type": "parcoords"
           }
          ],
          "pie": [
           {
            "automargin": true,
            "type": "pie"
           }
          ],
          "scatter": [
           {
            "fillpattern": {
             "fillmode": "overlay",
             "size": 10,
             "solidity": 0.2
            },
            "type": "scatter"
           }
          ],
          "scatter3d": [
           {
            "line": {
             "colorbar": {
              "outlinewidth": 0,
              "ticks": ""
             }
            },
            "marker": {
             "colorbar": {
              "outlinewidth": 0,
              "ticks": ""
             }
            },
            "type": "scatter3d"
           }
          ],
          "scattercarpet": [
           {
            "marker": {
             "colorbar": {
              "outlinewidth": 0,
              "ticks": ""
             }
            },
            "type": "scattercarpet"
           }
          ],
          "scattergeo": [
           {
            "marker": {
             "colorbar": {
              "outlinewidth": 0,
              "ticks": ""
             }
            },
            "type": "scattergeo"
           }
          ],
          "scattergl": [
           {
            "marker": {
             "colorbar": {
              "outlinewidth": 0,
              "ticks": ""
             }
            },
            "type": "scattergl"
           }
          ],
          "scattermapbox": [
           {
            "marker": {
             "colorbar": {
              "outlinewidth": 0,
              "ticks": ""
             }
            },
            "type": "scattermapbox"
           }
          ],
          "scatterpolar": [
           {
            "marker": {
             "colorbar": {
              "outlinewidth": 0,
              "ticks": ""
             }
            },
            "type": "scatterpolar"
           }
          ],
          "scatterpolargl": [
           {
            "marker": {
             "colorbar": {
              "outlinewidth": 0,
              "ticks": ""
             }
            },
            "type": "scatterpolargl"
           }
          ],
          "scatterternary": [
           {
            "marker": {
             "colorbar": {
              "outlinewidth": 0,
              "ticks": ""
             }
            },
            "type": "scatterternary"
           }
          ],
          "surface": [
           {
            "colorbar": {
             "outlinewidth": 0,
             "ticks": ""
            },
            "colorscale": [
             [
              0,
              "#0d0887"
             ],
             [
              0.1111111111111111,
              "#46039f"
             ],
             [
              0.2222222222222222,
              "#7201a8"
             ],
             [
              0.3333333333333333,
              "#9c179e"
             ],
             [
              0.4444444444444444,
              "#bd3786"
             ],
             [
              0.5555555555555556,
              "#d8576b"
             ],
             [
              0.6666666666666666,
              "#ed7953"
             ],
             [
              0.7777777777777778,
              "#fb9f3a"
             ],
             [
              0.8888888888888888,
              "#fdca26"
             ],
             [
              1,
              "#f0f921"
             ]
            ],
            "type": "surface"
           }
          ],
          "table": [
           {
            "cells": {
             "fill": {
              "color": "#EBF0F8"
             },
             "line": {
              "color": "white"
             }
            },
            "header": {
             "fill": {
              "color": "#C8D4E3"
             },
             "line": {
              "color": "white"
             }
            },
            "type": "table"
           }
          ]
         },
         "layout": {
          "annotationdefaults": {
           "arrowcolor": "#2a3f5f",
           "arrowhead": 0,
           "arrowwidth": 1
          },
          "autotypenumbers": "strict",
          "coloraxis": {
           "colorbar": {
            "outlinewidth": 0,
            "ticks": ""
           }
          },
          "colorscale": {
           "diverging": [
            [
             0,
             "#8e0152"
            ],
            [
             0.1,
             "#c51b7d"
            ],
            [
             0.2,
             "#de77ae"
            ],
            [
             0.3,
             "#f1b6da"
            ],
            [
             0.4,
             "#fde0ef"
            ],
            [
             0.5,
             "#f7f7f7"
            ],
            [
             0.6,
             "#e6f5d0"
            ],
            [
             0.7,
             "#b8e186"
            ],
            [
             0.8,
             "#7fbc41"
            ],
            [
             0.9,
             "#4d9221"
            ],
            [
             1,
             "#276419"
            ]
           ],
           "sequential": [
            [
             0,
             "#0d0887"
            ],
            [
             0.1111111111111111,
             "#46039f"
            ],
            [
             0.2222222222222222,
             "#7201a8"
            ],
            [
             0.3333333333333333,
             "#9c179e"
            ],
            [
             0.4444444444444444,
             "#bd3786"
            ],
            [
             0.5555555555555556,
             "#d8576b"
            ],
            [
             0.6666666666666666,
             "#ed7953"
            ],
            [
             0.7777777777777778,
             "#fb9f3a"
            ],
            [
             0.8888888888888888,
             "#fdca26"
            ],
            [
             1,
             "#f0f921"
            ]
           ],
           "sequentialminus": [
            [
             0,
             "#0d0887"
            ],
            [
             0.1111111111111111,
             "#46039f"
            ],
            [
             0.2222222222222222,
             "#7201a8"
            ],
            [
             0.3333333333333333,
             "#9c179e"
            ],
            [
             0.4444444444444444,
             "#bd3786"
            ],
            [
             0.5555555555555556,
             "#d8576b"
            ],
            [
             0.6666666666666666,
             "#ed7953"
            ],
            [
             0.7777777777777778,
             "#fb9f3a"
            ],
            [
             0.8888888888888888,
             "#fdca26"
            ],
            [
             1,
             "#f0f921"
            ]
           ]
          },
          "colorway": [
           "#636efa",
           "#EF553B",
           "#00cc96",
           "#ab63fa",
           "#FFA15A",
           "#19d3f3",
           "#FF6692",
           "#B6E880",
           "#FF97FF",
           "#FECB52"
          ],
          "font": {
           "color": "#2a3f5f"
          },
          "geo": {
           "bgcolor": "white",
           "lakecolor": "white",
           "landcolor": "#E5ECF6",
           "showlakes": true,
           "showland": true,
           "subunitcolor": "white"
          },
          "hoverlabel": {
           "align": "left"
          },
          "hovermode": "closest",
          "mapbox": {
           "style": "light"
          },
          "paper_bgcolor": "white",
          "plot_bgcolor": "#E5ECF6",
          "polar": {
           "angularaxis": {
            "gridcolor": "white",
            "linecolor": "white",
            "ticks": ""
           },
           "bgcolor": "#E5ECF6",
           "radialaxis": {
            "gridcolor": "white",
            "linecolor": "white",
            "ticks": ""
           }
          },
          "scene": {
           "xaxis": {
            "backgroundcolor": "#E5ECF6",
            "gridcolor": "white",
            "gridwidth": 2,
            "linecolor": "white",
            "showbackground": true,
            "ticks": "",
            "zerolinecolor": "white"
           },
           "yaxis": {
            "backgroundcolor": "#E5ECF6",
            "gridcolor": "white",
            "gridwidth": 2,
            "linecolor": "white",
            "showbackground": true,
            "ticks": "",
            "zerolinecolor": "white"
           },
           "zaxis": {
            "backgroundcolor": "#E5ECF6",
            "gridcolor": "white",
            "gridwidth": 2,
            "linecolor": "white",
            "showbackground": true,
            "ticks": "",
            "zerolinecolor": "white"
           }
          },
          "shapedefaults": {
           "line": {
            "color": "#2a3f5f"
           }
          },
          "ternary": {
           "aaxis": {
            "gridcolor": "white",
            "linecolor": "white",
            "ticks": ""
           },
           "baxis": {
            "gridcolor": "white",
            "linecolor": "white",
            "ticks": ""
           },
           "bgcolor": "#E5ECF6",
           "caxis": {
            "gridcolor": "white",
            "linecolor": "white",
            "ticks": ""
           }
          },
          "title": {
           "x": 0.05
          },
          "xaxis": {
           "automargin": true,
           "gridcolor": "white",
           "linecolor": "white",
           "ticks": "",
           "title": {
            "standoff": 15
           },
           "zerolinecolor": "white",
           "zerolinewidth": 2
          },
          "yaxis": {
           "automargin": true,
           "gridcolor": "white",
           "linecolor": "white",
           "ticks": "",
           "title": {
            "standoff": 15
           },
           "zerolinecolor": "white",
           "zerolinewidth": 2
          }
         }
        },
        "title": {
         "text": "Paper: Mapping poverty at multiple geographical scales (2023)"
        },
        "xaxis": {
         "anchor": "y",
         "domain": [
          0,
          1
         ],
         "title": {
          "text": "publicationDate"
         }
        },
        "yaxis": {
         "anchor": "x",
         "domain": [
          0,
          1
         ],
         "dtick": 1,
         "title": {
          "text": "venue"
         },
         "type": "category"
        }
       }
      }
     },
     "metadata": {},
     "output_type": "display_data"
    }
   ],
   "source": [
    "fig = px.scatter(\n",
    "    df,\n",
    "    x=\"publicationDate\",\n",
    "    y=\"venue\",\n",
    "    # size=\"binning\",\n",
    "    size=\"citationCount\",\n",
    "    size_max=60,\n",
    "    # size_min=20,\n",
    "    color=\"citationCount\",\n",
    "    # marginal_x=\"histogram\",\n",
    "    title=f\"Paper: {paper.title} ({paper.year})\",\n",
    "    hover_data=[\"title\", \"referenceCount\", \"citationCount\"],\n",
    "    # width=1000,\n",
    "    height=int(25 * len(df.venue.unique())),\n",
    "    # height=700,\n",
    ")\n",
    "\n",
    "fig.layout.yaxis.type = \"category\"\n",
    "fig.update_yaxes(dtick=1)\n",
    "fig.show()"
   ]
  },
  {
   "cell_type": "code",
   "execution_count": 2,
   "metadata": {},
   "outputs": [
    {
     "name": "stdout",
     "output_type": "stream",
     "text": [
      "https://api.semanticscholar.org/graph/v1/paper/URL:https://arxiv.org/abs/2305.19513\n"
     ]
    }
   ],
   "source": [
    "paper_url = \"https://arxiv.org/abs/2305.19513\"\n",
    "endpoint = \"https://api.semanticscholar.org/graph/v1/paper/\"\n",
    "url = endpoint + \"URL:\" + paper_url\n",
    "print(url)"
   ]
  },
  {
   "cell_type": "code",
   "execution_count": 3,
   "metadata": {},
   "outputs": [],
   "source": [
    "SUPPORTED_WEBSITE_URL = [\n",
    "    \"semanticscholar.org\",\n",
    "    \"arxiv.org\",\n",
    "    \"aclweb.org\",\n",
    "    \"acm.org\",\n",
    "    \"biorxiv.org\",\n",
    "]\n",
    "\n",
    "\n",
    "def generate_url(input_str: str) -> str:\n",
    "    endpoint = \"https://api.semanticscholar.org/graph/v1/paper/\"\n",
    "    if any([x for x in SUPPORTED_WEBSITE_URL if x in input_str]):\n",
    "        return endpoint + \"URL:\" + paper_url\n",
    "    else:\n",
    "        print(f\"Paper {paper_url} not found\")\n",
    "\n",
    "\n",
    "def get_paper_id(paper_url: str):\n",
    "    s2_url = generate_url(paper_url)\n",
    "    print(s2_url)\n",
    "    response = requests.get(s2_url)\n",
    "    return response.json()[\"paperId\"]"
   ]
  },
  {
   "cell_type": "code",
   "execution_count": 4,
   "metadata": {},
   "outputs": [
    {
     "name": "stdout",
     "output_type": "stream",
     "text": [
      "https://api.semanticscholar.org/graph/v1/paper/URL:https://arxiv.org/abs/2305.19513\n"
     ]
    }
   ],
   "source": [
    "paper_id = get_paper_id(paper_url)"
   ]
  },
  {
   "cell_type": "code",
   "execution_count": 6,
   "metadata": {},
   "outputs": [
    {
     "data": {
      "application/vnd.plotly.v1+json": {
       "config": {
        "plotlyServerURL": "https://plot.ly"
       },
       "data": [
        {
         "customdata": [
          [
           "Transition Is a Process: Pair-to-Video Change Detection Networks for Very High Resolution Remote Sensing Images",
           55,
           5
          ],
          [
           "Adaptive Contourlet Fusion Clustering for SAR Image Change Detection",
           0,
           9
          ],
          [
           "Structured graph based image regression for unsupervised multimodal change detection",
           58,
           11
          ],
          [
           "Deep Learning-Based Change Detection in Remote Sensing Images: A Review",
           197,
           51
          ],
          [
           "ChangeMask: Deep multi-task encoder-transformer-decoder architecture for semantic change detection",
           28,
           32
          ],
          [
           "Binary Change Guided Hyperspectral Multiclass Change Detection",
           64,
           5
          ],
          [
           "Building damage assessment for rapid disaster response with a deep object-based semantic change detection framework: From natural disasters to man-made disasters",
           39,
           59
          ],
          [
           "Dense Uncertainty Estimation",
           125,
           7
          ],
          [
           "An Unsupervised Remote Sensing Change Detection Method Based on Multiscale Graph Convolutional Network and Metric Learning",
           69,
           33
          ],
          [
           "Mining Contextual Information Beyond Image for Semantic Segmentation",
           57,
           49
          ],
          [
           "Change is Everywhere: Single-Temporal Supervised Object Change Detection in Remote Sensing Imagery",
           30,
           32
          ],
          [
           "TF-Blender: Temporal Feature Blender for Video Object Detection",
           43,
           34
          ],
          [
           "S2Looking: A Satellite Side-Looking Dataset for Building Change Detection",
           69,
           33
          ],
          [
           "Iterative Robust Graph for Unsupervised Change Detection of Heterogeneous Remote Sensing Images",
           0,
           28
          ],
          [
           "Remote Sensing Image Change Detection With Transformers",
           65,
           197
          ],
          [
           "SNUNet-CD: A Densely Connected Siamese Network for Change Detection of VHR Images",
           20,
           162
          ],
          [
           "A Deep Multitask Learning Framework Coupling Semantic Segmentation and Fully Convolutional LSTM Networks for Urban Change Detection",
           72,
           38
          ],
          [
           "Interpretable and Trustworthy Deepfake Detection via Dynamic Prototypes",
           72,
           36
          ],
          [
           "Hierarchical Paired Channel Fusion Network for Street Scene Change Detection",
           67,
           33
          ],
          [
           "A deeply supervised image fusion network for change detection in high resolution bi-temporal remote sensing images",
           34,
           261
          ],
          [
           "HyNet: Hyper-scale object detection network framework for multiple spatial resolution remote sensing imagery",
           44,
           42
          ],
          [
           "Real-Time Uncertainty Estimation in Computer Vision via Uncertainty-Aware Distribution Distillation",
           41,
           22
          ],
          [
           "SDE-Net: Equipping Deep Neural Networks with Uncertainty Estimates",
           51,
           62
          ],
          [
           "Multi-Temporal Scene Classification and Scene Change Detection With Correlation Based Fusion",
           52,
           28
          ],
          [
           "Foreground-Aware Relation Network for Geospatial Object Segmentation in High Spatial Resolution Remote Sensing Imagery",
           50,
           95
          ],
          [
           "A Spatial-Temporal Attention-Based Method and a New Dataset for Remote Sensing Image Change Detection",
           74,
           367
          ],
          [
           "Incorporating Metric Learning and Adversarial Network for Seasonal Invariant Change Detection",
           44,
           35
          ],
          [
           "Proxy Anchor Loss for Deep Metric Learning",
           41,
           203
          ],
          [
           "Probabilistic Pixel-Adaptive Refinement Networks",
           68,
           10
          ],
          [
           "A Deep Siamese Network with Hybrid Convolutional Feature Extraction Module for Change Detection Based on Multi-sensor Remote Sensing Images",
           50,
           60
          ],
          [
           "PyTorch: An Imperative Style, High-Performance Deep Learning Library",
           34,
           23416
          ],
          [
           "Confidence Calibration and Predictive Uncertainty Estimation for Deep Medical Image Segmentation",
           59,
           145
          ],
          [
           "End-to-End Change Detection for High Resolution Satellite Images Using Improved UNet++",
           71,
           306
          ],
          [
           "Triplet-Based Semantic Relation Learning for Aerial Remote Sensing Image Change Detection",
           16,
           81
          ],
          [
           "An automatic approach for land-change detection and land updates based on integrated NDVI timing analysis and the CVAPS method with GEE support",
           51,
           73
          ],
          [
           "Line-Constrained Shape Feature for Building Change Detection in VHR Remote Sensing Imagery",
           47,
           18
          ],
          [
           "Fully Convolutional Siamese Networks for Change Detection",
           19,
           426
          ],
          [
           "Deterministic Variational Inference for Robust Bayesian Neural Networks",
           43,
           129
          ],
          [
           "CBAM: Convolutional Block Attention Module",
           42,
           7156
          ],
          [
           "Meta-Learning for Stochastic Gradient MCMC",
           63,
           38
          ],
          [
           "A Deep Convolutional Coupling Network for Change Detection Based on Heterogeneous Optical and Radar Images",
           56,
           274
          ],
          [
           "Non-local Neural Networks",
           56,
           6099
          ],
          [
           "Decoupled Weight Decay Regularization",
           33,
           8049
          ],
          [
           "Squeeze-and-Excitation Networks",
           88,
           13789
          ],
          [
           "Change Detection Based on Deep Siamese Convolutional Network for Optical Aerial Images",
           15,
           280
          ],
          [
           "Multiplicative Normalizing Flows for Variational Bayesian Neural Networks",
           49,
           381
          ],
          [
           "Feature Pyramid Networks for Object Detection",
           41,
           14210
          ],
          [
           "Simple and Scalable Predictive Uncertainty Estimation using Deep Ensembles",
           64,
           3505
          ],
          [
           "V-Net: Fully Convolutional Neural Networks for Volumetric Medical Image Segmentation",
           24,
           5682
          ],
          [
           "Deep Residual Learning for Image Recognition",
           54,
           131793
          ],
          [
           "Bayesian Learning via Stochastic Gradient Langevin Dynamics",
           14,
           2115
          ],
          [
           "Unsupervised Change Detection in Satellite Images Using Principal Component Analysis and $k$-Means Clustering",
           8,
           720
          ],
          [
           "Remote sensing change detection tools for natural resource managers: Understanding concepts and tradeoffs in the design of landscape monitoring projects",
           215,
           336
          ],
          [
           "PCA‐based land‐use change detection and analysis using multitemporal and multisensor satellite data",
           45,
           438
          ],
          [
           "A Split-Based Approach to Unsupervised Change Detection in Large-Size Multitemporal Images: Application to Tsunami-Damage Assessment",
           40,
           241
          ],
          [
           "Automatic analysis of the difference image for unsupervised change detection",
           38,
           1214
          ],
          [
           "Change-vector analysis in multitemporal space: a tool to detect and categorize land-cover change pro",
           49,
           463
          ],
          [
           "A TM Tasseled Cap equivalent transformation for reflectance factor data",
           9,
           599
          ],
          [
           "Lightweight Remote Sensing Change Detection With Progressive Feature Aggregation and Supervised Attention",
           60,
           1
          ],
          [
           "Remote Sensing Change Detection via Temporal Feature Interaction and Guided Refinement",
           48,
           8
          ],
          [
           "A CNN-Transformer Network With Multiscale Context Aggregation for Fine-Grained Cropland Change Detection",
           0,
           31
          ],
          [
           "Multiple Attention Siamese Network for High-Resolution Image Change Detection",
           0,
           13
          ],
          [
           "Towards a Trustworthy Classifier with Deep CNN: Uncertainty Estimation Meets Hyperspectral Image",
           0,
           1
          ],
          [
           "Sparse-Constrained Adaptive Structure Consistency-Based Unsupervised Image Regression for Heterogeneous Remote- Sensing Change Detection",
           41,
           18
          ],
          [
           "Difference Enhancement and Spatial-Spectral Non-Local Network for Change Detection in VHR Remote Sensing Images",
           0,
           21
          ],
          [
           "Difficultyaware attention network with confidence learning for medical image segmentation",
           null,
           0
          ],
          [
           "Digital change detection in forest ecosystems with remote sensing imagery",
           72,
           676
          ],
          [
           "Bayesian learning for neural networks",
           0,
           1641
          ]
         ],
         "hovertemplate": "publicationDate=%{x}<br>venue=%{y}<br>title=%{customdata[0]}<br>referenceCount=%{customdata[1]}<br>citationCount=%{marker.color}<extra></extra>",
         "legendgroup": "",
         "marker": {
          "color": [
           5,
           9,
           11,
           51,
           32,
           5,
           59,
           7,
           33,
           49,
           32,
           34,
           33,
           28,
           197,
           162,
           38,
           36,
           33,
           261,
           42,
           22,
           62,
           28,
           95,
           367,
           35,
           203,
           10,
           60,
           23416,
           145,
           306,
           81,
           73,
           18,
           426,
           129,
           7156,
           38,
           274,
           6099,
           8049,
           13789,
           280,
           381,
           14210,
           3505,
           5682,
           131793,
           2115,
           720,
           336,
           438,
           241,
           1214,
           463,
           599,
           1,
           8,
           31,
           13,
           1,
           18,
           21,
           0,
           676,
           1641
          ],
          "coloraxis": "coloraxis",
          "symbol": "circle"
         },
         "mode": "markers",
         "name": "",
         "orientation": "v",
         "showlegend": false,
         "type": "scatter",
         "x": [
          "2022-12-07",
          "2022-03-04",
          "2022-03-01",
          "2022-02-11",
          "2022-01-01",
          "2021-12-08",
          "2021-11-01",
          "2021-10-13",
          "2021-09-01",
          "2021-08-26",
          "2021-08-16",
          "2021-08-12",
          "2021-07-20",
          "2021-07-07",
          "2021-02-27",
          "2021-02-17",
          "2021-02-10",
          "2021-01-01",
          "2020-10-19",
          "2020-08-01",
          "2020-08-01",
          "2020-07-31",
          "2020-07-12",
          "2020-06-03",
          "2020-06-01",
          "2020-05-22",
          "2020-04-01",
          "2020-03-31",
          "2020-03-31",
          "2020-01-07",
          "2019-12-03",
          "2019-11-29",
          "2019-06-10",
          "2019-02-01",
          "2018-12-01",
          "2018-10-16",
          "2018-10-01",
          "2018-09-27",
          "2018-07-17",
          "2018-06-12",
          "2018-03-01",
          "2017-11-21",
          "2017-11-14",
          "2017-09-05",
          "2017-08-30",
          "2017-03-06",
          "2016-12-09",
          "2016-12-05",
          "2016-06-15",
          "2015-12-10",
          "2011-06-28",
          "2009-08-07",
          "2009-07-15",
          "2008-08-01",
          "2007-05-29",
          "2000-05-01",
          "1994-05-01",
          "1985-06-01",
          null,
          null,
          null,
          null,
          null,
          null,
          null,
          null,
          null,
          null
         ],
         "xaxis": "x",
         "y": [
          "IEEE Transactions on Image Processing",
          "IEEE Transactions on Image Processing",
          "Isprs Journal of Photogrammetry and Remote Sensing",
          "Remote Sensing",
          "Isprs Journal of Photogrammetry and Remote Sensing",
          "IEEE Transactions on Image Processing",
          "",
          "arXiv.org",
          "IEEE Transactions on Geoscience and Remote Sensing",
          "IEEE International Conference on Computer Vision",
          "IEEE International Conference on Computer Vision",
          "IEEE International Conference on Computer Vision",
          "Remote Sensing",
          "IEEE Transactions on Image Processing",
          "IEEE Transactions on Geoscience and Remote Sensing",
          "IEEE Geoscience and Remote Sensing Letters",
          "IEEE Transactions on Geoscience and Remote Sensing",
          "IEEE Workshop/Winter Conference on Applications of Computer Vision",
          "IEEE Transactions on Image Processing",
          "",
          "",
          "IEEE Workshop/Winter Conference on Applications of Computer Vision",
          "International Conference on Machine Learning",
          "IEEE Transactions on Image Processing",
          "Computer Vision and Pattern Recognition",
          "Remote Sensing",
          "IEEE Transactions on Geoscience and Remote Sensing",
          "Computer Vision and Pattern Recognition",
          "Computer Vision and Pattern Recognition",
          "Remote Sensing",
          "Neural Information Processing Systems",
          "IEEE Transactions on Medical Imaging",
          "Remote Sensing",
          "IEEE Geoscience and Remote Sensing Letters",
          "Isprs Journal of Photogrammetry and Remote Sensing",
          "ISPRS Int. J. Geo Inf.",
          "International Conference on Information Photonics",
          "International Conference on Learning Representations",
          "European Conference on Computer Vision",
          "International Conference on Learning Representations",
          "IEEE Transactions on Neural Networks and Learning Systems",
          "2018 IEEE/CVF Conference on Computer Vision and Pattern Recognition",
          "International Conference on Learning Representations",
          "IEEE Transactions on Pattern Analysis and Machine Intelligence",
          "IEEE Geoscience and Remote Sensing Letters",
          "International Conference on Machine Learning",
          "Computer Vision and Pattern Recognition",
          "NIPS",
          "International Conference on 3D Vision",
          "Computer Vision and Pattern Recognition",
          "International Conference on Machine Learning",
          "IEEE Geoscience and Remote Sensing Letters",
          "",
          "",
          "IEEE Transactions on Geoscience and Remote Sensing",
          "IEEE Transactions on Geoscience and Remote Sensing",
          "",
          "",
          "IEEE Transactions on Geoscience and Remote Sensing",
          "IEEE Transactions on Geoscience and Remote Sensing",
          "IEEE Journal of Selected Topics in Applied Earth Observations and Remote Sensing",
          "IEEE Transactions on Geoscience and Remote Sensing",
          "IEEE Transactions on Geoscience and Remote Sensing",
          "IEEE Transactions on Geoscience and Remote Sensing",
          "IEEE Transactions on Geoscience and Remote Sensing",
          "AAAI Conference on Artificial Intelligence, vol. 33, no. 01, 2019, pp. 1085–1092.",
          "",
          ""
         ],
         "yaxis": "y"
        }
       ],
       "layout": {
        "coloraxis": {
         "colorbar": {
          "title": {
           "text": "citationCount"
          }
         },
         "colorscale": [
          [
           0,
           "#0d0887"
          ],
          [
           0.1111111111111111,
           "#46039f"
          ],
          [
           0.2222222222222222,
           "#7201a8"
          ],
          [
           0.3333333333333333,
           "#9c179e"
          ],
          [
           0.4444444444444444,
           "#bd3786"
          ],
          [
           0.5555555555555556,
           "#d8576b"
          ],
          [
           0.6666666666666666,
           "#ed7953"
          ],
          [
           0.7777777777777778,
           "#fb9f3a"
          ],
          [
           0.8888888888888888,
           "#fdca26"
          ],
          [
           1,
           "#f0f921"
          ]
         ]
        },
        "height": 600,
        "legend": {
         "tracegroupgap": 0
        },
        "template": {
         "data": {
          "bar": [
           {
            "error_x": {
             "color": "#f2f5fa"
            },
            "error_y": {
             "color": "#f2f5fa"
            },
            "marker": {
             "line": {
              "color": "rgb(17,17,17)",
              "width": 0.5
             },
             "pattern": {
              "fillmode": "overlay",
              "size": 10,
              "solidity": 0.2
             }
            },
            "type": "bar"
           }
          ],
          "barpolar": [
           {
            "marker": {
             "line": {
              "color": "rgb(17,17,17)",
              "width": 0.5
             },
             "pattern": {
              "fillmode": "overlay",
              "size": 10,
              "solidity": 0.2
             }
            },
            "type": "barpolar"
           }
          ],
          "carpet": [
           {
            "aaxis": {
             "endlinecolor": "#A2B1C6",
             "gridcolor": "#506784",
             "linecolor": "#506784",
             "minorgridcolor": "#506784",
             "startlinecolor": "#A2B1C6"
            },
            "baxis": {
             "endlinecolor": "#A2B1C6",
             "gridcolor": "#506784",
             "linecolor": "#506784",
             "minorgridcolor": "#506784",
             "startlinecolor": "#A2B1C6"
            },
            "type": "carpet"
           }
          ],
          "choropleth": [
           {
            "colorbar": {
             "outlinewidth": 0,
             "ticks": ""
            },
            "type": "choropleth"
           }
          ],
          "contour": [
           {
            "colorbar": {
             "outlinewidth": 0,
             "ticks": ""
            },
            "colorscale": [
             [
              0,
              "#0d0887"
             ],
             [
              0.1111111111111111,
              "#46039f"
             ],
             [
              0.2222222222222222,
              "#7201a8"
             ],
             [
              0.3333333333333333,
              "#9c179e"
             ],
             [
              0.4444444444444444,
              "#bd3786"
             ],
             [
              0.5555555555555556,
              "#d8576b"
             ],
             [
              0.6666666666666666,
              "#ed7953"
             ],
             [
              0.7777777777777778,
              "#fb9f3a"
             ],
             [
              0.8888888888888888,
              "#fdca26"
             ],
             [
              1,
              "#f0f921"
             ]
            ],
            "type": "contour"
           }
          ],
          "contourcarpet": [
           {
            "colorbar": {
             "outlinewidth": 0,
             "ticks": ""
            },
            "type": "contourcarpet"
           }
          ],
          "heatmap": [
           {
            "colorbar": {
             "outlinewidth": 0,
             "ticks": ""
            },
            "colorscale": [
             [
              0,
              "#0d0887"
             ],
             [
              0.1111111111111111,
              "#46039f"
             ],
             [
              0.2222222222222222,
              "#7201a8"
             ],
             [
              0.3333333333333333,
              "#9c179e"
             ],
             [
              0.4444444444444444,
              "#bd3786"
             ],
             [
              0.5555555555555556,
              "#d8576b"
             ],
             [
              0.6666666666666666,
              "#ed7953"
             ],
             [
              0.7777777777777778,
              "#fb9f3a"
             ],
             [
              0.8888888888888888,
              "#fdca26"
             ],
             [
              1,
              "#f0f921"
             ]
            ],
            "type": "heatmap"
           }
          ],
          "heatmapgl": [
           {
            "colorbar": {
             "outlinewidth": 0,
             "ticks": ""
            },
            "colorscale": [
             [
              0,
              "#0d0887"
             ],
             [
              0.1111111111111111,
              "#46039f"
             ],
             [
              0.2222222222222222,
              "#7201a8"
             ],
             [
              0.3333333333333333,
              "#9c179e"
             ],
             [
              0.4444444444444444,
              "#bd3786"
             ],
             [
              0.5555555555555556,
              "#d8576b"
             ],
             [
              0.6666666666666666,
              "#ed7953"
             ],
             [
              0.7777777777777778,
              "#fb9f3a"
             ],
             [
              0.8888888888888888,
              "#fdca26"
             ],
             [
              1,
              "#f0f921"
             ]
            ],
            "type": "heatmapgl"
           }
          ],
          "histogram": [
           {
            "marker": {
             "pattern": {
              "fillmode": "overlay",
              "size": 10,
              "solidity": 0.2
             }
            },
            "type": "histogram"
           }
          ],
          "histogram2d": [
           {
            "colorbar": {
             "outlinewidth": 0,
             "ticks": ""
            },
            "colorscale": [
             [
              0,
              "#0d0887"
             ],
             [
              0.1111111111111111,
              "#46039f"
             ],
             [
              0.2222222222222222,
              "#7201a8"
             ],
             [
              0.3333333333333333,
              "#9c179e"
             ],
             [
              0.4444444444444444,
              "#bd3786"
             ],
             [
              0.5555555555555556,
              "#d8576b"
             ],
             [
              0.6666666666666666,
              "#ed7953"
             ],
             [
              0.7777777777777778,
              "#fb9f3a"
             ],
             [
              0.8888888888888888,
              "#fdca26"
             ],
             [
              1,
              "#f0f921"
             ]
            ],
            "type": "histogram2d"
           }
          ],
          "histogram2dcontour": [
           {
            "colorbar": {
             "outlinewidth": 0,
             "ticks": ""
            },
            "colorscale": [
             [
              0,
              "#0d0887"
             ],
             [
              0.1111111111111111,
              "#46039f"
             ],
             [
              0.2222222222222222,
              "#7201a8"
             ],
             [
              0.3333333333333333,
              "#9c179e"
             ],
             [
              0.4444444444444444,
              "#bd3786"
             ],
             [
              0.5555555555555556,
              "#d8576b"
             ],
             [
              0.6666666666666666,
              "#ed7953"
             ],
             [
              0.7777777777777778,
              "#fb9f3a"
             ],
             [
              0.8888888888888888,
              "#fdca26"
             ],
             [
              1,
              "#f0f921"
             ]
            ],
            "type": "histogram2dcontour"
           }
          ],
          "mesh3d": [
           {
            "colorbar": {
             "outlinewidth": 0,
             "ticks": ""
            },
            "type": "mesh3d"
           }
          ],
          "parcoords": [
           {
            "line": {
             "colorbar": {
              "outlinewidth": 0,
              "ticks": ""
             }
            },
            "type": "parcoords"
           }
          ],
          "pie": [
           {
            "automargin": true,
            "type": "pie"
           }
          ],
          "scatter": [
           {
            "marker": {
             "line": {
              "color": "#283442"
             }
            },
            "type": "scatter"
           }
          ],
          "scatter3d": [
           {
            "line": {
             "colorbar": {
              "outlinewidth": 0,
              "ticks": ""
             }
            },
            "marker": {
             "colorbar": {
              "outlinewidth": 0,
              "ticks": ""
             }
            },
            "type": "scatter3d"
           }
          ],
          "scattercarpet": [
           {
            "marker": {
             "colorbar": {
              "outlinewidth": 0,
              "ticks": ""
             }
            },
            "type": "scattercarpet"
           }
          ],
          "scattergeo": [
           {
            "marker": {
             "colorbar": {
              "outlinewidth": 0,
              "ticks": ""
             }
            },
            "type": "scattergeo"
           }
          ],
          "scattergl": [
           {
            "marker": {
             "line": {
              "color": "#283442"
             }
            },
            "type": "scattergl"
           }
          ],
          "scattermapbox": [
           {
            "marker": {
             "colorbar": {
              "outlinewidth": 0,
              "ticks": ""
             }
            },
            "type": "scattermapbox"
           }
          ],
          "scatterpolar": [
           {
            "marker": {
             "colorbar": {
              "outlinewidth": 0,
              "ticks": ""
             }
            },
            "type": "scatterpolar"
           }
          ],
          "scatterpolargl": [
           {
            "marker": {
             "colorbar": {
              "outlinewidth": 0,
              "ticks": ""
             }
            },
            "type": "scatterpolargl"
           }
          ],
          "scatterternary": [
           {
            "marker": {
             "colorbar": {
              "outlinewidth": 0,
              "ticks": ""
             }
            },
            "type": "scatterternary"
           }
          ],
          "surface": [
           {
            "colorbar": {
             "outlinewidth": 0,
             "ticks": ""
            },
            "colorscale": [
             [
              0,
              "#0d0887"
             ],
             [
              0.1111111111111111,
              "#46039f"
             ],
             [
              0.2222222222222222,
              "#7201a8"
             ],
             [
              0.3333333333333333,
              "#9c179e"
             ],
             [
              0.4444444444444444,
              "#bd3786"
             ],
             [
              0.5555555555555556,
              "#d8576b"
             ],
             [
              0.6666666666666666,
              "#ed7953"
             ],
             [
              0.7777777777777778,
              "#fb9f3a"
             ],
             [
              0.8888888888888888,
              "#fdca26"
             ],
             [
              1,
              "#f0f921"
             ]
            ],
            "type": "surface"
           }
          ],
          "table": [
           {
            "cells": {
             "fill": {
              "color": "#506784"
             },
             "line": {
              "color": "rgb(17,17,17)"
             }
            },
            "header": {
             "fill": {
              "color": "#2a3f5f"
             },
             "line": {
              "color": "rgb(17,17,17)"
             }
            },
            "type": "table"
           }
          ]
         },
         "layout": {
          "annotationdefaults": {
           "arrowcolor": "#f2f5fa",
           "arrowhead": 0,
           "arrowwidth": 1
          },
          "autotypenumbers": "strict",
          "coloraxis": {
           "colorbar": {
            "outlinewidth": 0,
            "ticks": ""
           }
          },
          "colorscale": {
           "diverging": [
            [
             0,
             "#8e0152"
            ],
            [
             0.1,
             "#c51b7d"
            ],
            [
             0.2,
             "#de77ae"
            ],
            [
             0.3,
             "#f1b6da"
            ],
            [
             0.4,
             "#fde0ef"
            ],
            [
             0.5,
             "#f7f7f7"
            ],
            [
             0.6,
             "#e6f5d0"
            ],
            [
             0.7,
             "#b8e186"
            ],
            [
             0.8,
             "#7fbc41"
            ],
            [
             0.9,
             "#4d9221"
            ],
            [
             1,
             "#276419"
            ]
           ],
           "sequential": [
            [
             0,
             "#0d0887"
            ],
            [
             0.1111111111111111,
             "#46039f"
            ],
            [
             0.2222222222222222,
             "#7201a8"
            ],
            [
             0.3333333333333333,
             "#9c179e"
            ],
            [
             0.4444444444444444,
             "#bd3786"
            ],
            [
             0.5555555555555556,
             "#d8576b"
            ],
            [
             0.6666666666666666,
             "#ed7953"
            ],
            [
             0.7777777777777778,
             "#fb9f3a"
            ],
            [
             0.8888888888888888,
             "#fdca26"
            ],
            [
             1,
             "#f0f921"
            ]
           ],
           "sequentialminus": [
            [
             0,
             "#0d0887"
            ],
            [
             0.1111111111111111,
             "#46039f"
            ],
            [
             0.2222222222222222,
             "#7201a8"
            ],
            [
             0.3333333333333333,
             "#9c179e"
            ],
            [
             0.4444444444444444,
             "#bd3786"
            ],
            [
             0.5555555555555556,
             "#d8576b"
            ],
            [
             0.6666666666666666,
             "#ed7953"
            ],
            [
             0.7777777777777778,
             "#fb9f3a"
            ],
            [
             0.8888888888888888,
             "#fdca26"
            ],
            [
             1,
             "#f0f921"
            ]
           ]
          },
          "colorway": [
           "#636efa",
           "#EF553B",
           "#00cc96",
           "#ab63fa",
           "#FFA15A",
           "#19d3f3",
           "#FF6692",
           "#B6E880",
           "#FF97FF",
           "#FECB52"
          ],
          "font": {
           "color": "#f2f5fa"
          },
          "geo": {
           "bgcolor": "rgb(17,17,17)",
           "lakecolor": "rgb(17,17,17)",
           "landcolor": "rgb(17,17,17)",
           "showlakes": true,
           "showland": true,
           "subunitcolor": "#506784"
          },
          "hoverlabel": {
           "align": "left"
          },
          "hovermode": "closest",
          "mapbox": {
           "style": "dark"
          },
          "paper_bgcolor": "rgb(17,17,17)",
          "plot_bgcolor": "rgb(17,17,17)",
          "polar": {
           "angularaxis": {
            "gridcolor": "#506784",
            "linecolor": "#506784",
            "ticks": ""
           },
           "bgcolor": "rgb(17,17,17)",
           "radialaxis": {
            "gridcolor": "#506784",
            "linecolor": "#506784",
            "ticks": ""
           }
          },
          "scene": {
           "xaxis": {
            "backgroundcolor": "rgb(17,17,17)",
            "gridcolor": "#506784",
            "gridwidth": 2,
            "linecolor": "#506784",
            "showbackground": true,
            "ticks": "",
            "zerolinecolor": "#C8D4E3"
           },
           "yaxis": {
            "backgroundcolor": "rgb(17,17,17)",
            "gridcolor": "#506784",
            "gridwidth": 2,
            "linecolor": "#506784",
            "showbackground": true,
            "ticks": "",
            "zerolinecolor": "#C8D4E3"
           },
           "zaxis": {
            "backgroundcolor": "rgb(17,17,17)",
            "gridcolor": "#506784",
            "gridwidth": 2,
            "linecolor": "#506784",
            "showbackground": true,
            "ticks": "",
            "zerolinecolor": "#C8D4E3"
           }
          },
          "shapedefaults": {
           "line": {
            "color": "#f2f5fa"
           }
          },
          "sliderdefaults": {
           "bgcolor": "#C8D4E3",
           "bordercolor": "rgb(17,17,17)",
           "borderwidth": 1,
           "tickwidth": 0
          },
          "ternary": {
           "aaxis": {
            "gridcolor": "#506784",
            "linecolor": "#506784",
            "ticks": ""
           },
           "baxis": {
            "gridcolor": "#506784",
            "linecolor": "#506784",
            "ticks": ""
           },
           "bgcolor": "rgb(17,17,17)",
           "caxis": {
            "gridcolor": "#506784",
            "linecolor": "#506784",
            "ticks": ""
           }
          },
          "title": {
           "x": 0.05
          },
          "updatemenudefaults": {
           "bgcolor": "#506784",
           "borderwidth": 0
          },
          "xaxis": {
           "automargin": true,
           "gridcolor": "#283442",
           "linecolor": "#506784",
           "ticks": "",
           "title": {
            "standoff": 15
           },
           "zerolinecolor": "#283442",
           "zerolinewidth": 2
          },
          "yaxis": {
           "automargin": true,
           "gridcolor": "#283442",
           "linecolor": "#506784",
           "ticks": "",
           "title": {
            "standoff": 15
           },
           "zerolinecolor": "#283442",
           "zerolinewidth": 2
          }
         }
        },
        "title": {
         "text": "Paper: Towards Accurate and Reliable Change Detection of Remote Sensing Images via Knowledge Review and Online Uncertainty Estimation (2023)"
        },
        "xaxis": {
         "anchor": "y",
         "domain": [
          0,
          1
         ],
         "title": {
          "text": "publicationDate"
         }
        },
        "yaxis": {
         "anchor": "x",
         "domain": [
          0,
          1
         ],
         "dtick": 1,
         "showgrid": true,
         "title": {
          "text": "venue"
         },
         "type": "category"
        }
       }
      }
     },
     "metadata": {},
     "output_type": "display_data"
    }
   ],
   "source": [
    "paper = s2.get_paper_from_id(paper_id=paper_id)\n",
    "df_references = s2.get_references_df(paper.references)\n",
    "title = f\"Paper: {paper.title} ({paper.year})\"\n",
    "fig = s2.plot_references_timeline(df_references, title=title)\n",
    "fig.show()"
   ]
  },
  {
   "cell_type": "code",
   "execution_count": null,
   "metadata": {},
   "outputs": [],
   "source": []
  }
 ],
 "metadata": {
  "kernelspec": {
   "display_name": "paper-analysis-RNeKgHHX",
   "language": "python",
   "name": "python3"
  },
  "language_info": {
   "codemirror_mode": {
    "name": "ipython",
    "version": 3
   },
   "file_extension": ".py",
   "mimetype": "text/x-python",
   "name": "python",
   "nbconvert_exporter": "python",
   "pygments_lexer": "ipython3",
   "version": "3.10.11"
  },
  "orig_nbformat": 4
 },
 "nbformat": 4,
 "nbformat_minor": 2
}
