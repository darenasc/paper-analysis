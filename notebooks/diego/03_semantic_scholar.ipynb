{
 "cells": [
  {
   "cell_type": "code",
   "execution_count": 1,
   "metadata": {},
   "outputs": [],
   "source": [
    "from datetime import datetime\n",
    "\n",
    "import numpy as np\n",
    "import pandas as pd\n",
    "import plotly.express as px\n",
    "import requests\n",
    "from semanticscholar import SemanticScholar\n",
    "\n",
    "from paper_analysis import semantic_scholar as s2"
   ]
  },
  {
   "cell_type": "code",
   "execution_count": 2,
   "metadata": {},
   "outputs": [],
   "source": [
    "paper_id = s2.get_id_from_url(\n",
    "    \"https://www.semanticscholar.org/paper/Mapping-poverty-at-multiple-geographical-scales-Nicolò-Fabrizi/f24dc845602d5b395b3c33697e6edcf29ad5776a\"\n",
    ")"
   ]
  },
  {
   "cell_type": "code",
   "execution_count": 3,
   "metadata": {},
   "outputs": [],
   "source": [
    "paper = s2.get_paper_from_id(paper_id=paper_id)"
   ]
  },
  {
   "cell_type": "code",
   "execution_count": 2,
   "metadata": {},
   "outputs": [
    {
     "data": {
      "text/plain": [
       "'Mapping poverty at multiple geographical scales'"
      ]
     },
     "execution_count": 2,
     "metadata": {},
     "output_type": "execute_result"
    }
   ],
   "source": [
    "sch = SemanticScholar()\n",
    "paper = sch.get_paper(\"f24dc845602d5b395b3c33697e6edcf29ad5776a\")\n",
    "paper.title"
   ]
  },
  {
   "cell_type": "code",
   "execution_count": 4,
   "metadata": {},
   "outputs": [
    {
     "name": "stdout",
     "output_type": "stream",
     "text": [
      "['paperId', 'externalIds', 'corpusId', 'publicationVenue', 'url', 'title', 'abstract', 'venue', 'year', 'referenceCount', 'citationCount', 'influentialCitationCount', 'isOpenAccess', 'openAccessPdf', 'fieldsOfStudy', 's2FieldsOfStudy', 'publicationTypes', 'publicationDate', 'journal', 'citationStyles', 'authors']\n"
     ]
    },
    {
     "data": {
      "text/html": [
       "<div>\n",
       "<style scoped>\n",
       "    .dataframe tbody tr th:only-of-type {\n",
       "        vertical-align: middle;\n",
       "    }\n",
       "\n",
       "    .dataframe tbody tr th {\n",
       "        vertical-align: top;\n",
       "    }\n",
       "\n",
       "    .dataframe thead th {\n",
       "        text-align: right;\n",
       "    }\n",
       "</style>\n",
       "<table border=\"1\" class=\"dataframe\">\n",
       "  <thead>\n",
       "    <tr style=\"text-align: right;\">\n",
       "      <th></th>\n",
       "      <th>paperId</th>\n",
       "      <th>title</th>\n",
       "      <th>url</th>\n",
       "      <th>publicationDate</th>\n",
       "      <th>venue</th>\n",
       "      <th>publication_venue_type</th>\n",
       "      <th>referenceCount</th>\n",
       "      <th>citationCount</th>\n",
       "      <th>binning</th>\n",
       "    </tr>\n",
       "  </thead>\n",
       "  <tbody>\n",
       "    <tr>\n",
       "      <th>0</th>\n",
       "      <td>90405063133184d0ad29b426feb490ece0ce83b9</td>\n",
       "      <td>A review of machine learning and satellite ima...</td>\n",
       "      <td>https://www.semanticscholar.org/paper/90405063...</td>\n",
       "      <td>2023-02-01</td>\n",
       "      <td>Journal of International Development</td>\n",
       "      <td>journal</td>\n",
       "      <td>37.0</td>\n",
       "      <td>2.0</td>\n",
       "      <td>1</td>\n",
       "    </tr>\n",
       "    <tr>\n",
       "      <th>1</th>\n",
       "      <td>830d29d57e9c54bff7803aa52b00dc56535b4470</td>\n",
       "      <td>Multivariate mixture model for small area esti...</td>\n",
       "      <td>https://www.semanticscholar.org/paper/830d29d5...</td>\n",
       "      <td>2022-12-01</td>\n",
       "      <td>Journal of the Royal Statistical Society: Seri...</td>\n",
       "      <td>None</td>\n",
       "      <td>27.0</td>\n",
       "      <td>1.0</td>\n",
       "      <td>1</td>\n",
       "    </tr>\n",
       "    <tr>\n",
       "      <th>2</th>\n",
       "      <td>d253b41297e7ec43cec7f02401196125188e0824</td>\n",
       "      <td>Guidelines to Small Area Estimation for Povert...</td>\n",
       "      <td>https://www.semanticscholar.org/paper/d253b412...</td>\n",
       "      <td>2022-06-16</td>\n",
       "      <td></td>\n",
       "      <td>None</td>\n",
       "      <td>0.0</td>\n",
       "      <td>2.0</td>\n",
       "      <td>1</td>\n",
       "    </tr>\n",
       "    <tr>\n",
       "      <th>3</th>\n",
       "      <td>2c36a2514c98f47483a40c5152b337a2bc4450c0</td>\n",
       "      <td>A Computationally Efficient Approach to Fully ...</td>\n",
       "      <td>https://www.semanticscholar.org/paper/2c36a251...</td>\n",
       "      <td>2022-03-23</td>\n",
       "      <td></td>\n",
       "      <td>None</td>\n",
       "      <td>0.0</td>\n",
       "      <td>1.0</td>\n",
       "      <td>1</td>\n",
       "    </tr>\n",
       "    <tr>\n",
       "      <th>4</th>\n",
       "      <td>3bba63cd7b14cdcd458a4fa6be8c78d2582cd65c</td>\n",
       "      <td>Accounting for survey design in Bayesian disag...</td>\n",
       "      <td>https://www.semanticscholar.org/paper/3bba63cd...</td>\n",
       "      <td>2021-12-13</td>\n",
       "      <td>Annals of Applied Statistics</td>\n",
       "      <td>journal</td>\n",
       "      <td>51.0</td>\n",
       "      <td>2.0</td>\n",
       "      <td>1</td>\n",
       "    </tr>\n",
       "  </tbody>\n",
       "</table>\n",
       "</div>"
      ],
      "text/plain": [
       "                                    paperId  \\\n",
       "0  90405063133184d0ad29b426feb490ece0ce83b9   \n",
       "1  830d29d57e9c54bff7803aa52b00dc56535b4470   \n",
       "2  d253b41297e7ec43cec7f02401196125188e0824   \n",
       "3  2c36a2514c98f47483a40c5152b337a2bc4450c0   \n",
       "4  3bba63cd7b14cdcd458a4fa6be8c78d2582cd65c   \n",
       "\n",
       "                                               title  \\\n",
       "0  A review of machine learning and satellite ima...   \n",
       "1  Multivariate mixture model for small area esti...   \n",
       "2  Guidelines to Small Area Estimation for Povert...   \n",
       "3  A Computationally Efficient Approach to Fully ...   \n",
       "4  Accounting for survey design in Bayesian disag...   \n",
       "\n",
       "                                                 url publicationDate  \\\n",
       "0  https://www.semanticscholar.org/paper/90405063...      2023-02-01   \n",
       "1  https://www.semanticscholar.org/paper/830d29d5...      2022-12-01   \n",
       "2  https://www.semanticscholar.org/paper/d253b412...      2022-06-16   \n",
       "3  https://www.semanticscholar.org/paper/2c36a251...      2022-03-23   \n",
       "4  https://www.semanticscholar.org/paper/3bba63cd...      2021-12-13   \n",
       "\n",
       "                                               venue publication_venue_type  \\\n",
       "0               Journal of International Development                journal   \n",
       "1  Journal of the Royal Statistical Society: Seri...                   None   \n",
       "2                                                                      None   \n",
       "3                                                                      None   \n",
       "4                       Annals of Applied Statistics                journal   \n",
       "\n",
       "   referenceCount  citationCount  binning  \n",
       "0            37.0            2.0        1  \n",
       "1            27.0            1.0        1  \n",
       "2             0.0            2.0        1  \n",
       "3             0.0            1.0        1  \n",
       "4            51.0            2.0        1  "
      ]
     },
     "execution_count": 4,
     "metadata": {},
     "output_type": "execute_result"
    }
   ],
   "source": [
    "def get_references(references: list) -> list:\n",
    "    data = []\n",
    "    for ref in references:\n",
    "        if ref[\"publicationVenue\"]:\n",
    "            if ref[\"publicationVenue\"][\"type\"]:\n",
    "                publication_venue_type = ref[\"publicationVenue\"][\"type\"]\n",
    "        else:\n",
    "            publication_venue_type = None\n",
    "        data.append(\n",
    "            (\n",
    "                ref[\"paperId\"],\n",
    "                ref[\"title\"],\n",
    "                ref[\"url\"],\n",
    "                ref[\"publicationDate\"],\n",
    "                ref[\"venue\"],\n",
    "                publication_venue_type,\n",
    "                ref[\"referenceCount\"],\n",
    "                ref[\"citationCount\"],\n",
    "            )\n",
    "        )\n",
    "    return data\n",
    "\n",
    "\n",
    "print([k for k in paper.references[0].keys()])\n",
    "data = get_references(paper.references)\n",
    "df = pd.DataFrame(\n",
    "    data,\n",
    "    columns=[\n",
    "        \"paperId\",\n",
    "        \"title\",\n",
    "        \"url\",\n",
    "        \"publicationDate\",\n",
    "        \"venue\",\n",
    "        \"publication_venue_type\",\n",
    "        \"referenceCount\",\n",
    "        \"citationCount\",\n",
    "    ],\n",
    ")\n",
    "df.citationCount = df.citationCount.fillna(0)\n",
    "df[\"binning\"] = pd.qcut(df.citationCount, 8, labels=False)\n",
    "df[\"binning\"] = df[\"binning\"] + 1\n",
    "# df['binning'] = pd.cut(df.citationCount, bins=4, labels=False)\n",
    "df.head()"
   ]
  },
  {
   "cell_type": "code",
   "execution_count": 27,
   "metadata": {},
   "outputs": [
    {
     "data": {
      "text/plain": [
       "28"
      ]
     },
     "execution_count": 27,
     "metadata": {},
     "output_type": "execute_result"
    }
   ],
   "source": [
    "len(df.venue.unique())"
   ]
  },
  {
   "cell_type": "code",
   "execution_count": 30,
   "metadata": {},
   "outputs": [
    {
     "data": {
      "application/vnd.plotly.v1+json": {
       "config": {
        "plotlyServerURL": "https://plot.ly"
       },
       "data": [
        {
         "customdata": [
          [
           "A review of machine learning and satellite imagery for poverty prediction: Implications for development research and applications",
           37,
           2
          ],
          [
           "Multivariate mixture model for small area estimation of poverty indicators",
           27,
           1
          ],
          [
           "Guidelines to Small Area Estimation for Poverty Mapping",
           0,
           2
          ],
          [
           "A Computationally Efficient Approach to Fully Bayesian Benchmarking",
           0,
           1
          ],
          [
           "Accounting for survey design in Bayesian disaggregation of survey-based areal estimates of proportions: An application to the American Community Survey",
           51,
           2
          ],
          [
           "Using Satellite Data to Guide Urban Poverty Reduction",
           32,
           10
          ],
          [
           "Paths out of poverty: International experience",
           21,
           12
          ],
          [
           "A Clipped Gaussian Geo-Classification model for poverty mapping",
           19,
           2
          ],
          [
           "Properties of the beta regression model for small area estimation of proportions and application to estimation of poverty rates",
           24,
           10
          ],
          [
           "Fully Bayesian Benchmarking of Small Area Estimation Models",
           52,
           8
          ],
          [
           "Approaches and Alternatives to the Wealth Index to Measure Socioeconomic Status Using Survey Data: A Critical Interpretive Synthesis",
           72,
           69
          ],
          [
           "Estimation of Poverty Using Random Forest Regression with Multi-Source Data: A Case Study in Bangladesh",
           58,
           81
          ],
          [
           "The geography of poverty: Review and research prospects",
           161,
           66
          ],
          [
           "Constrained inference through posterior projections",
           46,
           13
          ],
          [
           "Model‐based county level crop estimates incorporating auxiliary sources of information",
           43,
           24
          ],
          [
           "Comparing multilevel and multiscale convolution models for small area aggregated health data.",
           44,
           3
          ],
          [
           "Sparsity information and regularization in the horseshoe and other shrinkage priors",
           40,
           253
          ],
          [
           "Places in Need: The Changing Geography of Poverty",
           0,
           73
          ],
          [
           "Constructing sociodemographic indicators for national statistical institutes by using mobile phone data: estimating literacy rates in Senegal",
           61,
           47
          ],
          [
           "Spatio-temporal patterns of rural poverty in China and targeted poverty alleviation strategies",
           108,
           280
          ],
          [
           "Benchmarking techniques for reconciling Bayesian small area models at distinct geographic levels",
           22,
           2
          ],
          [
           "Mapping poverty using mobile phone and satellite data",
           95,
           226
          ],
          [
           "Stan: A Probabilistic Programming Language.",
           58,
           5131
          ],
          [
           "Practical Bayesian model evaluation using leave-one-out cross-validation and WAIC",
           32,
           89
          ],
          [
           "Combining satellite imagery and machine learning to predict poverty",
           35,
           1113
          ],
          [
           "Multiscale measurement error models for aggregated small area health data",
           31,
           6
          ],
          [
           "Encyclopedia of Quality of Life and Well-being Research",
           0,
           794
          ],
          [
           "Impact of flood disasters in Bangladesh: A multi-sector regional analysis",
           20,
           28
          ],
          [
           "Benchmarked empirical Bayes methods in multiplicative area-level models with risk evaluation",
           26,
           18
          ],
          [
           "Practical Bayesian model evaluation using leave-one-out cross-validation and WAIC",
           43,
           2729
          ],
          [
           "Do Poverty Traps Exist? Assessing the Evidence",
           66,
           230
          ],
          [
           "Small area estimation of general parameters with application to poverty indicators: A hierarchical Bayes approach",
           32,
           95
          ],
          [
           "On small area estimation under a sub-area level model",
           22,
           27
          ],
          [
           "Poverty Reduction During the Rural-Urban Transformation: The Role of the Missing Middle",
           31,
           139
          ],
          [
           "Benchmarking small area estimators",
           27,
           41
          ],
          [
           "A systematic review of Demographic and Health Surveys: data availability and utilization for research.",
           32,
           157
          ],
          [
           "Bayesian benchmarking with applications to small area estimation",
           27,
           73
          ],
          [
           "Evaluation of the Effectiveness of Water Management Policies in Bangladesh",
           29,
           24
          ],
          [
           "Multiscale Statistical Models for Hierarchical Spatial Aggregation",
           31,
           39
          ],
          [
           "A multiscale method for disease mapping in spatial epidemiology",
           29,
           33
          ],
          [
           "Spatial patterns of rural poverty and their relationship with welfare-influencing factors in Bangladesh",
           25,
           69
          ],
          [
           "On the optimality of conditional expectation as a Bregman predictor",
           26,
           253
          ],
          [
           "Decentralized targeting of an antipoverty program",
           36,
           448
          ],
          [
           "Poverty Alleviation Through Geographic Targeting: How Much Does Disaggregation Help?",
           21,
           224
          ],
          [
           "Beta Regression for Modelling Rates and Proportions",
           29,
           2231
          ],
          [
           "Bayesian Inference on Order‐Constrained Parameters in Generalized Linear Models",
           27,
           86
          ],
          [
           "From start to finish.",
           0,
           12
          ],
          [
           "On criteria for measures of compositional difference",
           6,
           209
          ],
          [
           "Extended beta models for poverty mapping. an application integrating survey and remote sensing data in Bangladesh",
           null,
           0
          ],
          [
           "Smallholder farmers’ willingness to pay for flood insurance as climate change adaptation strategy in northern bangladesh",
           null,
           0
          ],
          [
           "Constrained Bayesian Inference through Posterior Projection with Applications",
           0,
           2
          ],
          [
           "Poverty Mapping for the Chilean Comunas",
           20,
           29
          ],
          [
           "Introduction on Measuring Poverty at Local Level Using Small Area Estimation Methods",
           37,
           17
          ],
          [
           "Hierarchical beta regression models for the estimation of poverty and inequality parameters in small areas. Analysis of Poverty Data by Small Area Methods",
           null,
           0
          ],
          [
           "Hierarchical Bayes Modeling of Survey-Weighted Small Area Proportions",
           42,
           47
          ],
          [
           "Small Area Estimation",
           0,
           894
          ],
          [
           "Spatial maps. targeting & mapping poverty. London: United Nations. Economic Commission for Africa",
           null,
           0
          ],
          [
           "Geographical Targeting for Poverty Alleviation: An Introduction to the Special Issue",
           28,
           154
          ],
          [
           "Discussion of ‘an essay on the logical foundations of survey sampling, part i",
           null,
           0
          ]
         ],
         "hovertemplate": "publicationDate=%{x}<br>venue=%{y}<br>citationCount=%{marker.color}<br>title=%{customdata[0]}<br>referenceCount=%{customdata[1]}<extra></extra>",
         "legendgroup": "",
         "marker": {
          "color": [
           2,
           1,
           2,
           1,
           2,
           10,
           12,
           2,
           10,
           8,
           69,
           81,
           66,
           13,
           24,
           3,
           253,
           73,
           47,
           280,
           2,
           226,
           5131,
           89,
           1113,
           6,
           794,
           28,
           18,
           2729,
           230,
           95,
           27,
           139,
           41,
           157,
           73,
           24,
           39,
           33,
           69,
           253,
           448,
           224,
           2231,
           86,
           12,
           209,
           0,
           0,
           2,
           29,
           17,
           0,
           47,
           894,
           0,
           154,
           0
          ],
          "coloraxis": "coloraxis",
          "size": [
           2,
           1,
           2,
           1,
           2,
           10,
           12,
           2,
           10,
           8,
           69,
           81,
           66,
           13,
           24,
           3,
           253,
           73,
           47,
           280,
           2,
           226,
           5131,
           89,
           1113,
           6,
           794,
           28,
           18,
           2729,
           230,
           95,
           27,
           139,
           41,
           157,
           73,
           24,
           39,
           33,
           69,
           253,
           448,
           224,
           2231,
           86,
           12,
           209,
           0,
           0,
           2,
           29,
           17,
           0,
           47,
           894,
           0,
           154,
           0
          ],
          "sizemode": "area",
          "sizeref": 1.4252777777777779,
          "symbol": "circle"
         },
         "mode": "markers",
         "name": "",
         "orientation": "v",
         "showlegend": false,
         "type": "scatter",
         "x": [
          "2023-02-01",
          "2022-12-01",
          "2022-06-16",
          "2022-03-23",
          "2021-12-13",
          "2021-11-13",
          "2021-04-01",
          "2020-06-18",
          "2020-05-02",
          "2020-03-01",
          "2019-09-12",
          "2019-02-13",
          "2019-02-01",
          "2018-12-14",
          "2018-07-13",
          "2017-08-01",
          "2017-07-01",
          "2017-06-20",
          "2017-05-22",
          "2017-05-01",
          "2017-03-24",
          "2017-02-01",
          "2017-01-11",
          "2016-08-30",
          "2016-08-19",
          "2016-08-01",
          "2015-09-23",
          "2015-09-01",
          "2015-09-01",
          "2015-07-16",
          "2014-08-01",
          "2014-06-01",
          "2014-05-01",
          "2013-05-01",
          "2013-03-01",
          "2012-08-01",
          "2011-11-01",
          "2011-04-21",
          "2010-09-03",
          "2006-04-30",
          "2005-10-01",
          "2005-07-01",
          "2005-04-01",
          "2004-10-01",
          "2004-08-01",
          "2003-06-01",
          "1995-10-04",
          "1992-05-01",
          null,
          null,
          null,
          null,
          null,
          null,
          null,
          null,
          null,
          null,
          null
         ],
         "xaxis": "x",
         "y": [
          "Journal of International Development",
          "Journal of the Royal Statistical Society: Series A (Statistics in Society)",
          "",
          "",
          "Annals of Applied Statistics",
          "The Review of Income and Wealth",
          "",
          "Journal of Applied Statistics",
          "Communications in Statistics - Theory and Methods",
          "Journal of Official Statistics",
          "Social Indicators Research",
          "Remote Sensing",
          "Journal of Rural Studies",
          "",
          "Journal of the Royal Statistical Society: Series A (Statistics in Society)",
          "Spatial and Spatio-temporal Epidemiology",
          "",
          "",
          "",
          "",
          "Stat. Methods Appl.",
          "Journal of the Royal Society Interface",
          "Journal of Statistical Software",
          "Statistics and computing",
          "Science",
          "Statistical Methods in Medical Research",
          "",
          "",
          "",
          "Statistics and computing",
          "",
          "",
          "Journal of Multivariate Analysis",
          "",
          "",
          "Bulletin of the World Health Organization",
          "",
          "",
          "",
          "Statistics in Medicine",
          "",
          "IEEE Transactions on Information Theory",
          "",
          "",
          "",
          "Biometrics",
          "Nursing Times",
          "",
          "In Quaderni di Dipartimento. Serie Ricerche",
          "Journal of Cleaner Production,",
          "",
          "",
          "",
          "",
          "",
          "International Encyclopedia of Statistical Science",
          "",
          "",
          "by d. basu. Foundations of Statistical Inference,"
         ],
         "yaxis": "y"
        }
       ],
       "layout": {
        "coloraxis": {
         "colorbar": {
          "title": {
           "text": "citationCount"
          }
         },
         "colorscale": [
          [
           0,
           "#0d0887"
          ],
          [
           0.1111111111111111,
           "#46039f"
          ],
          [
           0.2222222222222222,
           "#7201a8"
          ],
          [
           0.3333333333333333,
           "#9c179e"
          ],
          [
           0.4444444444444444,
           "#bd3786"
          ],
          [
           0.5555555555555556,
           "#d8576b"
          ],
          [
           0.6666666666666666,
           "#ed7953"
          ],
          [
           0.7777777777777778,
           "#fb9f3a"
          ],
          [
           0.8888888888888888,
           "#fdca26"
          ],
          [
           1,
           "#f0f921"
          ]
         ]
        },
        "height": 700,
        "legend": {
         "itemsizing": "constant",
         "tracegroupgap": 0
        },
        "template": {
         "data": {
          "bar": [
           {
            "error_x": {
             "color": "#2a3f5f"
            },
            "error_y": {
             "color": "#2a3f5f"
            },
            "marker": {
             "line": {
              "color": "#E5ECF6",
              "width": 0.5
             },
             "pattern": {
              "fillmode": "overlay",
              "size": 10,
              "solidity": 0.2
             }
            },
            "type": "bar"
           }
          ],
          "barpolar": [
           {
            "marker": {
             "line": {
              "color": "#E5ECF6",
              "width": 0.5
             },
             "pattern": {
              "fillmode": "overlay",
              "size": 10,
              "solidity": 0.2
             }
            },
            "type": "barpolar"
           }
          ],
          "carpet": [
           {
            "aaxis": {
             "endlinecolor": "#2a3f5f",
             "gridcolor": "white",
             "linecolor": "white",
             "minorgridcolor": "white",
             "startlinecolor": "#2a3f5f"
            },
            "baxis": {
             "endlinecolor": "#2a3f5f",
             "gridcolor": "white",
             "linecolor": "white",
             "minorgridcolor": "white",
             "startlinecolor": "#2a3f5f"
            },
            "type": "carpet"
           }
          ],
          "choropleth": [
           {
            "colorbar": {
             "outlinewidth": 0,
             "ticks": ""
            },
            "type": "choropleth"
           }
          ],
          "contour": [
           {
            "colorbar": {
             "outlinewidth": 0,
             "ticks": ""
            },
            "colorscale": [
             [
              0,
              "#0d0887"
             ],
             [
              0.1111111111111111,
              "#46039f"
             ],
             [
              0.2222222222222222,
              "#7201a8"
             ],
             [
              0.3333333333333333,
              "#9c179e"
             ],
             [
              0.4444444444444444,
              "#bd3786"
             ],
             [
              0.5555555555555556,
              "#d8576b"
             ],
             [
              0.6666666666666666,
              "#ed7953"
             ],
             [
              0.7777777777777778,
              "#fb9f3a"
             ],
             [
              0.8888888888888888,
              "#fdca26"
             ],
             [
              1,
              "#f0f921"
             ]
            ],
            "type": "contour"
           }
          ],
          "contourcarpet": [
           {
            "colorbar": {
             "outlinewidth": 0,
             "ticks": ""
            },
            "type": "contourcarpet"
           }
          ],
          "heatmap": [
           {
            "colorbar": {
             "outlinewidth": 0,
             "ticks": ""
            },
            "colorscale": [
             [
              0,
              "#0d0887"
             ],
             [
              0.1111111111111111,
              "#46039f"
             ],
             [
              0.2222222222222222,
              "#7201a8"
             ],
             [
              0.3333333333333333,
              "#9c179e"
             ],
             [
              0.4444444444444444,
              "#bd3786"
             ],
             [
              0.5555555555555556,
              "#d8576b"
             ],
             [
              0.6666666666666666,
              "#ed7953"
             ],
             [
              0.7777777777777778,
              "#fb9f3a"
             ],
             [
              0.8888888888888888,
              "#fdca26"
             ],
             [
              1,
              "#f0f921"
             ]
            ],
            "type": "heatmap"
           }
          ],
          "heatmapgl": [
           {
            "colorbar": {
             "outlinewidth": 0,
             "ticks": ""
            },
            "colorscale": [
             [
              0,
              "#0d0887"
             ],
             [
              0.1111111111111111,
              "#46039f"
             ],
             [
              0.2222222222222222,
              "#7201a8"
             ],
             [
              0.3333333333333333,
              "#9c179e"
             ],
             [
              0.4444444444444444,
              "#bd3786"
             ],
             [
              0.5555555555555556,
              "#d8576b"
             ],
             [
              0.6666666666666666,
              "#ed7953"
             ],
             [
              0.7777777777777778,
              "#fb9f3a"
             ],
             [
              0.8888888888888888,
              "#fdca26"
             ],
             [
              1,
              "#f0f921"
             ]
            ],
            "type": "heatmapgl"
           }
          ],
          "histogram": [
           {
            "marker": {
             "pattern": {
              "fillmode": "overlay",
              "size": 10,
              "solidity": 0.2
             }
            },
            "type": "histogram"
           }
          ],
          "histogram2d": [
           {
            "colorbar": {
             "outlinewidth": 0,
             "ticks": ""
            },
            "colorscale": [
             [
              0,
              "#0d0887"
             ],
             [
              0.1111111111111111,
              "#46039f"
             ],
             [
              0.2222222222222222,
              "#7201a8"
             ],
             [
              0.3333333333333333,
              "#9c179e"
             ],
             [
              0.4444444444444444,
              "#bd3786"
             ],
             [
              0.5555555555555556,
              "#d8576b"
             ],
             [
              0.6666666666666666,
              "#ed7953"
             ],
             [
              0.7777777777777778,
              "#fb9f3a"
             ],
             [
              0.8888888888888888,
              "#fdca26"
             ],
             [
              1,
              "#f0f921"
             ]
            ],
            "type": "histogram2d"
           }
          ],
          "histogram2dcontour": [
           {
            "colorbar": {
             "outlinewidth": 0,
             "ticks": ""
            },
            "colorscale": [
             [
              0,
              "#0d0887"
             ],
             [
              0.1111111111111111,
              "#46039f"
             ],
             [
              0.2222222222222222,
              "#7201a8"
             ],
             [
              0.3333333333333333,
              "#9c179e"
             ],
             [
              0.4444444444444444,
              "#bd3786"
             ],
             [
              0.5555555555555556,
              "#d8576b"
             ],
             [
              0.6666666666666666,
              "#ed7953"
             ],
             [
              0.7777777777777778,
              "#fb9f3a"
             ],
             [
              0.8888888888888888,
              "#fdca26"
             ],
             [
              1,
              "#f0f921"
             ]
            ],
            "type": "histogram2dcontour"
           }
          ],
          "mesh3d": [
           {
            "colorbar": {
             "outlinewidth": 0,
             "ticks": ""
            },
            "type": "mesh3d"
           }
          ],
          "parcoords": [
           {
            "line": {
             "colorbar": {
              "outlinewidth": 0,
              "ticks": ""
             }
            },
            "type": "parcoords"
           }
          ],
          "pie": [
           {
            "automargin": true,
            "type": "pie"
           }
          ],
          "scatter": [
           {
            "fillpattern": {
             "fillmode": "overlay",
             "size": 10,
             "solidity": 0.2
            },
            "type": "scatter"
           }
          ],
          "scatter3d": [
           {
            "line": {
             "colorbar": {
              "outlinewidth": 0,
              "ticks": ""
             }
            },
            "marker": {
             "colorbar": {
              "outlinewidth": 0,
              "ticks": ""
             }
            },
            "type": "scatter3d"
           }
          ],
          "scattercarpet": [
           {
            "marker": {
             "colorbar": {
              "outlinewidth": 0,
              "ticks": ""
             }
            },
            "type": "scattercarpet"
           }
          ],
          "scattergeo": [
           {
            "marker": {
             "colorbar": {
              "outlinewidth": 0,
              "ticks": ""
             }
            },
            "type": "scattergeo"
           }
          ],
          "scattergl": [
           {
            "marker": {
             "colorbar": {
              "outlinewidth": 0,
              "ticks": ""
             }
            },
            "type": "scattergl"
           }
          ],
          "scattermapbox": [
           {
            "marker": {
             "colorbar": {
              "outlinewidth": 0,
              "ticks": ""
             }
            },
            "type": "scattermapbox"
           }
          ],
          "scatterpolar": [
           {
            "marker": {
             "colorbar": {
              "outlinewidth": 0,
              "ticks": ""
             }
            },
            "type": "scatterpolar"
           }
          ],
          "scatterpolargl": [
           {
            "marker": {
             "colorbar": {
              "outlinewidth": 0,
              "ticks": ""
             }
            },
            "type": "scatterpolargl"
           }
          ],
          "scatterternary": [
           {
            "marker": {
             "colorbar": {
              "outlinewidth": 0,
              "ticks": ""
             }
            },
            "type": "scatterternary"
           }
          ],
          "surface": [
           {
            "colorbar": {
             "outlinewidth": 0,
             "ticks": ""
            },
            "colorscale": [
             [
              0,
              "#0d0887"
             ],
             [
              0.1111111111111111,
              "#46039f"
             ],
             [
              0.2222222222222222,
              "#7201a8"
             ],
             [
              0.3333333333333333,
              "#9c179e"
             ],
             [
              0.4444444444444444,
              "#bd3786"
             ],
             [
              0.5555555555555556,
              "#d8576b"
             ],
             [
              0.6666666666666666,
              "#ed7953"
             ],
             [
              0.7777777777777778,
              "#fb9f3a"
             ],
             [
              0.8888888888888888,
              "#fdca26"
             ],
             [
              1,
              "#f0f921"
             ]
            ],
            "type": "surface"
           }
          ],
          "table": [
           {
            "cells": {
             "fill": {
              "color": "#EBF0F8"
             },
             "line": {
              "color": "white"
             }
            },
            "header": {
             "fill": {
              "color": "#C8D4E3"
             },
             "line": {
              "color": "white"
             }
            },
            "type": "table"
           }
          ]
         },
         "layout": {
          "annotationdefaults": {
           "arrowcolor": "#2a3f5f",
           "arrowhead": 0,
           "arrowwidth": 1
          },
          "autotypenumbers": "strict",
          "coloraxis": {
           "colorbar": {
            "outlinewidth": 0,
            "ticks": ""
           }
          },
          "colorscale": {
           "diverging": [
            [
             0,
             "#8e0152"
            ],
            [
             0.1,
             "#c51b7d"
            ],
            [
             0.2,
             "#de77ae"
            ],
            [
             0.3,
             "#f1b6da"
            ],
            [
             0.4,
             "#fde0ef"
            ],
            [
             0.5,
             "#f7f7f7"
            ],
            [
             0.6,
             "#e6f5d0"
            ],
            [
             0.7,
             "#b8e186"
            ],
            [
             0.8,
             "#7fbc41"
            ],
            [
             0.9,
             "#4d9221"
            ],
            [
             1,
             "#276419"
            ]
           ],
           "sequential": [
            [
             0,
             "#0d0887"
            ],
            [
             0.1111111111111111,
             "#46039f"
            ],
            [
             0.2222222222222222,
             "#7201a8"
            ],
            [
             0.3333333333333333,
             "#9c179e"
            ],
            [
             0.4444444444444444,
             "#bd3786"
            ],
            [
             0.5555555555555556,
             "#d8576b"
            ],
            [
             0.6666666666666666,
             "#ed7953"
            ],
            [
             0.7777777777777778,
             "#fb9f3a"
            ],
            [
             0.8888888888888888,
             "#fdca26"
            ],
            [
             1,
             "#f0f921"
            ]
           ],
           "sequentialminus": [
            [
             0,
             "#0d0887"
            ],
            [
             0.1111111111111111,
             "#46039f"
            ],
            [
             0.2222222222222222,
             "#7201a8"
            ],
            [
             0.3333333333333333,
             "#9c179e"
            ],
            [
             0.4444444444444444,
             "#bd3786"
            ],
            [
             0.5555555555555556,
             "#d8576b"
            ],
            [
             0.6666666666666666,
             "#ed7953"
            ],
            [
             0.7777777777777778,
             "#fb9f3a"
            ],
            [
             0.8888888888888888,
             "#fdca26"
            ],
            [
             1,
             "#f0f921"
            ]
           ]
          },
          "colorway": [
           "#636efa",
           "#EF553B",
           "#00cc96",
           "#ab63fa",
           "#FFA15A",
           "#19d3f3",
           "#FF6692",
           "#B6E880",
           "#FF97FF",
           "#FECB52"
          ],
          "font": {
           "color": "#2a3f5f"
          },
          "geo": {
           "bgcolor": "white",
           "lakecolor": "white",
           "landcolor": "#E5ECF6",
           "showlakes": true,
           "showland": true,
           "subunitcolor": "white"
          },
          "hoverlabel": {
           "align": "left"
          },
          "hovermode": "closest",
          "mapbox": {
           "style": "light"
          },
          "paper_bgcolor": "white",
          "plot_bgcolor": "#E5ECF6",
          "polar": {
           "angularaxis": {
            "gridcolor": "white",
            "linecolor": "white",
            "ticks": ""
           },
           "bgcolor": "#E5ECF6",
           "radialaxis": {
            "gridcolor": "white",
            "linecolor": "white",
            "ticks": ""
           }
          },
          "scene": {
           "xaxis": {
            "backgroundcolor": "#E5ECF6",
            "gridcolor": "white",
            "gridwidth": 2,
            "linecolor": "white",
            "showbackground": true,
            "ticks": "",
            "zerolinecolor": "white"
           },
           "yaxis": {
            "backgroundcolor": "#E5ECF6",
            "gridcolor": "white",
            "gridwidth": 2,
            "linecolor": "white",
            "showbackground": true,
            "ticks": "",
            "zerolinecolor": "white"
           },
           "zaxis": {
            "backgroundcolor": "#E5ECF6",
            "gridcolor": "white",
            "gridwidth": 2,
            "linecolor": "white",
            "showbackground": true,
            "ticks": "",
            "zerolinecolor": "white"
           }
          },
          "shapedefaults": {
           "line": {
            "color": "#2a3f5f"
           }
          },
          "ternary": {
           "aaxis": {
            "gridcolor": "white",
            "linecolor": "white",
            "ticks": ""
           },
           "baxis": {
            "gridcolor": "white",
            "linecolor": "white",
            "ticks": ""
           },
           "bgcolor": "#E5ECF6",
           "caxis": {
            "gridcolor": "white",
            "linecolor": "white",
            "ticks": ""
           }
          },
          "title": {
           "x": 0.05
          },
          "xaxis": {
           "automargin": true,
           "gridcolor": "white",
           "linecolor": "white",
           "ticks": "",
           "title": {
            "standoff": 15
           },
           "zerolinecolor": "white",
           "zerolinewidth": 2
          },
          "yaxis": {
           "automargin": true,
           "gridcolor": "white",
           "linecolor": "white",
           "ticks": "",
           "title": {
            "standoff": 15
           },
           "zerolinecolor": "white",
           "zerolinewidth": 2
          }
         }
        },
        "title": {
         "text": "Paper: Mapping poverty at multiple geographical scales (2023)"
        },
        "xaxis": {
         "anchor": "y",
         "domain": [
          0,
          1
         ],
         "title": {
          "text": "publicationDate"
         }
        },
        "yaxis": {
         "anchor": "x",
         "domain": [
          0,
          1
         ],
         "dtick": 1,
         "title": {
          "text": "venue"
         },
         "type": "category"
        }
       }
      }
     },
     "metadata": {},
     "output_type": "display_data"
    }
   ],
   "source": [
    "fig = px.scatter(\n",
    "    df,\n",
    "    x=\"publicationDate\",\n",
    "    y=\"venue\",\n",
    "    # size=\"binning\",\n",
    "    size=\"citationCount\",\n",
    "    size_max=60,\n",
    "    # size_min=20,\n",
    "    color=\"citationCount\",\n",
    "    # marginal_x=\"histogram\",\n",
    "    title=f\"Paper: {paper.title} ({paper.year})\",\n",
    "    hover_data=[\"title\", \"referenceCount\", \"citationCount\"],\n",
    "    # width=1000,\n",
    "    height=int(25 * len(df.venue.unique())),\n",
    "    # height=700,\n",
    ")\n",
    "\n",
    "fig.layout.yaxis.type = \"category\"\n",
    "fig.update_yaxes(dtick=1)\n",
    "fig.show()"
   ]
  },
  {
   "cell_type": "code",
   "execution_count": 96,
   "metadata": {},
   "outputs": [
    {
     "data": {
      "text/plain": [
       "<Axes: >"
      ]
     },
     "execution_count": 96,
     "metadata": {},
     "output_type": "execute_result"
    },
    {
     "data": {
      "image/png": "[encoded data removed]",
      "text/plain": [
       "<Figure size 640x480 with 1 Axes>"
      ]
     },
     "metadata": {},
     "output_type": "display_data"
    }
   ],
   "source": [
    "df[\"citationCount\"].hist()"
   ]
  },
  {
   "cell_type": "code",
   "execution_count": 49,
   "metadata": {},
   "outputs": [
    {
     "data": {
      "text/plain": [
       "['paperId',\n",
       " 'externalIds',\n",
       " 'corpusId',\n",
       " 'publicationVenue',\n",
       " 'url',\n",
       " 'title',\n",
       " 'abstract',\n",
       " 'venue',\n",
       " 'year',\n",
       " 'referenceCount',\n",
       " 'citationCount',\n",
       " 'influentialCitationCount',\n",
       " 'isOpenAccess',\n",
       " 'openAccessPdf',\n",
       " 'fieldsOfStudy',\n",
       " 's2FieldsOfStudy',\n",
       " 'embedding',\n",
       " 'tldr',\n",
       " 'publicationTypes',\n",
       " 'publicationDate',\n",
       " 'journal',\n",
       " 'authors',\n",
       " 'citations',\n",
       " 'references']"
      ]
     },
     "execution_count": 49,
     "metadata": {},
     "output_type": "execute_result"
    }
   ],
   "source": [
    "[x for x in paper.keys()]"
   ]
  },
  {
   "cell_type": "code",
   "execution_count": 31,
   "metadata": {},
   "outputs": [],
   "source": [
    "\"\"\"\n",
    "<sha> - a Semantic Scholar ID, e.g. 649def34f8be52c8b66281af98ae884c09aef38b\n",
    "* CorpusId:<id> - a Semantic Scholar numerical ID, e.g. 215416146\n",
    "* DOI:<doi> - a Digital Object Identifier, e.g. DOI:10.18653/v1/N18-3011\n",
    "* ARXIV:<id> - arXiv.rg, e.g. ARXIV:2106.15928\n",
    "* MAG:<id> - Microsoft Academic Graph, e.g. MAG:112218234\n",
    "* ACL:<id> - Association for Computational Linguistics, e.g. ACL:W12-3903\n",
    "* PMID:<id> - PubMed/Medline, e.g. PMID:19872477\n",
    "* PMCID:<id> - PubMed Central, e.g. PMCID:2323736\n",
    "* URL:<url> - URL from one of the sites listed below, e.g. URL:https://arxiv.org/abs/2106.15928v1\n",
    "\n",
    "URLs are recognized from the following sites:\n",
    "* semanticscholar.org\n",
    "* arxiv.org\n",
    "* aclweb.org\n",
    "* acm.org\n",
    "* biorxiv.org\n",
    "\"\"\"\n",
    "url_search = \"https://api.semanticscholar.org/graph/v1/paper/search\""
   ]
  },
  {
   "cell_type": "code",
   "execution_count": 2,
   "metadata": {},
   "outputs": [
    {
     "name": "stdout",
     "output_type": "stream",
     "text": [
      "https://api.semanticscholar.org/graph/v1/paper/URL:https://arxiv.org/abs/2305.19513\n"
     ]
    }
   ],
   "source": [
    "paper_url = \"https://arxiv.org/abs/2305.19513\"\n",
    "endpoint = \"https://api.semanticscholar.org/graph/v1/paper/\"\n",
    "url = endpoint + \"URL:\" + paper_url\n",
    "print(url)"
   ]
  },
  {
   "cell_type": "code",
   "execution_count": 3,
   "metadata": {},
   "outputs": [],
   "source": [
    "SUPPORTED_WEBSITE_URL = [\n",
    "    \"semanticscholar.org\",\n",
    "    \"arxiv.org\",\n",
    "    \"aclweb.org\",\n",
    "    \"acm.org\",\n",
    "    \"biorxiv.org\",\n",
    "]\n",
    "\n",
    "\n",
    "def generate_url(input_str: str) -> str:\n",
    "    endpoint = \"https://api.semanticscholar.org/graph/v1/paper/\"\n",
    "    if any([x for x in SUPPORTED_WEBSITE_URL if x in input_str]):\n",
    "        return endpoint + \"URL:\" + paper_url\n",
    "    else:\n",
    "        print(f\"Paper {paper_url} not found\")\n",
    "\n",
    "\n",
    "def get_paper_id(paper_url: str):\n",
    "    s2_url = generate_url(paper_url)\n",
    "    print(s2_url)\n",
    "    response = requests.get(s2_url)\n",
    "    return response.json()[\"paperId\"]"
   ]
  },
  {
   "cell_type": "code",
   "execution_count": 4,
   "metadata": {},
   "outputs": [
    {
     "name": "stdout",
     "output_type": "stream",
     "text": [
      "https://api.semanticscholar.org/graph/v1/paper/URL:https://arxiv.org/abs/2305.19513\n"
     ]
    }
   ],
   "source": [
    "paper_id = get_paper_id(paper_url)"
   ]
  },
  {
   "cell_type": "code",
   "execution_count": 5,
   "metadata": {},
   "outputs": [
    {
     "data": {
      "text/html": [
       "<div>\n",
       "<style scoped>\n",
       "    .dataframe tbody tr th:only-of-type {\n",
       "        vertical-align: middle;\n",
       "    }\n",
       "\n",
       "    .dataframe tbody tr th {\n",
       "        vertical-align: top;\n",
       "    }\n",
       "\n",
       "    .dataframe thead th {\n",
       "        text-align: right;\n",
       "    }\n",
       "</style>\n",
       "<table border=\"1\" class=\"dataframe\">\n",
       "  <thead>\n",
       "    <tr style=\"text-align: right;\">\n",
       "      <th></th>\n",
       "      <th>paperId</th>\n",
       "      <th>title</th>\n",
       "      <th>url</th>\n",
       "      <th>publicationDate</th>\n",
       "      <th>venue</th>\n",
       "      <th>publication_venue_type</th>\n",
       "      <th>referenceCount</th>\n",
       "      <th>citationCount</th>\n",
       "      <th>binning</th>\n",
       "    </tr>\n",
       "  </thead>\n",
       "  <tbody>\n",
       "    <tr>\n",
       "      <th>0</th>\n",
       "      <td>0852c7c5cb5583592229401e96de073ae6672d4d</td>\n",
       "      <td>Transition Is a Process: Pair-to-Video Change ...</td>\n",
       "      <td>https://www.semanticscholar.org/paper/0852c7c5...</td>\n",
       "      <td>2022-12-07</td>\n",
       "      <td>IEEE Transactions on Image Processing</td>\n",
       "      <td>journal</td>\n",
       "      <td>55.0</td>\n",
       "      <td>5.0</td>\n",
       "      <td>1</td>\n",
       "    </tr>\n",
       "    <tr>\n",
       "      <th>1</th>\n",
       "      <td>ae418d9dead998baefe759fb634c8ba446bb9a5e</td>\n",
       "      <td>Adaptive Contourlet Fusion Clustering for SAR ...</td>\n",
       "      <td>https://www.semanticscholar.org/paper/ae418d9d...</td>\n",
       "      <td>2022-03-04</td>\n",
       "      <td>IEEE Transactions on Image Processing</td>\n",
       "      <td>journal</td>\n",
       "      <td>0.0</td>\n",
       "      <td>9.0</td>\n",
       "      <td>1</td>\n",
       "    </tr>\n",
       "    <tr>\n",
       "      <th>2</th>\n",
       "      <td>fe0e69189c0739b8b7a9dc17995776d67878ebec</td>\n",
       "      <td>Structured graph based image regression for un...</td>\n",
       "      <td>https://www.semanticscholar.org/paper/fe0e6918...</td>\n",
       "      <td>2022-03-01</td>\n",
       "      <td>Isprs Journal of Photogrammetry and Remote Sen...</td>\n",
       "      <td>journal</td>\n",
       "      <td>58.0</td>\n",
       "      <td>11.0</td>\n",
       "      <td>2</td>\n",
       "    </tr>\n",
       "    <tr>\n",
       "      <th>3</th>\n",
       "      <td>a45d5828be284bb2152b668f451044305ffff8fa</td>\n",
       "      <td>Deep Learning-Based Change Detection in Remote...</td>\n",
       "      <td>https://www.semanticscholar.org/paper/a45d5828...</td>\n",
       "      <td>2022-02-11</td>\n",
       "      <td>Remote Sensing</td>\n",
       "      <td>journal</td>\n",
       "      <td>197.0</td>\n",
       "      <td>51.0</td>\n",
       "      <td>4</td>\n",
       "    </tr>\n",
       "    <tr>\n",
       "      <th>4</th>\n",
       "      <td>55b683296286725ce9a55c42739be833f00afd16</td>\n",
       "      <td>ChangeMask: Deep multi-task encoder-transforme...</td>\n",
       "      <td>https://www.semanticscholar.org/paper/55b68329...</td>\n",
       "      <td>2022-01-01</td>\n",
       "      <td>Isprs Journal of Photogrammetry and Remote Sen...</td>\n",
       "      <td>journal</td>\n",
       "      <td>28.0</td>\n",
       "      <td>32.0</td>\n",
       "      <td>3</td>\n",
       "    </tr>\n",
       "    <tr>\n",
       "      <th>...</th>\n",
       "      <td>...</td>\n",
       "      <td>...</td>\n",
       "      <td>...</td>\n",
       "      <td>...</td>\n",
       "      <td>...</td>\n",
       "      <td>...</td>\n",
       "      <td>...</td>\n",
       "      <td>...</td>\n",
       "      <td>...</td>\n",
       "    </tr>\n",
       "    <tr>\n",
       "      <th>63</th>\n",
       "      <td>753606373f25a508771edca33a9a8d37c128d27f</td>\n",
       "      <td>Sparse-Constrained Adaptive Structure Consiste...</td>\n",
       "      <td>https://www.semanticscholar.org/paper/75360637...</td>\n",
       "      <td>None</td>\n",
       "      <td>IEEE Transactions on Geoscience and Remote Sen...</td>\n",
       "      <td>journal</td>\n",
       "      <td>41.0</td>\n",
       "      <td>18.0</td>\n",
       "      <td>2</td>\n",
       "    </tr>\n",
       "    <tr>\n",
       "      <th>64</th>\n",
       "      <td>e78359fb85f5fc0749ac02237d49c08a59e54923</td>\n",
       "      <td>Difference Enhancement and Spatial-Spectral No...</td>\n",
       "      <td>https://www.semanticscholar.org/paper/e78359fb...</td>\n",
       "      <td>None</td>\n",
       "      <td>IEEE Transactions on Geoscience and Remote Sen...</td>\n",
       "      <td>journal</td>\n",
       "      <td>0.0</td>\n",
       "      <td>21.0</td>\n",
       "      <td>2</td>\n",
       "    </tr>\n",
       "    <tr>\n",
       "      <th>65</th>\n",
       "      <td>None</td>\n",
       "      <td>Difficultyaware attention network with confide...</td>\n",
       "      <td>None</td>\n",
       "      <td>None</td>\n",
       "      <td>AAAI Conference on Artificial Intelligence, vo...</td>\n",
       "      <td>None</td>\n",
       "      <td>NaN</td>\n",
       "      <td>0.0</td>\n",
       "      <td>1</td>\n",
       "    </tr>\n",
       "    <tr>\n",
       "      <th>66</th>\n",
       "      <td>a847f9233848cd4b3c2de6cdc6c22f2e6f8f8c7a</td>\n",
       "      <td>Digital change detection in forest ecosystems ...</td>\n",
       "      <td>https://www.semanticscholar.org/paper/a847f923...</td>\n",
       "      <td>None</td>\n",
       "      <td></td>\n",
       "      <td>None</td>\n",
       "      <td>72.0</td>\n",
       "      <td>676.0</td>\n",
       "      <td>7</td>\n",
       "    </tr>\n",
       "    <tr>\n",
       "      <th>67</th>\n",
       "      <td>ca0382b2e2aff0249ae94833641108f281d13b0d</td>\n",
       "      <td>Bayesian learning for neural networks</td>\n",
       "      <td>https://www.semanticscholar.org/paper/ca0382b2...</td>\n",
       "      <td>None</td>\n",
       "      <td></td>\n",
       "      <td>None</td>\n",
       "      <td>0.0</td>\n",
       "      <td>1640.0</td>\n",
       "      <td>7</td>\n",
       "    </tr>\n",
       "  </tbody>\n",
       "</table>\n",
       "<p>68 rows × 9 columns</p>\n",
       "</div>"
      ],
      "text/plain": [
       "                                     paperId  \\\n",
       "0   0852c7c5cb5583592229401e96de073ae6672d4d   \n",
       "1   ae418d9dead998baefe759fb634c8ba446bb9a5e   \n",
       "2   fe0e69189c0739b8b7a9dc17995776d67878ebec   \n",
       "3   a45d5828be284bb2152b668f451044305ffff8fa   \n",
       "4   55b683296286725ce9a55c42739be833f00afd16   \n",
       "..                                       ...   \n",
       "63  753606373f25a508771edca33a9a8d37c128d27f   \n",
       "64  e78359fb85f5fc0749ac02237d49c08a59e54923   \n",
       "65                                      None   \n",
       "66  a847f9233848cd4b3c2de6cdc6c22f2e6f8f8c7a   \n",
       "67  ca0382b2e2aff0249ae94833641108f281d13b0d   \n",
       "\n",
       "                                                title  \\\n",
       "0   Transition Is a Process: Pair-to-Video Change ...   \n",
       "1   Adaptive Contourlet Fusion Clustering for SAR ...   \n",
       "2   Structured graph based image regression for un...   \n",
       "3   Deep Learning-Based Change Detection in Remote...   \n",
       "4   ChangeMask: Deep multi-task encoder-transforme...   \n",
       "..                                                ...   \n",
       "63  Sparse-Constrained Adaptive Structure Consiste...   \n",
       "64  Difference Enhancement and Spatial-Spectral No...   \n",
       "65  Difficultyaware attention network with confide...   \n",
       "66  Digital change detection in forest ecosystems ...   \n",
       "67              Bayesian learning for neural networks   \n",
       "\n",
       "                                                  url publicationDate  \\\n",
       "0   https://www.semanticscholar.org/paper/0852c7c5...      2022-12-07   \n",
       "1   https://www.semanticscholar.org/paper/ae418d9d...      2022-03-04   \n",
       "2   https://www.semanticscholar.org/paper/fe0e6918...      2022-03-01   \n",
       "3   https://www.semanticscholar.org/paper/a45d5828...      2022-02-11   \n",
       "4   https://www.semanticscholar.org/paper/55b68329...      2022-01-01   \n",
       "..                                                ...             ...   \n",
       "63  https://www.semanticscholar.org/paper/75360637...            None   \n",
       "64  https://www.semanticscholar.org/paper/e78359fb...            None   \n",
       "65                                               None            None   \n",
       "66  https://www.semanticscholar.org/paper/a847f923...            None   \n",
       "67  https://www.semanticscholar.org/paper/ca0382b2...            None   \n",
       "\n",
       "                                                venue publication_venue_type  \\\n",
       "0               IEEE Transactions on Image Processing                journal   \n",
       "1               IEEE Transactions on Image Processing                journal   \n",
       "2   Isprs Journal of Photogrammetry and Remote Sen...                journal   \n",
       "3                                      Remote Sensing                journal   \n",
       "4   Isprs Journal of Photogrammetry and Remote Sen...                journal   \n",
       "..                                                ...                    ...   \n",
       "63  IEEE Transactions on Geoscience and Remote Sen...                journal   \n",
       "64  IEEE Transactions on Geoscience and Remote Sen...                journal   \n",
       "65  AAAI Conference on Artificial Intelligence, vo...                   None   \n",
       "66                                                                      None   \n",
       "67                                                                      None   \n",
       "\n",
       "    referenceCount  citationCount  binning  \n",
       "0             55.0            5.0        1  \n",
       "1              0.0            9.0        1  \n",
       "2             58.0           11.0        2  \n",
       "3            197.0           51.0        4  \n",
       "4             28.0           32.0        3  \n",
       "..             ...            ...      ...  \n",
       "63            41.0           18.0        2  \n",
       "64             0.0           21.0        2  \n",
       "65             NaN            0.0        1  \n",
       "66            72.0          676.0        7  \n",
       "67             0.0         1640.0        7  \n",
       "\n",
       "[68 rows x 9 columns]"
      ]
     },
     "execution_count": 5,
     "metadata": {},
     "output_type": "execute_result"
    }
   ],
   "source": [
    "paper = s2.get_paper_from_id(paper_id=paper_id)\n",
    "df_references = s2.get_references_df(paper.references)\n",
    "df_references\n",
    "# fig = plot_references_timeline(df_references)\n",
    "# fig.show()"
   ]
  },
  {
   "cell_type": "code",
   "execution_count": 6,
   "metadata": {},
   "outputs": [
    {
     "data": {
      "text/plain": [
       "{'paperId': '2060c4cf8ccb4778801dd6af9e0f2a6dc36cec81', 'externalIds': {'ArXiv': '2305.19513', 'DBLP': 'journals/corr/abs-2305-19513', 'DOI': '10.48550/arXiv.2305.19513', 'CorpusId': 258987696}, 'corpusId': 258987696, 'publicationVenue': {'id': '1901e811-ee72-4b20-8f7e-de08cd395a10', 'name': 'arXiv.org', 'alternate_names': ['ArXiv'], 'issn': '2331-8422', 'url': 'http://bibpurl.oclc.org/web/7130'}, 'url': 'https://www.semanticscholar.org/paper/2060c4cf8ccb4778801dd6af9e0f2a6dc36cec81', 'title': 'Towards Accurate and Reliable Change Detection of Remote Sensing Images via Knowledge Review and Online Uncertainty Estimation', 'abstract': 'Change detection (CD) is an essential task for various real-world applications, such as urban management and disaster assessment. However, previous methods primarily focus on improving the accuracy of CD, while neglecting the reliability of detection results. In this paper, we propose a novel change detection network, called AR-CDNet, which is able to provide accurate change maps and generate pixel-wise uncertainty. Specifically, an online uncertainty estimation branch is constructed to model the pixel-wise uncertainty, which is supervised by the difference between predicted change maps and corresponding ground truth during the training process. Furthermore, we introduce a knowledge review strategy to distill temporal change knowledge from low-level features to high-level ones, thereby enhancing the discriminability of temporal difference features. Finally, we aggregate the uncertainty-aware features extracted from the online uncertainty estimation branch with multi-level temporal difference features to improve the accuracy of CD. Once trained, our AR-CDNet can provide accurate change maps and evaluate pixel-wise uncertainty without ground truth. Experimental results on two benchmark datasets demonstrate the superior performance of AR-CDNet in the CD task. The demo code for our work will be publicly available at \\\\url{https://github.com/guanyuezhen/AR-CDNet}.', 'venue': 'arXiv.org', 'year': 2023, 'referenceCount': 68, 'citationCount': 0, 'influentialCitationCount': 0, 'isOpenAccess': False, 'openAccessPdf': None, 'fieldsOfStudy': ['Computer Science'], 's2FieldsOfStudy': [{'category': 'Computer Science', 'source': 'external'}, {'category': 'Computer Science', 'source': 's2-fos-model'}], 'embedding': {'model': 'specter@v0.1.1', 'vector': [-2.410810947418213, -3.973324775695801, 1.9823713302612305, 5.212616920471191, -4.155616760253906, -3.640157699584961, 2.632823944091797, -0.2938086986541748, -0.9626065492630005, -1.9670443534851074, -3.0214321613311768, 4.451655387878418, -0.32613006234169006, -1.4409666061401367, 0.9873013496398926, -0.04903126135468483, -1.9585230350494385, 1.3299566507339478, 3.848599910736084, -2.086663246154785, -5.163383483886719, -0.5513215065002441, 0.25702178478240967, -2.8698997497558594, 1.470454216003418, 0.7169790863990784, 3.5655882358551025, 1.7121516466140747, 0.07899944484233856, -6.039815425872803, -0.8798914551734924, -2.934983253479004, 3.596531867980957, 3.1071624755859375, 0.5865013599395752, -0.523909866809845, 0.8615570664405823, 3.4973111152648926, -1.7619829177856445, -1.0724942684173584, 2.922398805618286, -0.9090753197669983, 2.27799129486084, -3.2289323806762695, 4.294412136077881, 0.3675280213356018, -4.721918106079102, 3.8746023178100586, 0.5492813587188721, 2.188791513442993, 0.8011451363563538, 0.357163667678833, 2.339629888534546, 2.599442481994629, 0.13594600558280945, 0.19577732682228088, 3.7012157440185547, 4.46355676651001, 6.703392028808594, -1.6485844850540161, -0.01805838942527771, 3.9880363941192627, -1.3496109247207642, 3.9548370838165283, 0.868587851524353, -3.108397960662842, -2.6926496028900146, 0.06282371282577515, -0.3640144467353821, 0.12286676466464996, 1.9304661750793457, -0.3357812762260437, -1.319071888923645, -1.9675544500350952, -2.931358814239502, -0.5675958395004272, 3.515272855758667, -1.035502314567566, -1.165935754776001, 0.535324215888977, -2.3497488498687744, 6.956925392150879, -1.6943591833114624, 1.4681850671768188, 5.256106853485107, -1.7396440505981445, -0.11989295482635498, 2.7319183349609375, -0.31486961245536804, -0.8624351024627686, -2.925462484359741, 7.251747131347656, 1.670830249786377, -1.6918718814849854, -0.7601329684257507, -1.7873878479003906, 1.8319694995880127, -2.328322410583496, -4.469045639038086, 3.533647060394287, 2.8208677768707275, 0.3765532076358795, 2.609590768814087, 0.31740322709083557, 0.14430558681488037, -2.4921517372131348, -1.7775394916534424, -2.652897357940674, 1.1410107612609863, -3.3362715244293213, -1.2903077602386475, 0.8098570108413696, -1.6261509656906128, -2.001835823059082, 0.1750478893518448, -0.2310820072889328, 0.9938667416572571, -1.1901321411132812, 0.4067387580871582, 2.48964786529541, 3.792525291442871, -2.5847980976104736, -5.773072242736816, 5.054313659667969, -0.13861577212810516, 0.41560935974121094, 3.3973002433776855, 2.5507986545562744, -2.764009952545166, -3.9820809364318848, 4.852754592895508, -0.45516014099121094, 0.7091974020004272, 0.43481478095054626, 1.6493945121765137, 0.2622734308242798, -1.0178464651107788, -0.7880333065986633, -1.9956799745559692, -1.517133355140686, -1.2304108142852783, 3.852057933807373, 1.993571400642395, -0.16569611430168152, 1.1584410667419434, 1.8628095388412476, 0.36884087324142456, 1.7847295999526978, 0.2688683867454529, 3.3985023498535156, 1.3164196014404297, -3.6266565322875977, -1.6324423551559448, 4.346278667449951, 3.9407832622528076, 4.720272064208984, -4.043355464935303, 3.0569095611572266, -2.543868064880371, 1.7780025005340576, 2.5982167720794678, 2.366088390350342, -8.876056671142578, 1.525282859802246, 5.9179463386535645, -2.955904960632324, 0.6282472610473633, 1.2930537462234497, 1.5902173519134521, 3.296346426010132, 1.6381431818008423, -1.403428554534912, -0.25240373611450195, -0.46636509895324707, 0.9977226257324219, 2.858910322189331, 0.6718635559082031, -2.4952383041381836, -0.6830186247825623, -0.8170167803764343, 0.7180725336074829, -2.5455870628356934, -2.897935390472412, 3.4653100967407227, -4.230791091918945, -1.9051098823547363, -0.8101855516433716, -0.6174397468566895, 1.5187782049179077, 2.9878621101379395, 1.577776312828064, -0.9267817735671997, 3.137782573699951, 1.4214599132537842, 1.807407259941101, 2.002608299255371, -0.7690267562866211, 0.5516132712364197, 4.514349460601807, -0.395891010761261, 3.476407527923584, -0.5164428353309631, -2.63885498046875, 0.7684251070022583, -4.505834102630615, 0.21720963716506958, -3.329833507537842, 5.26304817199707, 1.2872352600097656, -3.288341999053955, 0.18478775024414062, -1.4503659009933472, 0.8665907382965088, 3.4219448566436768, -2.2559499740600586, 0.3150436282157898, -3.999058723449707, 5.704459190368652, 3.468689441680908, 2.0359292030334473, -1.5729782581329346, -0.9402477145195007, -5.929891109466553, -1.803391695022583, 4.534735202789307, -3.2008347511291504, 2.748591423034668, 2.0442910194396973, 2.645559549331665, 1.4231350421905518, -2.6254913806915283, -1.9083960056304932, 1.054124116897583, -1.7186201810836792, -2.9032914638519287, -2.373117685317993, -6.963348388671875, 0.7699606418609619, -2.0640392303466797, -0.5948724746704102, 9.553254127502441, 2.8322746753692627, -0.19318991899490356, 2.9248099327087402, -2.169877290725708, -0.5977280735969543, -4.31454610824585, 1.8600959777832031, 4.084132194519043, -2.0208635330200195, 1.304706335067749, 5.274903774261475, 0.7984589338302612, -3.372267723083496, 1.4435714483261108, -0.6226595044136047, 2.5351510047912598, 2.6105620861053467, 1.938406229019165, -0.9958233833312988, 3.6734766960144043, 2.9515531063079834, -1.4761908054351807, 1.7354886531829834, -1.8555976152420044, 5.700407028198242, -3.2715070247650146, -0.9169000387191772, -0.8103021383285522, 2.6162734031677246, -1.0763453245162964, -0.20657533407211304, 0.4667983055114746, -3.6843347549438477, -1.5914912223815918, -5.165676116943359, -1.1465786695480347, -0.3788568377494812, 2.6528916358947754, 1.251288890838623, -1.644787311553955, 2.8481550216674805, 4.963374137878418, -2.3840768337249756, -1.5424748659133911, -4.547674655914307, 1.441108226776123, 1.4744184017181396, 0.1299915909767151, 0.3772129416465759, -6.05414342880249, 4.173341751098633, -0.5408685207366943, 5.145666599273682, -5.200586318969727, 2.928431272506714, 2.1422038078308105, -1.0504664182662964, -0.1420535445213318, 3.22818660736084, -1.402466893196106, 0.8352538347244263, 2.079803705215454, -1.130392074584961, 0.9041826725006104, -0.5623576641082764, -0.15955424308776855, 0.9361806511878967, -0.419246643781662, 1.8075326681137085, 3.4632773399353027, 0.6014266610145569, -0.5631725788116455, -0.4503200054168701, -1.136330246925354, -4.376264572143555, -3.2788045406341553, -1.3723070621490479, -6.9382123947143555, 3.070662021636963, -0.0882820188999176, 2.101379156112671, 2.5988173484802246, 1.1577649116516113, -3.2313058376312256, -1.3625667095184326, 0.5823988914489746, 1.0768508911132812, -1.2561050653457642, 2.970449924468994, -0.2220727801322937, 1.9011597633361816, -1.0641427040100098, -3.8207859992980957, 0.42301926016807556, -2.4177355766296387, 2.5693893432617188, -1.64231538772583, 2.4236788749694824, 0.8311272263526917, -4.158576965332031, 1.3875932693481445, -5.906599044799805, 4.474621772766113, 0.715894877910614, -3.5954840183258057, 0.7469308376312256, 1.6782923936843872, -0.8364522457122803, 0.8256321549415588, 4.265543460845947, -0.5319808721542358, 2.4450936317443848, -1.005359411239624, 3.8440818786621094, 1.7879992723464966, 1.1449047327041626, 1.2897706031799316, -0.7108277082443237, 2.970703601837158, -0.41778242588043213, -0.8808999061584473, 0.7838109135627747, -3.0593197345733643, 4.0654706954956055, 0.03812030702829361, 8.849842071533203, -2.817837715148926, -5.441319465637207, -1.9753144979476929, -4.406850814819336, -4.468836784362793, 0.4508739113807678, 2.9665865898132324, -4.022553443908691, -1.0381196737289429, -0.21655136346817017, 0.7834733724594116, 2.974684715270996, 3.2601633071899414, 1.3496795892715454, 1.9405193328857422, -0.44023552536964417, 5.144134998321533, 2.506673812866211, -3.0953047275543213, -1.425506830215454, 4.151769638061523, -1.4294397830963135, 1.4843651056289673, 2.4328742027282715, 0.8385777473449707, 3.0252604484558105, 1.8099241256713867, -2.464367628097534, -3.0849814414978027, -2.82328462600708, -5.984196186065674, 3.0292649269104004, -4.235969543457031, -0.29334479570388794, 0.5862734317779541, 4.587822914123535, 1.9261518716812134, -2.213538408279419, 0.6757528185844421, 1.6777615547180176, 1.0933258533477783, 1.7470533847808838, 1.8911793231964111, -2.6462349891662598, -2.4279801845550537, 1.2106659412384033, -3.630570888519287, -0.35772353410720825, -1.5208845138549805, 1.483301043510437, -0.17453411221504211, 1.624282717704773, 0.15358465909957886, -4.120318412780762, 3.2991113662719727, 2.9708170890808105, -2.732569456100464, -2.8030507564544678, 5.098666667938232, 4.546685695648193, 4.478457450866699, 3.294416666030884, 1.1937448978424072, -0.9077599048614502, 4.344404220581055, -0.5842251777648926, -0.48111334443092346, -3.064054012298584, 2.4896535873413086, 5.710606098175049, 2.8580150604248047, 3.5828561782836914, -0.5207036733627319, -1.9945722818374634, -0.6786808967590332, -0.4903070032596588, 4.793951034545898, -0.6571364402770996, -1.9446923732757568, -7.6948699951171875, 0.6829172968864441, 6.659150123596191, 1.0830570459365845, 3.328054428100586, 1.2813587188720703, -1.1995385885238647, -1.1951836347579956, -2.7384254932403564, 2.4770522117614746, -5.878825664520264, -0.2817229926586151, -3.06462025642395, -2.2602081298828125, -4.930386066436768, 4.75079345703125, -2.5254321098327637, 1.282004714012146, -0.8446335792541504, 5.217196464538574, 0.864529013633728, 0.3248704671859741, -3.7169413566589355, 0.034924477338790894, -0.9944716691970825, 0.7908714413642883, -3.4787771701812744, -7.42874002456665, 0.6912152767181396, 0.7228902578353882, 4.698638439178467, 3.790205717086792, 0.30420511960983276, -4.242849349975586, 0.2890547513961792, -1.9006675481796265, 2.1617584228515625, 0.36319634318351746, -0.6378813982009888, 1.9563969373703003, 3.0708701610565186, 3.30428409576416, 5.100252151489258, 3.199265956878662, -1.4502975940704346, -1.9046415090560913, 2.1667659282684326, -2.898122787475586, -1.1282119750976562, 0.39407944679260254, -2.622441530227661, 5.404870510101318, 2.0963404178619385, -0.6346679329872131, 2.9085748195648193, -1.8702285289764404, 0.6534065008163452, -1.3253586292266846, -4.944721221923828, 3.3127965927124023, 4.005819320678711, -3.2856388092041016, 0.6195347905158997, -1.6429469585418701, -4.261315822601318, -3.4607274532318115, -2.2951459884643555, 1.892398476600647, -2.016598701477051, -4.711376667022705, -2.307722330093384, -0.952538251876831, -2.0457046031951904, -2.3852176666259766, 0.8658890724182129, -2.6474387645721436, 2.1286683082580566, 3.7907936573028564, 1.169439673423767, 2.0264205932617188, -7.6308135986328125, 2.6625640392303467, 2.426420211791992, 1.867262363433838, 2.6332430839538574, -2.688685894012451, 1.043912649154663, -1.8902051448822021, -4.442747592926025, 1.5884238481521606, 2.1624412536621094, 1.3287054300308228, -1.6410634517669678, 1.8542191982269287, 0.5323183536529541, 2.5328330993652344, -2.561326026916504, 1.245621681213379, -0.4986622929573059, -0.20666056871414185, -1.0960817337036133, -4.338033199310303, 3.269078493118286, 3.6013693809509277, 3.96612548828125, 0.7086300849914551, 4.917138576507568, -5.0345377922058105, -0.9277625679969788, 1.2031515836715698, -1.2447556257247925, -3.9753904342651367, 2.538071870803833, 1.2627770900726318, 1.0443623065948486, 0.7414100170135498, -1.0054084062576294, 3.922959566116333, -5.961111545562744, 1.2742555141448975, 1.863217830657959, 1.0809231996536255, 1.0870897769927979, 0.029893100261688232, -3.3237338066101074, -7.852152347564697, -3.274001121520996, 1.156233549118042, 1.2100474834442139, 3.793952465057373, 5.516323566436768, -0.6798590421676636, -1.454426646232605, -0.9858949184417725, -5.164945602416992, -3.6575162410736084, -4.0011701583862305, -3.481172561645508, 2.035773515701294, -2.6106832027435303, 0.023524895310401917, -1.4561892747879028, -0.43304353952407837, 4.809199333190918, -2.2925734519958496, 0.4529964029788971, -1.0783870220184326, -0.7840380072593689, 2.3245177268981934, -1.8613948822021484, 5.236694812774658, 2.282345771789551, 2.6830430030822754, -0.03461088240146637, 1.3001524209976196, 1.728306531906128, 1.641230821609497, 4.477778911590576, -0.2893489599227905, 4.306815147399902, 0.9743069410324097, -3.5022783279418945, -2.6787877082824707, 4.689517021179199, -0.023828864097595215, 2.323174238204956, 17.92103385925293, -4.2716169357299805, -0.4907784163951874, -2.6915926933288574, -2.841595411300659, -2.8690249919891357, 2.0354111194610596, -2.8361945152282715, 2.334188938140869, 3.5969784259796143, -0.9222177863121033, -2.256556749343872, 0.7875156998634338, -0.38061046600341797, -4.246932029724121, 2.2055349349975586, -1.5289828777313232, -1.3863940238952637, -0.41129758954048157, 3.9904286861419678, 2.0661065578460693, -1.577688217163086, -2.550715446472168, -5.6578216552734375, -7.08292293548584, 3.0338501930236816, -1.9182329177856445, -0.09221005439758301, -0.5022421479225159, -0.9821571111679077, 1.575598955154419, -0.6144691705703735, 2.37141752243042, 0.2662086486816406, -0.8647671937942505, -0.3304411768913269, 3.8548855781555176, -1.6137996912002563, -0.8753832578659058, -0.5042859315872192, 1.6656948328018188, 2.2492287158966064, -4.699810981750488, 2.877012252807617, -3.0486066341400146, -1.9961016178131104, 1.446022629737854, -1.9784655570983887, -1.8501476049423218, 5.10498046875, 1.8135380744934082, 4.671075344085693, -0.4590175747871399, 0.8982818126678467, -2.2651593685150146, 2.3838891983032227, -2.2583365440368652, -2.7707321643829346, 1.123781681060791, 0.37219515442848206, -3.6071481704711914, 3.930164337158203, -2.8462469577789307, -5.20054817199707, -1.4764626026153564, 0.5923702716827393, 0.4637601375579834, 3.9721860885620117, 0.2854801416397095, 0.41785597801208496, -2.7851574420928955, 5.853654861450195, 1.6096603870391846, -1.8138585090637207, -1.488136649131775, -10.725159645080566, -0.09921015799045563, 1.0487215518951416, 5.604623317718506, 2.804015636444092, -4.0831804275512695, 3.5265142917633057, -0.2503148317337036, -0.5995312929153442, 3.772735834121704, -2.1955103874206543, -0.9126524925231934, -0.693744421005249, -1.2703479528427124, -0.2881717383861542, -2.773364305496216, 0.044524192810058594, 0.802020788192749, 0.9729799628257751, 4.444783687591553, -7.20549201965332, -3.9142518043518066, 1.218480110168457, -2.5964839458465576, -4.354549407958984, 4.672756195068359, 1.7609634399414062, -0.01677754521369934, -2.2704086303710938, -0.03752204775810242, -3.4804470539093018, 1.043718934059143, -1.914315938949585, -3.0206971168518066, -2.313058853149414, 1.3883376121520996, -4.506105422973633, 2.761153221130371, -0.026961691677570343, -1.988710641860962, 0.4404261112213135, -4.882208824157715, 2.1650631427764893, 0.10451966524124146, 4.52777624130249, -0.1666955053806305, 0.20600615441799164, -2.5515918731689453, -2.268580198287964, -0.4275599718093872, -0.22841215133666992, -1.6607080698013306, 1.6579762697219849, 0.16315393149852753, -3.48390793800354, -2.529999256134033, -0.3342503309249878, 2.3215808868408203, -4.088896751403809, -1.1502139568328857, 1.301694393157959, 2.352316379547119, 3.6318259239196777, -1.140479326248169, 4.450860977172852, -2.3105125427246094, -0.4848686456680298, 1.738710641860962, 7.3866119384765625, -2.7002692222595215, -1.9367382526397705, 0.744820237159729, -2.6374471187591553, -3.0298075675964355, -1.4421956539154053, -3.8778319358825684, 1.7363072633743286, 0.36432912945747375, -4.098238945007324, 1.8429720401763916, 0.5032027959823608]}, 'tldr': {'model': 'tldr@v2.0.0', 'text': 'This paper proposes a novel change detection network, called AR-CDNet, which is able to provide accurate change maps and generate pixel-wise uncertainty, and introduces a knowledge review strategy to distill temporal change knowledge from low-level features to high-level ones, thereby enhancing the discriminability of temporal difference features.'}, 'publicationTypes': ['JournalArticle', 'Review'], 'publicationDate': '2023-05-31', 'journal': {'name': 'ArXiv', 'volume': 'abs/2305.19513'}, 'authors': [{'authorId': '1390750342', 'externalIds': {'DBLP': ['Zhenglai Li']}, 'url': 'https://www.semanticscholar.org/author/1390750342', 'name': 'Zhenglai Li', 'aliases': ['Zheng Li'], 'affiliations': [], 'homepage': None, 'paperCount': 13, 'citationCount': 155, 'hIndex': 6}, {'authorId': '2118762522', 'externalIds': {'DBLP': ['Chang Tang']}, 'url': 'https://www.semanticscholar.org/author/2118762522', 'name': 'Chang Tang', 'aliases': None, 'affiliations': [], 'homepage': None, 'paperCount': 10, 'citationCount': 21, 'hIndex': 3}, {'authorId': '5136249', 'externalIds': {'DBLP': ['Xianju Li']}, 'url': 'https://www.semanticscholar.org/author/5136249', 'name': 'Xianju Li', 'aliases': ['Xianjuan Li'], 'affiliations': [], 'homepage': None, 'paperCount': 35, 'citationCount': 855, 'hIndex': 14}, {'authorId': '2664460', 'externalIds': {'DBLP': ['Weiying Xie']}, 'url': 'https://www.semanticscholar.org/author/2664460', 'name': 'Weiying Xie', 'aliases': ['Wei Xie', 'Wei-bang Xie', 'Wei-feng Xie', 'Weixin Xie'], 'affiliations': [], 'homepage': None, 'paperCount': 115, 'citationCount': 1795, 'hIndex': 22}, {'authorId': '2210196342', 'externalIds': {}, 'url': 'https://www.semanticscholar.org/author/2210196342', 'name': 'Kun Sun', 'aliases': None, 'affiliations': [], 'homepage': None, 'paperCount': 3, 'citationCount': 0, 'hIndex': 0}, {'authorId': '153792196', 'externalIds': {}, 'url': 'https://www.semanticscholar.org/author/153792196', 'name': 'Xinzhong Zhu', 'aliases': ['Xin Min Zhu'], 'affiliations': [], 'homepage': None, 'paperCount': 6, 'citationCount': 2, 'hIndex': 1}], 'citations': [], 'references': [{'paperId': '0852c7c5cb5583592229401e96de073ae6672d4d', 'externalIds': {'DBLP': 'journals/tip/LinYZ23', 'DOI': '10.1109/TIP.2022.3226418', 'CorpusId': 254445098, 'PubMed': '37015527'}, 'corpusId': 254445098, 'publicationVenue': {'id': 'e117fa7f-05b7-4dd6-b64b-0a0a7c0393d8', 'name': 'IEEE Transactions on Image Processing', 'type': 'journal', 'alternate_names': ['IEEE Trans Image Process'], 'issn': '1057-7149', 'url': 'http://ieeexplore.ieee.org/servlet/opac?punumber=83', 'alternate_urls': ['https://ieeexplore.ieee.org/xpl/RecentIssue.jsp?punumber=83']}, 'url': 'https://www.semanticscholar.org/paper/0852c7c5cb5583592229401e96de073ae6672d4d', 'title': 'Transition Is a Process: Pair-to-Video Change Detection Networks for Very High Resolution Remote Sensing Images', 'abstract': 'As an important yet challenging task in Earth observation, change detection (CD) is undergoing a technological revolution, given the broadening application of deep learning. Nevertheless, existing deep learning-based CD methods still suffer from two salient issues: 1) incomplete temporal modeling, and 2) space-time coupling. In view of these issues, we propose a more explicit and sophisticated modeling of time and accordingly establish a pair-to-video change detection (P2V-CD) framework. First, a pseudo transition video that carries rich temporal information is constructed from the input image pair, interpreting CD as a problem of video understanding. Then, two decoupled encoders are utilized to spatially and temporally recognize the type of transition, and the encoders are laterally connected for mutual promotion. Furthermore, the deep supervision technique is applied to accelerate the model training. We illustrate experimentally that the P2V-CD method compares favorably to other state-of-the-art CD approaches in terms of both the visual effect and the evaluation metrics, with a moderate model size and relatively lower computational overhead. Extensive feature map visualization experiments demonstrate how our method works beyond making contrasts between bi-temporal images. Source code is available at https://github.com/Bobholamovic/CDLab.', 'venue': 'IEEE Transactions on Image Processing', 'year': 2022, 'referenceCount': 55, 'citationCount': 5, 'influentialCitationCount': 2, 'isOpenAccess': False, 'openAccessPdf': None, 'fieldsOfStudy': ['Medicine', 'Computer Science'], 's2FieldsOfStudy': [{'category': 'Medicine', 'source': 'external'}, {'category': 'Computer Science', 'source': 'external'}, {'category': 'Computer Science', 'source': 's2-fos-model'}], 'publicationTypes': ['JournalArticle'], 'publicationDate': '2022-12-07', 'journal': {'volume': '32', 'pages': '57-71', 'name': 'IEEE Transactions on Image Processing'}, 'citationStyles': {'bibtex': '@Article{Lin2022TransitionIA,\\n author = {Manhui Lin and Guangyi Yang and Hongyan Zhang},\\n booktitle = {IEEE Transactions on Image Processing},\\n journal = {IEEE Transactions on Image Processing},\\n pages = {57-71},\\n title = {Transition Is a Process: Pair-to-Video Change Detection Networks for Very High Resolution Remote Sensing Images},\\n volume = {32},\\n year = {2022}\\n}\\n'}, 'authors': [{'authorId': '65793518', 'name': 'Manhui Lin'}, {'authorId': '47124961', 'name': 'Guangyi Yang'}, {'authorId': '2108879285', 'name': 'Hongyan Zhang'}]}, {'paperId': 'ae418d9dead998baefe759fb634c8ba446bb9a5e', 'externalIds': {'DBLP': 'journals/tip/ZhangJLYL22', 'DOI': '10.1109/TIP.2022.3154922', 'CorpusId': 247236839, 'PubMed': '35245194'}, 'corpusId': 247236839, 'publicationVenue': {'id': 'e117fa7f-05b7-4dd6-b64b-0a0a7c0393d8', 'name': 'IEEE Transactions on Image Processing', 'type': 'journal', 'alternate_names': ['IEEE Trans Image Process'], 'issn': '1057-7149', 'url': 'http://ieeexplore.ieee.org/servlet/opac?punumber=83', 'alternate_urls': ['https://ieeexplore.ieee.org/xpl/RecentIssue.jsp?punumber=83']}, 'url': 'https://www.semanticscholar.org/paper/ae418d9dead998baefe759fb634c8ba446bb9a5e', 'title': 'Adaptive Contourlet Fusion Clustering for SAR Image Change Detection', 'abstract': 'In this paper, a novel unsupervised change detection method called adaptive Contourlet fusion clustering based on adaptive Contourlet fusion and fast non-local clustering is proposed for multi-temporal synthetic aperture radar (SAR) images. A binary image indicating changed regions is generated by a novel fuzzy clustering algorithm from a Contourlet fused difference image. Contourlet fusion uses complementary information from different types of difference images. For unchanged regions, the details should be restrained while highlighted for changed regions. Different fusion rules are designed for low frequency band and high frequency directional bands of Contourlet coefficients. Then a fast non-local clustering algorithm (FNLC) is proposed to classify the fused image to generate changed and unchanged regions. In order to reduce the impact of noise while preserve details of changed regions, not only local but also non-local information are incorporated into the FNLC in a fuzzy way. Experiments on both small and large scale datasets demonstrate the state-of-the-art performance of the proposed method in real applications.', 'venue': 'IEEE Transactions on Image Processing', 'year': 2022, 'referenceCount': 0, 'citationCount': 9, 'influentialCitationCount': 0, 'isOpenAccess': False, 'openAccessPdf': None, 'fieldsOfStudy': ['Computer Science', 'Medicine'], 's2FieldsOfStudy': [{'category': 'Computer Science', 'source': 'external'}, {'category': 'Medicine', 'source': 'external'}, {'category': 'Computer Science', 'source': 's2-fos-model'}], 'publicationTypes': ['JournalArticle'], 'publicationDate': '2022-03-04', 'journal': {'volume': '31', 'pages': '2295-2308', 'name': 'IEEE Transactions on Image Processing'}, 'citationStyles': {'bibtex': '@Article{Zhang2022AdaptiveCF,\\n author = {Wenhua Zhang and L. Jiao and Fang Liu and Shuyuan Yang and Jia Liu},\\n booktitle = {IEEE Transactions on Image Processing},\\n journal = {IEEE Transactions on Image Processing},\\n pages = {2295-2308},\\n title = {Adaptive Contourlet Fusion Clustering for SAR Image Change Detection},\\n volume = {31},\\n year = {2022}\\n}\\n'}, 'authors': [{'authorId': '50549691', 'name': 'Wenhua Zhang'}, {'authorId': '144125122', 'name': 'L. Jiao'}, {'authorId': '47185625', 'name': 'Fang Liu'}, {'authorId': '1702138', 'name': 'Shuyuan Yang'}, {'authorId': '48210927', 'name': 'Jia Liu'}]}, {'paperId': 'fe0e69189c0739b8b7a9dc17995776d67878ebec', 'externalIds': {'DOI': '10.1016/j.isprsjprs.2022.01.004', 'CorpusId': 246133095}, 'corpusId': 246133095, 'publicationVenue': {'id': '227fb221-5e57-477c-b756-e39dd8ffd538', 'name': 'Isprs Journal of Photogrammetry and Remote Sensing', 'type': 'journal', 'alternate_names': ['Isprs J Photogramm Remote Sens']}, 'url': 'https://www.semanticscholar.org/paper/fe0e69189c0739b8b7a9dc17995776d67878ebec', 'title': 'Structured graph based image regression for unsupervised multimodal change detection', 'abstract': None, 'venue': 'Isprs Journal of Photogrammetry and Remote Sensing', 'year': 2022, 'referenceCount': 58, 'citationCount': 11, 'influentialCitationCount': 0, 'isOpenAccess': False, 'openAccessPdf': None, 'fieldsOfStudy': None, 's2FieldsOfStudy': [{'category': 'Computer Science', 'source': 's2-fos-model'}], 'publicationTypes': None, 'publicationDate': '2022-03-01', 'journal': {'name': 'ISPRS Journal of Photogrammetry and Remote Sensing'}, 'citationStyles': {'bibtex': '@Article{Sun2022StructuredGB,\\n author = {Yuli Sun and Lin Lei and Xiang Tan and Dongdong Guan and Junzheng Wu and Gangyao Kuang},\\n booktitle = {Isprs Journal of Photogrammetry and Remote Sensing},\\n journal = {ISPRS Journal of Photogrammetry and Remote Sensing},\\n title = {Structured graph based image regression for unsupervised multimodal change detection},\\n year = {2022}\\n}\\n'}, 'authors': [{'authorId': '1500378392', 'name': 'Yuli Sun'}, {'authorId': '35975070', 'name': 'Lin Lei'}, {'authorId': '2112781114', 'name': 'Xiang Tan'}, {'authorId': '50420536', 'name': 'Dongdong Guan'}, {'authorId': '46366033', 'name': 'Junzheng Wu'}, {'authorId': '7897173', 'name': 'Gangyao Kuang'}]}, {'paperId': 'a45d5828be284bb2152b668f451044305ffff8fa', 'externalIds': {'DBLP': 'journals/remotesensing/ShafiqueCKAA22', 'DOI': '10.3390/rs14040871', 'CorpusId': 246851385}, 'corpusId': 246851385, 'publicationVenue': {'id': '8e1bd4b5-d5b2-4e22-ba0a-01fe5568d472', 'name': 'Remote Sensing', 'type': 'journal', 'alternate_names': ['Remote Sens'], 'issn': '2315-4675', 'alternate_issns': ['2072-4292'], 'url': 'http://www.e-helvetica.nb.admin.ch/directAccess?callnumber=bel-169233', 'alternate_urls': ['https://www.mdpi.com/journal/remotesensing', 'http://www.mdpi.com/journal/remotesensing', 'http://nbn-resolving.de/urn/resolver.pl?urn=urn:nbn:ch:bel-169233']}, 'url': 'https://www.semanticscholar.org/paper/a45d5828be284bb2152b668f451044305ffff8fa', 'title': 'Deep Learning-Based Change Detection in Remote Sensing Images: A Review', 'abstract': 'Images gathered from different satellites are vastly available these days due to the fast development of remote sensing (RS) technology. These images significantly enhance the data sources of change detection (CD). CD is a technique of recognizing the dissimilarities in the images acquired at distinct intervals and are used for numerous applications, such as urban area development, disaster management, land cover object identification, etc. In recent years, deep learning (DL) techniques have been used tremendously in change detection processes, where it has achieved great success because of their practical applications. Some researchers have even claimed that DL approaches outperform traditional approaches and enhance change detection accuracy. Therefore, this review focuses on deep learning techniques, such as supervised, unsupervised, and semi-supervised for different change detection datasets, such as SAR, multispectral, hyperspectral, VHR, and heterogeneous images, and their advantages and disadvantages will be highlighted. In the end, some significant challenges are discussed to understand the context of improvements in change detection datasets and deep learning models. Overall, this review will be beneficial for the future development of CD methods.', 'venue': 'Remote Sensing', 'year': 2022, 'referenceCount': 197, 'citationCount': 51, 'influentialCitationCount': 1, 'isOpenAccess': True, 'openAccessPdf': {'url': 'https://www.mdpi.com/2072-4292/14/4/871/pdf?version=1645431892', 'status': None}, 'fieldsOfStudy': ['Computer Science'], 's2FieldsOfStudy': [{'category': 'Computer Science', 'source': 'external'}, {'category': 'Environmental Science', 'source': 's2-fos-model'}, {'category': 'Computer Science', 'source': 's2-fos-model'}], 'publicationTypes': ['JournalArticle', 'Review'], 'publicationDate': '2022-02-11', 'journal': {'volume': '14', 'pages': '871', 'name': 'Remote. Sens.'}, 'citationStyles': {'bibtex': '@Article{Shafique2022DeepLC,\\n author = {Ayesha Shafique and Guo Cao and Zia Khan and Muhammad Asad and Muhammad Aslam},\\n booktitle = {Remote Sensing},\\n journal = {Remote. Sens.},\\n pages = {871},\\n title = {Deep Learning-Based Change Detection in Remote Sensing Images: A Review},\\n volume = {14},\\n year = {2022}\\n}\\n'}, 'authors': [{'authorId': '1391755517', 'name': 'Ayesha Shafique'}, {'authorId': '144560055', 'name': 'Guo Cao'}, {'authorId': '2077527698', 'name': 'Zia Khan'}, {'authorId': '66621117', 'name': 'Muhammad Asad'}, {'authorId': '152641609', 'name': 'Muhammad Aslam'}]}, {'paperId': '55b683296286725ce9a55c42739be833f00afd16', 'externalIds': {'DOI': '10.1016/j.isprsjprs.2021.10.015', 'CorpusId': 244757373}, 'corpusId': 244757373, 'publicationVenue': {'id': '227fb221-5e57-477c-b756-e39dd8ffd538', 'name': 'Isprs Journal of Photogrammetry and Remote Sensing', 'type': 'journal', 'alternate_names': ['Isprs J Photogramm Remote Sens']}, 'url': 'https://www.semanticscholar.org/paper/55b683296286725ce9a55c42739be833f00afd16', 'title': 'ChangeMask: Deep multi-task encoder-transformer-decoder architecture for semantic change detection', 'abstract': None, 'venue': 'Isprs Journal of Photogrammetry and Remote Sensing', 'year': 2022, 'referenceCount': 28, 'citationCount': 32, 'influentialCitationCount': 2, 'isOpenAccess': False, 'openAccessPdf': None, 'fieldsOfStudy': None, 's2FieldsOfStudy': [{'category': 'Computer Science', 'source': 's2-fos-model'}], 'publicationTypes': None, 'publicationDate': '2022-01-01', 'journal': {'name': 'ISPRS Journal of Photogrammetry and Remote Sensing'}, 'citationStyles': {'bibtex': '@Article{Zheng2022ChangeMaskDM,\\n author = {Zhuo Zheng and Y. Zhong and S. Tian and A. Ma and Liangpei Zhang},\\n booktitle = {Isprs Journal of Photogrammetry and Remote Sensing},\\n journal = {ISPRS Journal of Photogrammetry and Remote Sensing},\\n title = {ChangeMask: Deep multi-task encoder-transformer-decoder architecture for semantic change detection},\\n year = {2022}\\n}\\n'}, 'authors': [{'authorId': '120964457', 'name': 'Zhuo Zheng'}, {'authorId': '2798207', 'name': 'Y. Zhong'}, {'authorId': '2055920288', 'name': 'S. Tian'}, {'authorId': '38410614', 'name': 'A. Ma'}, {'authorId': '9802604', 'name': 'Liangpei Zhang'}]}, {'paperId': '9b7d481b2674dc7b57f2e0ec8f36a7c41d634f52', 'externalIds': {'DBLP': 'journals/corr/abs-2112-04493', 'ArXiv': '2112.04493', 'DOI': '10.1109/TIP.2022.3233187', 'CorpusId': 245005725, 'PubMed': '37018557'}, 'corpusId': 245005725, 'publicationVenue': {'id': 'e117fa7f-05b7-4dd6-b64b-0a0a7c0393d8', 'name': 'IEEE Transactions on Image Processing', 'type': 'journal', 'alternate_names': ['IEEE Trans Image Process'], 'issn': '1057-7149', 'url': 'http://ieeexplore.ieee.org/servlet/opac?punumber=83', 'alternate_urls': ['https://ieeexplore.ieee.org/xpl/RecentIssue.jsp?punumber=83']}, 'url': 'https://www.semanticscholar.org/paper/9b7d481b2674dc7b57f2e0ec8f36a7c41d634f52', 'title': 'Binary Change Guided Hyperspectral Multiclass Change Detection', 'abstract': 'Characterized by tremendous spectral information, hyperspectral image is able to detect subtle changes and discriminate various change classes for change detection. The recent research works dominated by hyperspectral binary change detection, however, cannot provide fine change classes information. And most methods incorporating spectral unmixing for hyperspectral multiclass change detection (HMCD), yet suffer from the neglection of temporal correlation and error accumulation. In this study, we proposed an unsupervised Binary Change Guided hyperspectral multiclass change detection Network (BCG-Net) for HMCD, which aims at boosting the multiclass change detection result and unmixing result with the mature binary change detection approaches. In BCG-Net, a novel partial-siamese united-unmixing module is designed for multi-temporal spectral unmixing, and a groundbreaking temporal correlation constraint directed by the pseudo-labels of binary change detection result is developed to guide the unmixing process from the perspective of change detection, encouraging the abundance of the unchanged pixels more coherent and that of the changed pixels more accurate. Moreover, an innovative binary change detection rule is put forward to deal with the problem that traditional rule is susceptible to numerical values. The iterative optimization of the spectral unmixing process and the change detection process is proposed to eliminate the accumulated errors and bias from unmixing result to change detection result. The experimental results demonstrate that our proposed BCG-Net could achieve comparative or even outstanding performance of multiclass change detection among the state-of-the-art approaches and gain better spectral unmixing results at the same time.', 'venue': 'IEEE Transactions on Image Processing', 'year': 2021, 'referenceCount': 64, 'citationCount': 5, 'influentialCitationCount': 0, 'isOpenAccess': True, 'openAccessPdf': {'url': 'http://arxiv.org/pdf/2112.04493', 'status': None}, 'fieldsOfStudy': ['Medicine', 'Computer Science', 'Engineering'], 's2FieldsOfStudy': [{'category': 'Medicine', 'source': 'external'}, {'category': 'Computer Science', 'source': 'external'}, {'category': 'Engineering', 'source': 'external'}, {'category': 'Environmental Science', 'source': 's2-fos-model'}], 'publicationTypes': ['JournalArticle'], 'publicationDate': '2021-12-08', 'journal': {'volume': '32', 'pages': '791-806', 'name': 'IEEE Transactions on Image Processing'}, 'citationStyles': {'bibtex': '@Article{Hu2021BinaryCG,\\n author = {Meiqi Hu and Chen Wu and Bo Du and Liangpei Zhang},\\n booktitle = {IEEE Transactions on Image Processing},\\n journal = {IEEE Transactions on Image Processing},\\n pages = {791-806},\\n title = {Binary Change Guided Hyperspectral Multiclass Change Detection},\\n volume = {32},\\n year = {2021}\\n}\\n'}, 'authors': [{'authorId': '31079362', 'name': 'Meiqi Hu'}, {'authorId': '143622134', 'name': 'Chen Wu'}, {'authorId': '145728792', 'name': 'Bo Du'}, {'authorId': '9802604', 'name': 'Liangpei Zhang'}]}, {'paperId': 'bc4716070e4753fe9c8bf932512c24e1ebc5f39f', 'externalIds': {'MAG': '3195032332', 'DOI': '10.1016/J.RSE.2021.112636', 'CorpusId': 238665552}, 'corpusId': 238665552, 'publicationVenue': None, 'url': 'https://www.semanticscholar.org/paper/bc4716070e4753fe9c8bf932512c24e1ebc5f39f', 'title': 'Building damage assessment for rapid disaster response with a deep object-based semantic change detection framework: From natural disasters to man-made disasters', 'abstract': None, 'venue': '', 'year': 2021, 'referenceCount': 39, 'citationCount': 59, 'influentialCitationCount': 1, 'isOpenAccess': False, 'openAccessPdf': None, 'fieldsOfStudy': ['Computer Science'], 's2FieldsOfStudy': [{'category': 'Computer Science', 'source': 'external'}, {'category': 'Computer Science', 'source': 's2-fos-model'}], 'publicationTypes': None, 'publicationDate': '2021-11-01', 'journal': {'volume': '265', 'pages': '112636', 'name': 'Remote Sensing of Environment'}, 'citationStyles': {'bibtex': '@Article{Zheng2021BuildingDA,\\n author = {Zhuo Zheng and Y. Zhong and Junjue Wang and A. Ma and Liangpei Zhang},\\n journal = {Remote Sensing of Environment},\\n pages = {112636},\\n title = {Building damage assessment for rapid disaster response with a deep object-based semantic change detection framework: From natural disasters to man-made disasters},\\n volume = {265},\\n year = {2021}\\n}\\n'}, 'authors': [{'authorId': '120964457', 'name': 'Zhuo Zheng'}, {'authorId': '2798207', 'name': 'Y. Zhong'}, {'authorId': '3196473', 'name': 'Junjue Wang'}, {'authorId': '38410614', 'name': 'A. Ma'}, {'authorId': '9802604', 'name': 'Liangpei Zhang'}]}, {'paperId': '961ba6302926bbfc0524b27c8db80cc485b8e0f6', 'externalIds': {'DBLP': 'journals/corr/abs-2110-06427', 'ArXiv': '2110.06427', 'CorpusId': 238744030}, 'corpusId': 238744030, 'publicationVenue': {'id': '1901e811-ee72-4b20-8f7e-de08cd395a10', 'name': 'arXiv.org', 'alternate_names': ['ArXiv'], 'issn': '2331-8422', 'url': 'http://bibpurl.oclc.org/web/7130'}, 'url': 'https://www.semanticscholar.org/paper/961ba6302926bbfc0524b27c8db80cc485b8e0f6', 'title': 'Dense Uncertainty Estimation', 'abstract': 'Deep neural networks can be roughly divided into deterministic neural networks and stochastic neural networks.The former is usually trained to achieve a mapping from input space to output space via maximum likelihood estimation for the weights, which leads to deterministic predictions during testing. In this way, a specific weights set is estimated while ignoring any uncertainty that may occur in the proper weight space. The latter introduces randomness into the framework, either by assuming a prior distribution over model parameters (i.e. Bayesian Neural Networks) or including latent variables (i.e. generative models) to explore the contribution of latent variables for model predictions, leading to stochastic predictions during testing. Different from the former that achieves point estimation, the latter aims to estimate the prediction distribution, making it possible to estimate uncertainty, representing model ignorance about its predictions. We claim that conventional deterministic neural network based dense prediction tasks are prone to overfitting, leading to over-confident predictions, which is undesirable for decision making. In this paper, we investigate stochastic neural networks and uncertainty estimation techniques to achieve both accurate deterministic prediction and reliable uncertainty estimation. Specifically, we work on two types of uncertainty estimations solutions, namely ensemble based methods and generative model based methods, and explain their pros and cons while using them in fully/semi/weakly-supervised framework. Due to the close connection between uncertainty estimation and model calibration, we also introduce how uncertainty estimation can be used for deep model calibration to achieve well-calibrated models, namely dense model calibration. Code and data are available at https://github.com/JingZhang617/UncertaintyEstimation.', 'venue': 'arXiv.org', 'year': 2021, 'referenceCount': 125, 'citationCount': 7, 'influentialCitationCount': 0, 'isOpenAccess': False, 'openAccessPdf': None, 'fieldsOfStudy': ['Computer Science'], 's2FieldsOfStudy': [{'category': 'Computer Science', 'source': 'external'}, {'category': 'Computer Science', 'source': 's2-fos-model'}], 'publicationTypes': ['JournalArticle'], 'publicationDate': '2021-10-13', 'journal': {'volume': 'abs/2110.06427', 'name': 'ArXiv'}, 'citationStyles': {'bibtex': '@Article{Zhang2021DenseUE,\\n author = {Jing Zhang and Yuchao Dai and Mochu Xiang and Deng-Ping Fan and Peyman Moghadam and Mingyi He and Christian J. Walder and Kaihao Zhang and Mehrtash Harandi and N. Barnes},\\n booktitle = {arXiv.org},\\n journal = {ArXiv},\\n title = {Dense Uncertainty Estimation},\\n volume = {abs/2110.06427},\\n year = {2021}\\n}\\n'}, 'authors': [{'authorId': '2155698491', 'name': 'Jing Zhang'}, {'authorId': '2116916030', 'name': 'Yuchao Dai'}, {'authorId': '2114879963', 'name': 'Mochu Xiang'}, {'authorId': '23999143', 'name': 'Deng-Ping Fan'}, {'authorId': '145136889', 'name': 'Peyman Moghadam'}, {'authorId': '40214723', 'name': 'Mingyi He'}, {'authorId': '3093246', 'name': 'Christian J. Walder'}, {'authorId': '3397429', 'name': 'Kaihao Zhang'}, {'authorId': '23911916', 'name': 'Mehrtash Harandi'}, {'authorId': '1712576', 'name': 'N. Barnes'}]}, {'paperId': 'b4a627fc83fe0cad0f523d5628e3eda4418bef26', 'externalIds': {'DBLP': 'journals/tgrs/TangZMLZZJ22', 'MAG': '3197715477', 'DOI': '10.1109/TGRS.2021.3106381', 'CorpusId': 239667571}, 'corpusId': 239667571, 'publicationVenue': {'id': '70628d6a-97aa-4571-9701-bc0eb3989c32', 'name': 'IEEE Transactions on Geoscience and Remote Sensing', 'type': 'journal', 'alternate_names': ['IEEE Trans Geosci Remote Sens'], 'issn': '0196-2892', 'url': 'http://ieeexplore.ieee.org/servlet/opac?punumber=36', 'alternate_urls': ['https://ieeexplore.ieee.org/xpl/RecentIssue.jsp?punumber=36']}, 'url': 'https://www.semanticscholar.org/paper/b4a627fc83fe0cad0f523d5628e3eda4418bef26', 'title': 'An Unsupervised Remote Sensing Change Detection Method Based on Multiscale Graph Convolutional Network and Metric Learning', 'abstract': 'As a fundamental application, change detection (CD) is widespread in the remote sensing (RS) community. With the increase in the spatial resolution of RS images, high-resolution remote sensing (HRRS) image CD tasks receive growing attention. The change information hidden in multitemporal HRRS images could help discover our planet comprehensively. In the current deep learning era, convolutional neural networks (CNNs) have become one of the most powerful tools for a wide range of RS tasks including HRRS image CD, due to their superb feature learning capacity. However, most of them need a large amount of labeled data to accomplish the CD process, which is challenging or even impractical in many RS applications. Also, given the limited valid receptive field, CNNs can only capture short-range context within HRRS images, which is probably not enough to fully explore change information from the images. To overcome these limitations, in this article, we propose an unsupervised CD method, termed GMCD, based on graph convolutional network (GCN) and metric learning. GMCD consists of a Siamese fully convolution network (FCN), a multiscale dynamic GCN (Mlt-GCN), and a pseudolabel generation mechanism based on metric learning. The Siamese FCN contains a Siamese encoder and a pyramid-shaped decoder, aiming to extract multiscale features and integrate them to generate reliable difference images (DIs). Mlt-GCN focuses on capturing the short- and long-range contextual patterns at feature map level to extract changed and unchanged areas completely. The pseudolabel generation mechanism aims to produce reliable pseudolabels (changed, unchanged, and uncertain) to help accomplish the model training in an unsupervised way. Experiments on four HRRS image CD datasets demonstrate that GMCD outperforms the existing state-of-the-art methods.', 'venue': 'IEEE Transactions on Geoscience and Remote Sensing', 'year': 2021, 'referenceCount': 69, 'citationCount': 33, 'influentialCitationCount': 0, 'isOpenAccess': False, 'openAccessPdf': None, 'fieldsOfStudy': ['Computer Science'], 's2FieldsOfStudy': [{'category': 'Computer Science', 'source': 'external'}, {'category': 'Computer Science', 'source': 's2-fos-model'}], 'publicationTypes': ['JournalArticle'], 'publicationDate': '2021-09-01', 'journal': {'volume': '60', 'pages': '1-15', 'name': 'IEEE Transactions on Geoscience and Remote Sensing'}, 'citationStyles': {'bibtex': '@Article{Tang2021AnUR,\\n author = {Xu Tang and Huayu Zhang and Lichao Mou and Fang Liu and Xiangrong Zhang and Xiao Xiang Zhu and L. Jiao},\\n booktitle = {IEEE Transactions on Geoscience and Remote Sensing},\\n journal = {IEEE Transactions on Geoscience and Remote Sensing},\\n pages = {1-15},\\n title = {An Unsupervised Remote Sensing Change Detection Method Based on Multiscale Graph Convolutional Network and Metric Learning},\\n volume = {60},\\n year = {2021}\\n}\\n'}, 'authors': [{'authorId': '144474380', 'name': 'Xu Tang'}, {'authorId': '2110875955', 'name': 'Huayu Zhang'}, {'authorId': '35041003', 'name': 'Lichao Mou'}, {'authorId': '47185625', 'name': 'Fang Liu'}, {'authorId': '26887655', 'name': 'Xiangrong Zhang'}, {'authorId': '2125159330', 'name': 'Xiao Xiang Zhu'}, {'authorId': '144125122', 'name': 'L. Jiao'}]}, {'paperId': '577e4e489dbbb621c419d63c34873112df98606f', 'externalIds': {'ArXiv': '2108.11819', 'DBLP': 'journals/corr/abs-2108-11819', 'DOI': '10.1109/ICCV48922.2021.00714', 'CorpusId': 237303937}, 'corpusId': 237303937, 'publicationVenue': {'id': '7654260e-79f9-45c5-9663-d72027cf88f3', 'name': 'IEEE International Conference on Computer Vision', 'type': 'conference', 'alternate_names': ['ICCV', 'IEEE Int Conf Comput Vis', 'ICCV Workshops', 'ICCV Work'], 'url': 'https://ieeexplore.ieee.org/xpl/conhome/1000149/all-proceedings'}, 'url': 'https://www.semanticscholar.org/paper/577e4e489dbbb621c419d63c34873112df98606f', 'title': 'Mining Contextual Information Beyond Image for Semantic Segmentation', 'abstract': 'This paper studies the context aggregation problem in semantic image segmentation. The existing researches focus on improving the pixel representations by aggregating the contextual information within individual images. Though impressive, these methods neglect the significance of the representations of the pixels of the corresponding class beyond the input image. To address this, this paper proposes to mine the contextual information beyond individual images to further augment the pixel representations. We first set up a feature memory module, which is updated dynamically during training, to store the dataset-level representations of various categories. Then, we learn class probability distribution of each pixel representation under the supervision of the ground-truth segmentation. At last, the representation of each pixel is augmented by aggregating the dataset-level representations based on the corresponding class probability distribution. Furthermore, by utilizing the stored dataset-level representations, we also propose a representation consistent learning strategy to make the classification head better address intra-class compactness and inter-class dispersion. The proposed method could be effortlessly incorporated into existing segmentation frameworks (e.g., FCN, PSPNet, OCRNet and DeepLabV3) and brings consistent performance improvements. Mining contextual information beyond image allows us to report state-of-the-art performance on various benchmarks: ADE20K, LIP, Cityscapes and COCO-Stuff 1.', 'venue': 'IEEE International Conference on Computer Vision', 'year': 2021, 'referenceCount': 57, 'citationCount': 49, 'influentialCitationCount': 6, 'isOpenAccess': True, 'openAccessPdf': {'url': 'http://arxiv.org/pdf/2108.11819', 'status': None}, 'fieldsOfStudy': ['Computer Science'], 's2FieldsOfStudy': [{'category': 'Computer Science', 'source': 'external'}, {'category': 'Computer Science', 'source': 's2-fos-model'}], 'publicationTypes': ['JournalArticle', 'Conference'], 'publicationDate': '2021-08-26', 'journal': {'pages': '7211-7221', 'name': '2021 IEEE/CVF International Conference on Computer Vision (ICCV)'}, 'citationStyles': {'bibtex': '@Article{Jin2021MiningCI,\\n author = {Zhenchao Jin and Tao Gong and Dongdong Yu and Q. Chu and Jian Wang and Changhu Wang and Jie Shao},\\n booktitle = {IEEE International Conference on Computer Vision},\\n journal = {2021 IEEE/CVF International Conference on Computer Vision (ICCV)},\\n pages = {7211-7221},\\n title = {Mining Contextual Information Beyond Image for Semantic Segmentation},\\n year = {2021}\\n}\\n'}, 'authors': [{'authorId': '2152843665', 'name': 'Zhenchao Jin'}, {'authorId': '2057552415', 'name': 'Tao Gong'}, {'authorId': '2223692', 'name': 'Dongdong Yu'}, {'authorId': '3127351', 'name': 'Q. Chu'}, {'authorId': '2152766516', 'name': 'Jian Wang'}, {'authorId': '1906061249', 'name': 'Changhu Wang'}, {'authorId': '2000186088', 'name': 'Jie Shao'}]}, {'paperId': '112a570c218e1fd44f317c6e91d1c42f40976f9b', 'externalIds': {'DBLP': 'conf/iccv/ZhengMZZ21', 'ArXiv': '2108.07002', 'DOI': '10.1109/ICCV48922.2021.01491', 'CorpusId': 237091203}, 'corpusId': 237091203, 'publicationVenue': {'id': '7654260e-79f9-45c5-9663-d72027cf88f3', 'name': 'IEEE International Conference on Computer Vision', 'type': 'conference', 'alternate_names': ['ICCV', 'IEEE Int Conf Comput Vis', 'ICCV Workshops', 'ICCV Work'], 'url': 'https://ieeexplore.ieee.org/xpl/conhome/1000149/all-proceedings'}, 'url': 'https://www.semanticscholar.org/paper/112a570c218e1fd44f317c6e91d1c42f40976f9b', 'title': 'Change is Everywhere: Single-Temporal Supervised Object Change Detection in Remote Sensing Imagery', 'abstract': 'For high spatial resolution (HSR) remote sensing images, bitemporal supervised learning always dominates change detection using many pairwise labeled bitemporal images. However, it is very expensive and time-consuming to pairwise label large-scale bitemporal HSR remote sensing images. In this paper, we propose single-temporal supervised learning (STAR) for change detection from a new perspective of exploiting object changes in unpaired images as supervisory signals. STAR enables us to train a high-accuracy change detector only using unpaired labeled images and generalize to real-world bitemporal images. To evaluate the effectiveness of STAR, we design a simple yet effective change detector called ChangeStar, which can reuse any deep semantic segmentation architecture by the ChangeMixin module. The comprehensive experimental results show that ChangeStar outperforms the baseline with a large margin under single-temporal super-vision and achieves superior performance under bitemporal supervision. Code is available at https://github.com/Z-Zheng/ChangeStar.', 'venue': 'IEEE International Conference on Computer Vision', 'year': 2021, 'referenceCount': 30, 'citationCount': 32, 'influentialCitationCount': 3, 'isOpenAccess': True, 'openAccessPdf': {'url': 'http://arxiv.org/pdf/2108.07002', 'status': None}, 'fieldsOfStudy': ['Computer Science'], 's2FieldsOfStudy': [{'category': 'Computer Science', 'source': 'external'}, {'category': 'Environmental Science', 'source': 's2-fos-model'}], 'publicationTypes': ['JournalArticle', 'Conference'], 'publicationDate': '2021-08-16', 'journal': {'pages': '15173-15182', 'name': '2021 IEEE/CVF International Conference on Computer Vision (ICCV)'}, 'citationStyles': {'bibtex': '@Article{Zheng2021ChangeIE,\\n author = {Zhuo Zheng and A. Ma and Liangpei Zhang and Y. Zhong},\\n booktitle = {IEEE International Conference on Computer Vision},\\n journal = {2021 IEEE/CVF International Conference on Computer Vision (ICCV)},\\n pages = {15173-15182},\\n title = {Change is Everywhere: Single-Temporal Supervised Object Change Detection in Remote Sensing Imagery},\\n year = {2021}\\n}\\n'}, 'authors': [{'authorId': '120964457', 'name': 'Zhuo Zheng'}, {'authorId': '38410614', 'name': 'A. Ma'}, {'authorId': '9802604', 'name': 'Liangpei Zhang'}, {'authorId': '2798207', 'name': 'Y. Zhong'}]}, {'paperId': 'db4c551676c42ba6f59c0c722f2f7ac892a0b1fa', 'externalIds': {'DBLP': 'journals/corr/abs-2108-05821', 'ArXiv': '2108.05821', 'DOI': '10.1109/ICCV48922.2021.00803', 'CorpusId': 236986982}, 'corpusId': 236986982, 'publicationVenue': {'id': '7654260e-79f9-45c5-9663-d72027cf88f3', 'name': 'IEEE International Conference on Computer Vision', 'type': 'conference', 'alternate_names': ['ICCV', 'IEEE Int Conf Comput Vis', 'ICCV Workshops', 'ICCV Work'], 'url': 'https://ieeexplore.ieee.org/xpl/conhome/1000149/all-proceedings'}, 'url': 'https://www.semanticscholar.org/paper/db4c551676c42ba6f59c0c722f2f7ac892a0b1fa', 'title': 'TF-Blender: Temporal Feature Blender for Video Object Detection', 'abstract': 'Video objection detection is a challenging task because isolated video frames may encounter appearance deterioration, which introduces great confusion for detection. One of the popular solutions is to exploit the temporal information and enhance per-frame representation through aggregating features from neighboring frames. Despite achieving improvements in detection, existing methods focus on the selection of higher-level video frames for aggregation rather than modeling lower-level temporal relations to increase the feature representation. To address this limitation, we propose a novel solution named TF-Blender, which includes three modules: 1) Temporal relation models the relations between the current frame and its neigh-boring frames to preserve spatial information. 2). Feature adjustment enriches the representation of every neigh-boring feature map; 3) Feature blender combines outputs from the first two modules and produces stronger features for the later detection tasks. For its simplicity, TF-Blender can be effortlessly plugged into any detection network to improve detection behavior. Extensive evaluations on ImageNet VID and YouTube-VIS benchmarks indicate the performance guarantees of using TF-Blender on recent state-of-the-art methods. Code is available at https://github.com/goodproj13/TF-Blender.', 'venue': 'IEEE International Conference on Computer Vision', 'year': 2021, 'referenceCount': 43, 'citationCount': 34, 'influentialCitationCount': 4, 'isOpenAccess': True, 'openAccessPdf': {'url': 'http://arxiv.org/pdf/2108.05821', 'status': None}, 'fieldsOfStudy': ['Computer Science'], 's2FieldsOfStudy': [{'category': 'Computer Science', 'source': 'external'}, {'category': 'Computer Science', 'source': 's2-fos-model'}], 'publicationTypes': ['JournalArticle', 'Conference'], 'publicationDate': '2021-08-12', 'journal': {'pages': '8118-8127', 'name': '2021 IEEE/CVF International Conference on Computer Vision (ICCV)'}, 'citationStyles': {'bibtex': '@Article{Cui2021TFBlenderTF,\\n author = {Yiming Cui and Liqi Yan and Zhiwen Cao and Dongfang Liu},\\n booktitle = {IEEE International Conference on Computer Vision},\\n journal = {2021 IEEE/CVF International Conference on Computer Vision (ICCV)},\\n pages = {8118-8127},\\n title = {TF-Blender: Temporal Feature Blender for Video Object Detection},\\n year = {2021}\\n}\\n'}, 'authors': [{'authorId': '2109488758', 'name': 'Yiming Cui'}, {'authorId': '23604913', 'name': 'Liqi Yan'}, {'authorId': '9278220', 'name': 'Zhiwen Cao'}, {'authorId': '1995922397', 'name': 'Dongfang Liu'}]}, {'paperId': '76a936ae537d79a1078135f692c1728ab40ef663', 'externalIds': {'DBLP': 'journals/remotesensing/ShenLCWXYCLJ21', 'ArXiv': '2107.09244', 'DOI': '10.3390/rs13245094', 'CorpusId': 236134438}, 'corpusId': 236134438, 'publicationVenue': {'id': '8e1bd4b5-d5b2-4e22-ba0a-01fe5568d472', 'name': 'Remote Sensing', 'type': 'journal', 'alternate_names': ['Remote Sens'], 'issn': '2315-4675', 'alternate_issns': ['2072-4292'], 'url': 'http://www.e-helvetica.nb.admin.ch/directAccess?callnumber=bel-169233', 'alternate_urls': ['https://www.mdpi.com/journal/remotesensing', 'http://www.mdpi.com/journal/remotesensing', 'http://nbn-resolving.de/urn/resolver.pl?urn=urn:nbn:ch:bel-169233']}, 'url': 'https://www.semanticscholar.org/paper/76a936ae537d79a1078135f692c1728ab40ef663', 'title': 'S2Looking: A Satellite Side-Looking Dataset for Building Change Detection', 'abstract': 'Building-change detection underpins many important applications, especially in the military and crisis-management domains. Recent methods used for change detection have shifted towards deep learning, which depends on the quality of its training data. The assembly of large-scale annotated satellite imagery datasets is therefore essential for global building-change surveillance. Existing datasets almost exclusively offer near-nadir viewing angles. This limits the range of changes that can be detected. By offering larger observation ranges, the scroll imaging mode of optical satellites presents an opportunity to overcome this restriction. This paper therefore introduces S2Looking, a building-change-detection dataset that contains large-scale side-looking satellite images captured at various off-nadir angles. The dataset consists of 5000 bitemporal image pairs of rural areas and more than 65,920 annotated instances of changes throughout the world. The dataset can be used to train deep-learning-based change-detection algorithms. It expands upon existing datasets by providing (1) larger viewing angles; (2) large illumination variances; and (3) the added complexity of rural images. To facilitate the use of the dataset, a benchmark task has been established, and preliminary tests suggest that deep-learning algorithms find the dataset significantly more challenging than the closest-competing near-nadir dataset, LEVIR-CD+. S2Looking may therefore promote important advances in existing building-change-detection algorithms.', 'venue': 'Remote Sensing', 'year': 2021, 'referenceCount': 69, 'citationCount': 33, 'influentialCitationCount': 3, 'isOpenAccess': True, 'openAccessPdf': {'url': 'https://www.mdpi.com/2072-4292/13/24/5094/pdf?version=1639697420', 'status': None}, 'fieldsOfStudy': ['Computer Science', 'Engineering'], 's2FieldsOfStudy': [{'category': 'Computer Science', 'source': 'external'}, {'category': 'Engineering', 'source': 'external'}, {'category': 'Environmental Science', 'source': 's2-fos-model'}, {'category': 'Computer Science', 'source': 's2-fos-model'}], 'publicationTypes': ['JournalArticle'], 'publicationDate': '2021-07-20', 'journal': {'volume': 'abs/2107.09244', 'name': 'ArXiv'}, 'citationStyles': {'bibtex': '@Article{Shen2021S2LookingAS,\\n author = {Li Shen and Yao Lu and Hao Chen and Hao Wei and Donghai Xie and Jiabao Yue and Rui Chen and Y. Zhang and Ao Zhang and Shouye Lv and Bitao Jiang},\\n booktitle = {Remote Sensing},\\n journal = {ArXiv},\\n title = {S2Looking: A Satellite Side-Looking Dataset for Building Change Detection},\\n volume = {abs/2107.09244},\\n year = {2021}\\n}\\n'}, 'authors': [{'authorId': '2144034874', 'name': 'Li Shen'}, {'authorId': '2143370880', 'name': 'Yao Lu'}, {'authorId': '2149051387', 'name': 'Hao Chen'}, {'authorId': '2109393519', 'name': 'Hao Wei'}, {'authorId': '4727141', 'name': 'Donghai Xie'}, {'authorId': '2089837899', 'name': 'Jiabao Yue'}, {'authorId': '2118228984', 'name': 'Rui Chen'}, {'authorId': '49889240', 'name': 'Y. Zhang'}, {'authorId': '2087149603', 'name': 'Ao Zhang'}, {'authorId': '2047408668', 'name': 'Shouye Lv'}, {'authorId': '1917144', 'name': 'Bitao Jiang'}]}, {'paperId': 'cb6a07104cddff4a93ba9802b18bd38f89d791db', 'externalIds': {'DBLP': 'journals/tip/SunLGK21', 'DOI': '10.1109/TIP.2021.3093766', 'CorpusId': 235767747, 'PubMed': '34232875'}, 'corpusId': 235767747, 'publicationVenue': {'id': 'e117fa7f-05b7-4dd6-b64b-0a0a7c0393d8', 'name': 'IEEE Transactions on Image Processing', 'type': 'journal', 'alternate_names': ['IEEE Trans Image Process'], 'issn': '1057-7149', 'url': 'http://ieeexplore.ieee.org/servlet/opac?punumber=83', 'alternate_urls': ['https://ieeexplore.ieee.org/xpl/RecentIssue.jsp?punumber=83']}, 'url': 'https://www.semanticscholar.org/paper/cb6a07104cddff4a93ba9802b18bd38f89d791db', 'title': 'Iterative Robust Graph for Unsupervised Change Detection of Heterogeneous Remote Sensing Images', 'abstract': 'This work presents a robust graph mapping approach for the unsupervised heterogeneous change detection problem in remote sensing imagery. To address the challenge that heterogeneous images cannot be directly compared due to different imaging mechanisms, we take advantage of the fact that the heterogeneous images share the same structure information for the same ground object, which is imaging modality-invariant. The proposed method first constructs a robust $K$ -nearest neighbor graph to represent the structure of each image, and then compares the graphs within the same image domain by means of graph mapping to calculate the forward and backward difference images, which can avoid the confusion of heterogeneous data. Finally, it detects the changes through a Markovian co-segmentation model that can fuse the forward and backward difference images in the segmentation process, which can be solved by the co-graph cut. Once the changed areas are detected by the Markovian co-segmentation, they will be propagated back into the graph construction process to reduce the influence of changed neighbors. This iterative framework makes the graph more robust and thus improves the final detection performance. Experimental results on different data sets confirm the effectiveness of the proposed method. Source code of the proposed method is made available at https://github.com/yulisun/IRG-McS.', 'venue': 'IEEE Transactions on Image Processing', 'year': 2021, 'referenceCount': 0, 'citationCount': 28, 'influentialCitationCount': 4, 'isOpenAccess': False, 'openAccessPdf': None, 'fieldsOfStudy': ['Computer Science', 'Medicine'], 's2FieldsOfStudy': [{'category': 'Computer Science', 'source': 'external'}, {'category': 'Medicine', 'source': 'external'}, {'category': 'Mathematics', 'source': 's2-fos-model'}], 'publicationTypes': ['JournalArticle'], 'publicationDate': '2021-07-07', 'journal': {'volume': '30', 'pages': '6277-6291', 'name': 'IEEE Transactions on Image Processing'}, 'citationStyles': {'bibtex': '@Article{Sun2021IterativeRG,\\n author = {Yuli Sun and Lin Lei and Dongdong Guan and Gangyao Kuang},\\n booktitle = {IEEE Transactions on Image Processing},\\n journal = {IEEE Transactions on Image Processing},\\n pages = {6277-6291},\\n title = {Iterative Robust Graph for Unsupervised Change Detection of Heterogeneous Remote Sensing Images},\\n volume = {30},\\n year = {2021}\\n}\\n'}, 'authors': [{'authorId': '1500378392', 'name': 'Yuli Sun'}, {'authorId': '35975070', 'name': 'Lin Lei'}, {'authorId': '50420536', 'name': 'Dongdong Guan'}, {'authorId': '7897173', 'name': 'Gangyao Kuang'}]}, {'paperId': '152954530e24e701a9a1132eba602504e718a9f2', 'externalIds': {'ArXiv': '2103.00208', 'DBLP': 'journals/tgrs/ChenQS22', 'DOI': '10.1109/TGRS.2021.3095166', 'CorpusId': 235795300}, 'corpusId': 235795300, 'publicationVenue': {'id': '70628d6a-97aa-4571-9701-bc0eb3989c32', 'name': 'IEEE Transactions on Geoscience and Remote Sensing', 'type': 'journal', 'alternate_names': ['IEEE Trans Geosci Remote Sens'], 'issn': '0196-2892', 'url': 'http://ieeexplore.ieee.org/servlet/opac?punumber=36', 'alternate_urls': ['https://ieeexplore.ieee.org/xpl/RecentIssue.jsp?punumber=36']}, 'url': 'https://www.semanticscholar.org/paper/152954530e24e701a9a1132eba602504e718a9f2', 'title': 'Remote Sensing Image Change Detection With Transformers', 'abstract': 'Modern change detection (CD) has achieved remarkable success by the powerful discriminative ability of deep convolutions. However, high-resolution remote sensing CD remains challenging due to the complexity of objects in the scene. Objects with the same semantic concept may show distinct spectral characteristics at different times and spatial locations. Most recent CD pipelines using pure convolutions are still struggling to relate long-range concepts in space-time. Nonlocal self-attention approaches show promising performance via modeling dense relationships among pixels, yet are computationally inefficient. Here, we propose a bitemporal image transformer (BIT) to efficiently and effectively model contexts within the spatial-temporal domain. Our intuition is that the high-level concepts of the change of interest can be represented by a few visual words, that is, semantic tokens. To achieve this, we express the bitemporal image into a few tokens and use a transformer encoder to model contexts in the compact token-based space-time. The learned context-rich tokens are then fed back to the pixel-space for refining the original features via a transformer decoder. We incorporate BIT in a deep feature differencing-based CD framework. Extensive experiments on three CD datasets demonstrate the effectiveness and efficiency of the proposed method. Notably, our BIT-based model significantly outperforms the purely convolutional baseline using only three times lower computational costs and model parameters. Based on a naive backbone (ResNet18) without sophisticated structures (e.g., feature pyramid network (FPN) and UNet), our model surpasses several state-of-the-art CD methods, including better than four recent attention-based methods in terms of efficiency and accuracy. Our code is available at https://github.com/justchenhao/BIT_CD.', 'venue': 'IEEE Transactions on Geoscience and Remote Sensing', 'year': 2021, 'referenceCount': 65, 'citationCount': 197, 'influentialCitationCount': 77, 'isOpenAccess': True, 'openAccessPdf': {'url': 'http://arxiv.org/pdf/2103.00208', 'status': None}, 'fieldsOfStudy': ['Computer Science'], 's2FieldsOfStudy': [{'category': 'Computer Science', 'source': 'external'}, {'category': 'Computer Science', 'source': 's2-fos-model'}], 'publicationTypes': ['JournalArticle'], 'publicationDate': '2021-02-27', 'journal': {'volume': '60', 'pages': '1-14', 'name': 'IEEE Transactions on Geoscience and Remote Sensing'}, 'citationStyles': {'bibtex': '@Article{Chen2021RemoteSI,\\n author = {Hao Chen and Zipeng Qi and Zhenwei Shi},\\n booktitle = {IEEE Transactions on Geoscience and Remote Sensing},\\n journal = {IEEE Transactions on Geoscience and Remote Sensing},\\n pages = {1-14},\\n title = {Remote Sensing Image Change Detection With Transformers},\\n volume = {60},\\n year = {2021}\\n}\\n'}, 'authors': [{'authorId': None, 'name': 'Hao Chen'}, {'authorId': '2072539630', 'name': 'Zipeng Qi'}, {'authorId': '1741174', 'name': 'Zhenwei Shi'}]}, {'paperId': '3db31580f60e7277988129cee3df16097f4d5d6b', 'externalIds': {'MAG': '3130754787', 'DBLP': 'journals/lgrs/FangLSL22', 'DOI': '10.1109/LGRS.2021.3056416', 'CorpusId': 233967703}, 'corpusId': 233967703, 'publicationVenue': {'id': '290335d6-cddc-465d-87f1-807e86d8efee', 'name': 'IEEE Geoscience and Remote Sensing Letters', 'type': 'journal', 'alternate_names': ['IEEE Geosci Remote Sens Lett'], 'issn': '1545-598X', 'url': 'http://ieeexplore.ieee.org/servlet/opac?punumber=8859', 'alternate_urls': ['https://ieeexplore.ieee.org/xpl/RecentIssue.jsp?punumber=8859']}, 'url': 'https://www.semanticscholar.org/paper/3db31580f60e7277988129cee3df16097f4d5d6b', 'title': 'SNUNet-CD: A Densely Connected Siamese Network for Change Detection of VHR Images', 'abstract': 'Change detection is an important task in remote sensing (RS) image analysis. It is widely used in natural disaster monitoring and assessment, land resource planning, and other fields. As a pixel-to-pixel prediction task, change detection is sensitive about the utilization of the original position information. Recent change detection methods always focus on the extraction of deep change semantic feature, but ignore the importance of shallow-layer information containing high-resolution and fine-grained features, this often leads to the uncertainty of the pixels at the edge of the changed target and the determination miss of small targets. In this letter, we propose a densely connected siamese network for change detection, namely SNUNet-CD (the combination of Siamese network and NestedUNet). SNUNet-CD alleviates the loss of localization information in the deep layers of neural network through compact information transmission between encoder and decoder, and between decoder and decoder. In addition, Ensemble Channel Attention Module (ECAM) is proposed for deep supervision. Through ECAM, the most representative features of different semantic levels can be refined and used for the final classification. Experimental results show that our method improves greatly on many evaluation criteria and has a better tradeoff between accuracy and calculation amount than other state-of-the-art (SOTA) change detection methods.', 'venue': 'IEEE Geoscience and Remote Sensing Letters', 'year': 2021, 'referenceCount': 20, 'citationCount': 162, 'influentialCitationCount': 55, 'isOpenAccess': False, 'openAccessPdf': None, 'fieldsOfStudy': ['Computer Science'], 's2FieldsOfStudy': [{'category': 'Computer Science', 'source': 'external'}, {'category': 'Computer Science', 'source': 's2-fos-model'}], 'publicationTypes': ['JournalArticle'], 'publicationDate': '2021-02-17', 'journal': {'volume': '19', 'pages': '1-5', 'name': 'IEEE Geoscience and Remote Sensing Letters'}, 'citationStyles': {'bibtex': '@Article{Fang2021SNUNetCDAD,\\n author = {Sheng Fang and Kaiyu Li and J. Shao and Zhe Li},\\n booktitle = {IEEE Geoscience and Remote Sensing Letters},\\n journal = {IEEE Geoscience and Remote Sensing Letters},\\n pages = {1-5},\\n title = {SNUNet-CD: A Densely Connected Siamese Network for Change Detection of VHR Images},\\n volume = {19},\\n year = {2021}\\n}\\n'}, 'authors': [{'authorId': '1996483478', 'name': 'Sheng Fang'}, {'authorId': '2158258846', 'name': 'Kaiyu Li'}, {'authorId': '11865890', 'name': 'J. Shao'}, {'authorId': '2109738070', 'name': 'Zhe Li'}]}, {'paperId': '82dfb12d3a119bd07bc45d4fae92539b24323cc1', 'externalIds': {'DBLP': 'journals/tgrs/PapadomanolakiV21', 'MAG': '3133438312', 'DOI': '10.1109/TGRS.2021.3055584', 'CorpusId': 233910177}, 'corpusId': 233910177, 'publicationVenue': {'id': '70628d6a-97aa-4571-9701-bc0eb3989c32', 'name': 'IEEE Transactions on Geoscience and Remote Sensing', 'type': 'journal', 'alternate_names': ['IEEE Trans Geosci Remote Sens'], 'issn': '0196-2892', 'url': 'http://ieeexplore.ieee.org/servlet/opac?punumber=36', 'alternate_urls': ['https://ieeexplore.ieee.org/xpl/RecentIssue.jsp?punumber=36']}, 'url': 'https://www.semanticscholar.org/paper/82dfb12d3a119bd07bc45d4fae92539b24323cc1', 'title': 'A Deep Multitask Learning Framework Coupling Semantic Segmentation and Fully Convolutional LSTM Networks for Urban Change Detection', 'abstract': 'In this article, we present a deep multitask learning framework able to couple semantic segmentation and change detection using fully convolutional long short-term memory (LSTM) networks. In particular, we present a UNet-like architecture (L-UNet) that models the temporal relationship of spatial feature representations using integrated fully convolutional LSTM blocks on top of every encoding level. In this way, the network is able to capture the temporal relationship of spatial feature vectors in all encoding levels without the need to downsample or flatten them, forming an end-to-end trainable framework. Moreover, we further enrich the L-UNet architecture with an additional decoding branch that performs semantic segmentation on the available semantic categories that are presented in the different input dates, forming a multitask framework. Different loss quantities are also defined and combined together in a circular way to boost the overall performance. The developed methodology has been evaluated on three different data sets, i.e., the challenging bitemporal high-resolution Office National d’Etudes et de Recherches Aérospatiales (ONERA) Satellite Change Detection (OSCD) Sentinel-2 data set, the very high-resolution (VHR) multitemporal data set of the East Prefecture of Attica, Greece, and finally, the multitemporal VHR SpaceNet7 data set. Promising quantitative and qualitative results demonstrated that the synergy among the tasks can boost up the achieved performances. In particular, the proposed multitask framework contributed to a significant decrease in false-positive detections, with the F1 rate outperforming other state-of-the-art methods by at least 2.1% and 4.9% in the Attica VHR and SpaceNet7 data set cases, respectively. Our models and code can be found at https://github.com/mpapadomanolaki/multi-task-L-UNet.', 'venue': 'IEEE Transactions on Geoscience and Remote Sensing', 'year': 2021, 'referenceCount': 72, 'citationCount': 38, 'influentialCitationCount': 3, 'isOpenAccess': True, 'openAccessPdf': {'url': 'https://hal.inria.fr/hal-03140492/file/IEEE_Transactions_on_Geoscience_and_Remote_Sensing.pdf', 'status': None}, 'fieldsOfStudy': ['Computer Science'], 's2FieldsOfStudy': [{'category': 'Computer Science', 'source': 'external'}, {'category': 'Computer Science', 'source': 's2-fos-model'}], 'publicationTypes': ['JournalArticle'], 'publicationDate': '2021-02-10', 'journal': {'volume': '59', 'pages': '7651-7668', 'name': 'IEEE Transactions on Geoscience and Remote Sensing'}, 'citationStyles': {'bibtex': '@Article{Papadomanolaki2021ADM,\\n author = {M. Papadomanolaki and M. Vakalopoulou and K. Karantzalos},\\n booktitle = {IEEE Transactions on Geoscience and Remote Sensing},\\n journal = {IEEE Transactions on Geoscience and Remote Sensing},\\n pages = {7651-7668},\\n title = {A Deep Multitask Learning Framework Coupling Semantic Segmentation and Fully Convolutional LSTM Networks for Urban Change Detection},\\n volume = {59},\\n year = {2021}\\n}\\n'}, 'authors': [{'authorId': '47058858', 'name': 'M. Papadomanolaki'}, {'authorId': '1893915', 'name': 'M. Vakalopoulou'}, {'authorId': '144542193', 'name': 'K. Karantzalos'}]}, {'paperId': '41cbea36c8107d6ed4f3b89bd641e292d0096a24', 'externalIds': {'DBLP': 'conf/wacv/TrinhTRL21', 'DOI': '10.1109/WACV48630.2021.00202', 'CorpusId': 230103649}, 'corpusId': 230103649, 'publicationVenue': {'id': 'acd15a6d-3248-41fb-8439-9a40aabe5608', 'name': 'IEEE Workshop/Winter Conference on Applications of Computer Vision', 'type': 'conference', 'alternate_names': ['Workshop on Applications of Computer Vision', 'WACV', 'IEEE Work Conf Appl Comput Vis', 'Workshop Appl Comput Vis'], 'url': 'http://www.wikicfp.com/cfp/program?id=2993'}, 'url': 'https://www.semanticscholar.org/paper/41cbea36c8107d6ed4f3b89bd641e292d0096a24', 'title': 'Interpretable and Trustworthy Deepfake Detection via Dynamic Prototypes', 'abstract': 'In this paper we propose a novel human-centered approach for detecting forgery in face images, using dynamic prototypes as a form of visual explanations. Currently, most state-of-the-art deepfake detections are based on black-box models that process videos frame-by-frame for inference, and few closely examine their temporal inconsistencies. However, the existence of such temporal artifacts within deepfake videos is key in detecting and explaining deepfakes to a supervising human. To this end, we propose Dynamic Prototype Network (DPNet) – an interpretable and effective solution that utilizes dynamic representations (i.e., prototypes) to explain deepfake temporal artifacts. Extensive experimental results show that DPNet achieves competitive predictive performance, even on unseen testing datasets such as Google’s DeepFakeDetection, DeeperForensics, and Celeb-DF, while providing easy referential explanations of deepfake dynamics. On top of DPNet’s prototypical framework, we further formulate temporal logic specifications based on these dynamics to check our model’s compliance to desired temporal behaviors, hence providing trustworthiness for such critical detection systems.', 'venue': 'IEEE Workshop/Winter Conference on Applications of Computer Vision', 'year': 2021, 'referenceCount': 72, 'citationCount': 35, 'influentialCitationCount': 1, 'isOpenAccess': True, 'openAccessPdf': {'url': 'http://arxiv.org/pdf/2006.15473', 'status': None}, 'fieldsOfStudy': ['Computer Science'], 's2FieldsOfStudy': [{'category': 'Computer Science', 'source': 'external'}, {'category': 'Computer Science', 'source': 's2-fos-model'}], 'publicationTypes': ['JournalArticle', 'Conference'], 'publicationDate': '2021-01-01', 'journal': {'pages': '1972-1982', 'name': '2021 IEEE Winter Conference on Applications of Computer Vision (WACV)'}, 'citationStyles': {'bibtex': '@Article{Trinh2021InterpretableAT,\\n author = {Loc Trinh and Michael Tsang and Sirisha Rambhatla and Yan Liu},\\n booktitle = {IEEE Workshop/Winter Conference on Applications of Computer Vision},\\n journal = {2021 IEEE Winter Conference on Applications of Computer Vision (WACV)},\\n pages = {1972-1982},\\n title = {Interpretable and Trustworthy Deepfake Detection via Dynamic Prototypes},\\n year = {2021}\\n}\\n'}, 'authors': [{'authorId': '1578435347', 'name': 'Loc Trinh'}, {'authorId': '1879592819', 'name': 'Michael Tsang'}, {'authorId': '2267664', 'name': 'Sirisha Rambhatla'}, {'authorId': '47909587', 'name': 'Yan Liu'}]}, {'paperId': '9489cac7ebc853d230195936682bf681bc1eab76', 'externalIds': {'MAG': '3094171276', 'DBLP': 'journals/tip/LeiPZKL21', 'ArXiv': '2010.09925', 'DOI': '10.1109/TIP.2020.3031173', 'CorpusId': 224803063, 'PubMed': '33125327'}, 'corpusId': 224803063, 'publicationVenue': {'id': 'e117fa7f-05b7-4dd6-b64b-0a0a7c0393d8', 'name': 'IEEE Transactions on Image Processing', 'type': 'journal', 'alternate_names': ['IEEE Trans Image Process'], 'issn': '1057-7149', 'url': 'http://ieeexplore.ieee.org/servlet/opac?punumber=83', 'alternate_urls': ['https://ieeexplore.ieee.org/xpl/RecentIssue.jsp?punumber=83']}, 'url': 'https://www.semanticscholar.org/paper/9489cac7ebc853d230195936682bf681bc1eab76', 'title': 'Hierarchical Paired Channel Fusion Network for Street Scene Change Detection', 'abstract': 'Street Scene Change Detection (SSCD) aims to locate the changed regions between a given street-view image pair captured at different times, which is an important yet challenging task in the computer vision community. The intuitive way to solve the SSCD task is to fuse the extracted image feature pairs, and then directly measure the dissimilarity parts for producing a change map. Therefore, the key for the SSCD task is to design an effective feature fusion method that can improve the accuracy of the corresponding change maps. To this end, we present a novel Hierarchical Paired Channel Fusion Network (HPCFNet), which utilizes the adaptive fusion of paired feature channels. Specifically, the features of a given image pair are jointly extracted by a Siamese Convolutional Neural Network (SCNN) and hierarchically combined by exploring the fusion of channel pairs at multiple feature levels. In addition, based on the observation that the distribution of scene changes is diverse, we further propose a Multi-Part Feature Learning (MPFL) strategy to detect diverse changes. Based on the MPFL strategy, our framework achieves a novel approach to adapt to the scale and location diversities of the scene change regions. Extensive experiments on three public datasets (i.e., PCD, VL-CMU-CD and CDnet2014) demonstrate that the proposed framework achieves superior performance which outperforms other state-of-the-art methods with a considerable margin.', 'venue': 'IEEE Transactions on Image Processing', 'year': 2020, 'referenceCount': 67, 'citationCount': 33, 'influentialCitationCount': 3, 'isOpenAccess': True, 'openAccessPdf': {'url': 'http://arxiv.org/pdf/2010.09925', 'status': None}, 'fieldsOfStudy': ['Medicine', 'Computer Science'], 's2FieldsOfStudy': [{'category': 'Medicine', 'source': 'external'}, {'category': 'Computer Science', 'source': 'external'}, {'category': 'Computer Science', 'source': 's2-fos-model'}], 'publicationTypes': ['JournalArticle'], 'publicationDate': '2020-10-19', 'journal': {'volume': '30', 'pages': '55-67', 'name': 'IEEE Transactions on Image Processing'}, 'citationStyles': {'bibtex': '@Article{Lei2020HierarchicalPC,\\n author = {Yinjie Lei and Duo Peng and Pingping Zhang and Qiuhong Ke and Haifeng Li},\\n booktitle = {IEEE Transactions on Image Processing},\\n journal = {IEEE Transactions on Image Processing},\\n pages = {55-67},\\n title = {Hierarchical Paired Channel Fusion Network for Street Scene Change Detection},\\n volume = {30},\\n year = {2020}\\n}\\n'}, 'authors': [{'authorId': '46359335', 'name': 'Yinjie Lei'}, {'authorId': '2067913944', 'name': 'Duo Peng'}, {'authorId': '48754192', 'name': 'Pingping Zhang'}, {'authorId': '143969578', 'name': 'Qiuhong Ke'}, {'authorId': '2108564685', 'name': 'Haifeng Li'}]}, {'paperId': 'f4e61d31666087d850a9f45f187254366d0a6419', 'externalIds': {'MAG': '3036453075', 'DOI': '10.1016/j.isprsjprs.2020.06.003', 'CorpusId': 225504855}, 'corpusId': 225504855, 'publicationVenue': None, 'url': 'https://www.semanticscholar.org/paper/f4e61d31666087d850a9f45f187254366d0a6419', 'title': 'A deeply supervised image fusion network for change detection in high resolution bi-temporal remote sensing images', 'abstract': None, 'venue': '', 'year': 2020, 'referenceCount': 34, 'citationCount': 261, 'influentialCitationCount': 73, 'isOpenAccess': False, 'openAccessPdf': None, 'fieldsOfStudy': ['Computer Science'], 's2FieldsOfStudy': [{'category': 'Computer Science', 'source': 'external'}, {'category': 'Environmental Science', 'source': 's2-fos-model'}, {'category': 'Computer Science', 'source': 's2-fos-model'}], 'publicationTypes': None, 'publicationDate': '2020-08-01', 'journal': {'volume': '166', 'pages': '183-200', 'name': 'Isprs Journal of Photogrammetry and Remote Sensing'}, 'citationStyles': {'bibtex': '@Article{Zhang2020ADS,\\n author = {Chenxiao Zhang and P. Yue and D. Tapete and Liangcun Jiang and Boyi Shangguan and Li Huang and Guangchao Liu},\\n journal = {Isprs Journal of Photogrammetry and Remote Sensing},\\n pages = {183-200},\\n title = {A deeply supervised image fusion network for change detection in high resolution bi-temporal remote sensing images},\\n volume = {166},\\n year = {2020}\\n}\\n'}, 'authors': [{'authorId': '3037945', 'name': 'Chenxiao Zhang'}, {'authorId': '49202884', 'name': 'P. Yue'}, {'authorId': '2085598', 'name': 'D. Tapete'}, {'authorId': '2978339', 'name': 'Liangcun Jiang'}, {'authorId': '31352449', 'name': 'Boyi Shangguan'}, {'authorId': '2143701455', 'name': 'Li Huang'}, {'authorId': '2152757673', 'name': 'Guangchao Liu'}]}, {'paperId': '73b551f5fbaef0403935101b920e0a07880b4927', 'externalIds': {'MAG': '3033983932', 'DOI': '10.1016/j.isprsjprs.2020.04.019', 'CorpusId': 219932360}, 'corpusId': 219932360, 'publicationVenue': None, 'url': 'https://www.semanticscholar.org/paper/73b551f5fbaef0403935101b920e0a07880b4927', 'title': 'HyNet: Hyper-scale object detection network framework for multiple spatial resolution remote sensing imagery', 'abstract': None, 'venue': '', 'year': 2020, 'referenceCount': 44, 'citationCount': 42, 'influentialCitationCount': 0, 'isOpenAccess': False, 'openAccessPdf': None, 'fieldsOfStudy': ['Computer Science'], 's2FieldsOfStudy': [{'category': 'Computer Science', 'source': 'external'}, {'category': 'Environmental Science', 'source': 's2-fos-model'}], 'publicationTypes': None, 'publicationDate': '2020-08-01', 'journal': {'volume': '166', 'pages': '1-14', 'name': 'Isprs Journal of Photogrammetry and Remote Sensing'}, 'citationStyles': {'bibtex': '@Article{Zheng2020HyNetHO,\\n author = {Zhuo Zheng and Y. Zhong and A. Ma and Xiaobing Han and Ji Zhao and Yanfei Liu and Liangpei Zhang},\\n journal = {Isprs Journal of Photogrammetry and Remote Sensing},\\n pages = {1-14},\\n title = {HyNet: Hyper-scale object detection network framework for multiple spatial resolution remote sensing imagery},\\n volume = {166},\\n year = {2020}\\n}\\n'}, 'authors': [{'authorId': '120964457', 'name': 'Zhuo Zheng'}, {'authorId': '2798207', 'name': 'Y. Zhong'}, {'authorId': '38410614', 'name': 'A. Ma'}, {'authorId': '2408306', 'name': 'Xiaobing Han'}, {'authorId': '46509279', 'name': 'Ji Zhao'}, {'authorId': '2108356779', 'name': 'Yanfei Liu'}, {'authorId': None, 'name': 'Liangpei Zhang'}]}, {'paperId': 'fb65b94fbfd522e3a4c9c26c62610b43fc389e44', 'externalIds': {'MAG': '3099665946', 'DBLP': 'conf/wacv/ShenZSS21', 'DOI': '10.1109/WACV48630.2021.00075', 'CorpusId': 226278009}, 'corpusId': 226278009, 'publicationVenue': {'id': 'acd15a6d-3248-41fb-8439-9a40aabe5608', 'name': 'IEEE Workshop/Winter Conference on Applications of Computer Vision', 'type': 'conference', 'alternate_names': ['Workshop on Applications of Computer Vision', 'WACV', 'IEEE Work Conf Appl Comput Vis', 'Workshop Appl Comput Vis'], 'url': 'http://www.wikicfp.com/cfp/program?id=2993'}, 'url': 'https://www.semanticscholar.org/paper/fb65b94fbfd522e3a4c9c26c62610b43fc389e44', 'title': 'Real-Time Uncertainty Estimation in Computer Vision via Uncertainty-Aware Distribution Distillation', 'abstract': 'Calibrated estimates of uncertainty are critical for many real-world computer vision applications of deep learning. While there are several widely-used uncertainty estimation methods, dropout inference [11] stands out for its simplicity and efficacy. This technique, however, requires multiple forward passes through the network during inference and therefore can be too resource-intensive to be deployed in real-time applications. We propose a simple, easy-to-optimize distillation method for learning the conditional predictive distribution of a pre-trained dropout model for fast, sample-free uncertainty estimation in computer vision tasks. We empirically test the effectiveness of the proposed method on both semantic segmentation and depth estimation tasks, and demonstrate our method can significantly reduce the inference time, enabling real-time uncertainty quantification, while achieving improved quality of both the uncertainty estimates and predictive performance over the regular dropout model.', 'venue': 'IEEE Workshop/Winter Conference on Applications of Computer Vision', 'year': 2020, 'referenceCount': 41, 'citationCount': 22, 'influentialCitationCount': 1, 'isOpenAccess': True, 'openAccessPdf': {'url': 'http://arxiv.org/pdf/2007.15857', 'status': None}, 'fieldsOfStudy': ['Computer Science'], 's2FieldsOfStudy': [{'category': 'Computer Science', 'source': 'external'}, {'category': 'Computer Science', 'source': 's2-fos-model'}], 'publicationTypes': ['JournalArticle', 'Conference'], 'publicationDate': '2020-07-31', 'journal': {'pages': '707-716', 'name': '2021 IEEE Winter Conference on Applications of Computer Vision (WACV)'}, 'citationStyles': {'bibtex': '@Article{Shen2020RealTimeUE,\\n author = {Yichen Shen and Zhilu Zhang and M. Sabuncu and Lin Sun},\\n booktitle = {IEEE Workshop/Winter Conference on Applications of Computer Vision},\\n journal = {2021 IEEE Winter Conference on Applications of Computer Vision (WACV)},\\n pages = {707-716},\\n title = {Real-Time Uncertainty Estimation in Computer Vision via Uncertainty-Aware Distribution Distillation},\\n year = {2020}\\n}\\n'}, 'authors': [{'authorId': '2115383854', 'name': 'Yichen Shen'}, {'authorId': '1491240545', 'name': 'Zhilu Zhang'}, {'authorId': '2369409', 'name': 'M. Sabuncu'}, {'authorId': '2145127186', 'name': 'Lin Sun'}]}, {'paperId': '5df2fe1f7df9398b245a26bbeea4fb47a7aa4c7b', 'externalIds': {'MAG': '3081263239', 'DBLP': 'conf/icml/KongSZ20', 'ArXiv': '2008.10546', 'CorpusId': 221082095}, 'corpusId': 221082095, 'publicationVenue': {'id': 'fc0a208c-acb7-47dc-a0d4-af8190e21d29', 'name': 'International Conference on Machine Learning', 'type': 'conference', 'alternate_names': ['ICML', 'Int Conf Mach Learn'], 'url': 'https://icml.cc/'}, 'url': 'https://www.semanticscholar.org/paper/5df2fe1f7df9398b245a26bbeea4fb47a7aa4c7b', 'title': 'SDE-Net: Equipping Deep Neural Networks with Uncertainty Estimates', 'abstract': 'Uncertainty quantification is a fundamental yet unsolved problem for deep learning. The Bayesian framework provides a principled way of uncertainty estimation but is often not scalable to modern deep neural nets (DNNs) that have a large number of parameters. Non-Bayesian methods are simple to implement but often conflate different sources of uncertainties and require huge computing resources. We propose a new method for quantifying uncertainties of DNNs from a dynamical system perspective. The core of our method is to view DNN transformations as state evolution of a stochastic dynamical system and introduce a Brownian motion term for capturing epistemic uncertainty. Based on this perspective, we propose a neural stochastic differential equation model (SDE-Net) which consists of (1) a drift net that controls the system to fit the predictive function; and (2) a diffusion net that captures epistemic uncertainty. We theoretically analyze the existence and uniqueness of the solution to SDE-Net. Our experiments demonstrate that the SDE-Net model can outperform existing uncertainty estimation methods across a series of tasks where uncertainty plays a fundamental role.', 'venue': 'International Conference on Machine Learning', 'year': 2020, 'referenceCount': 51, 'citationCount': 62, 'influentialCitationCount': 10, 'isOpenAccess': False, 'openAccessPdf': None, 'fieldsOfStudy': ['Computer Science', 'Mathematics'], 's2FieldsOfStudy': [{'category': 'Computer Science', 'source': 'external'}, {'category': 'Mathematics', 'source': 'external'}, {'category': 'Computer Science', 'source': 's2-fos-model'}], 'publicationTypes': ['JournalArticle', 'Conference'], 'publicationDate': '2020-07-12', 'journal': {'volume': 'abs/2008.10546', 'name': 'ArXiv'}, 'citationStyles': {'bibtex': '@Article{Kong2020SDENetED,\\n author = {Lingkai Kong and Jimeng Sun and Chao Zhang},\\n booktitle = {International Conference on Machine Learning},\\n journal = {ArXiv},\\n title = {SDE-Net: Equipping Deep Neural Networks with Uncertainty Estimates},\\n volume = {abs/2008.10546},\\n year = {2020}\\n}\\n'}, 'authors': [{'authorId': '2865034', 'name': 'Lingkai Kong'}, {'authorId': '1738536', 'name': 'Jimeng Sun'}, {'authorId': None, 'name': 'Chao Zhang'}]}, {'paperId': '2f03c35bc565a9b5e9a7c916b813d8bdf681c099', 'externalIds': {'ArXiv': '2006.02176', 'MAG': '3110074314', 'DBLP': 'journals/tip/RuDW21', 'DOI': '10.1109/TIP.2020.3039328', 'CorpusId': 219260973, 'PubMed': '33237858'}, 'corpusId': 219260973, 'publicationVenue': {'id': 'e117fa7f-05b7-4dd6-b64b-0a0a7c0393d8', 'name': 'IEEE Transactions on Image Processing', 'type': 'journal', 'alternate_names': ['IEEE Trans Image Process'], 'issn': '1057-7149', 'url': 'http://ieeexplore.ieee.org/servlet/opac?punumber=83', 'alternate_urls': ['https://ieeexplore.ieee.org/xpl/RecentIssue.jsp?punumber=83']}, 'url': 'https://www.semanticscholar.org/paper/2f03c35bc565a9b5e9a7c916b813d8bdf681c099', 'title': 'Multi-Temporal Scene Classification and Scene Change Detection With Correlation Based Fusion', 'abstract': 'Classifying multi-temporal scene land-use categories and detecting their semantic scene-level changes for remote sensing imagery covering urban regions could straightly reflect the land-use transitions. Existing methods for scene change detection rarely focus on the temporal correlation of bi-temporal features, and are mainly evaluated on small scale scene change detection datasets. In this work, we proposed a CorrFusion module that fuses the highly correlated components in bi-temporal feature embeddings. We first extract the deep representations of the bi-temporal inputs with deep convolutional networks. Then the extracted features will be projected into a lower-dimensional space to extract the most correlated components and compute the instance-level correlation. The cross-temporal fusion will be performed based on the computed correlation in CorrFusion module. The final scene classification results are obtained with softmax layers. In the objective function, we introduced a new formulation to calculate the temporal correlation more efficiently and stably. The detailed derivation of backpropagation gradients for the proposed module is also given. Besides, we presented a much larger scale scene change detection dataset with more semantic categories and conducted extensive experiments on this dataset. The experimental results demonstrated that our proposed CorrFusion module could remarkably improve the multi-temporal scene classification and scene change detection results.', 'venue': 'IEEE Transactions on Image Processing', 'year': 2020, 'referenceCount': 52, 'citationCount': 28, 'influentialCitationCount': 0, 'isOpenAccess': True, 'openAccessPdf': {'url': 'http://arxiv.org/pdf/2006.02176', 'status': None}, 'fieldsOfStudy': ['Computer Science', 'Medicine'], 's2FieldsOfStudy': [{'category': 'Computer Science', 'source': 'external'}, {'category': 'Medicine', 'source': 'external'}, {'category': 'Environmental Science', 'source': 's2-fos-model'}, {'category': 'Computer Science', 'source': 's2-fos-model'}, {'category': 'Mathematics', 'source': 's2-fos-model'}], 'publicationTypes': ['JournalArticle'], 'publicationDate': '2020-06-03', 'journal': {'volume': '30', 'pages': '1382-1394', 'name': 'IEEE Transactions on Image Processing'}, 'citationStyles': {'bibtex': '@Article{Ru2020MultiTemporalSC,\\n author = {Lixiang Ru and Bo Du and Chen Wu},\\n booktitle = {IEEE Transactions on Image Processing},\\n journal = {IEEE Transactions on Image Processing},\\n pages = {1382-1394},\\n title = {Multi-Temporal Scene Classification and Scene Change Detection With Correlation Based Fusion},\\n volume = {30},\\n year = {2020}\\n}\\n'}, 'authors': [{'authorId': '52133336', 'name': 'Lixiang Ru'}, {'authorId': '145728792', 'name': 'Bo Du'}, {'authorId': '143622134', 'name': 'Chen Wu'}]}, {'paperId': 'b569ea0c49ee43437949702edc46eab341ab2eeb', 'externalIds': {'DBLP': 'journals/corr/abs-2011-09766', 'MAG': '3034427230', 'ArXiv': '2011.09766', 'DOI': '10.1109/CVPR42600.2020.00415', 'CorpusId': 219963167}, 'corpusId': 219963167, 'publicationVenue': {'id': '768b87bb-8a18-4d9c-a161-4d483c776bcf', 'name': 'Computer Vision and Pattern Recognition', 'type': 'conference', 'alternate_names': ['CVPR', 'Comput Vis Pattern Recognit'], 'issn': '1063-6919', 'url': 'https://ieeexplore.ieee.org/xpl/conhome.jsp?punumber=1000147', 'alternate_urls': ['https://en.wikipedia.org/wiki/Conference_on_Computer_Vision_and_Pattern_Recognition']}, 'url': 'https://www.semanticscholar.org/paper/b569ea0c49ee43437949702edc46eab341ab2eeb', 'title': 'Foreground-Aware Relation Network for Geospatial Object Segmentation in High Spatial Resolution Remote Sensing Imagery', 'abstract': 'Geospatial object segmentation, as a particular semantic segmentation task, always faces with larger-scale variation, larger intra-class variance of background, and foreground-background imbalance in the high spatial resolution (HSR) remote sensing imagery. However, general semantic segmentation methods mainly focus on scale variation in the natural scene, with inadequate consideration of the other two problems that usually happen in the large area earth observation scene. In this paper, we argue that the problems lie on the lack of foreground modeling and propose a foreground-aware relation network (FarSeg) from the perspectives of relation-based and optimization-based foreground modeling, to alleviate the above two problems. From perspective of relation, FarSeg enhances the discrimination of foreground features via foreground-correlated contexts associated by learning foreground-scene relation. Meanwhile, from perspective of optimization, a foreground-aware optimization is proposed to focus on foreground examples and hard examples of background during training for a balanced optimization. The experimental results obtained using a large scale dataset suggest that the proposed method is superior to the state-of-the-art general semantic segmentation methods and achieves a better trade-off between speed and accuracy.', 'venue': 'Computer Vision and Pattern Recognition', 'year': 2020, 'referenceCount': 50, 'citationCount': 95, 'influentialCitationCount': 17, 'isOpenAccess': True, 'openAccessPdf': {'url': 'http://arxiv.org/pdf/2011.09766', 'status': None}, 'fieldsOfStudy': ['Computer Science', 'Engineering'], 's2FieldsOfStudy': [{'category': 'Computer Science', 'source': 'external'}, {'category': 'Engineering', 'source': 'external'}, {'category': 'Environmental Science', 'source': 's2-fos-model'}], 'publicationTypes': ['JournalArticle', 'Conference'], 'publicationDate': '2020-06-01', 'journal': {'pages': '4095-4104', 'name': '2020 IEEE/CVF Conference on Computer Vision and Pattern Recognition (CVPR)'}, 'citationStyles': {'bibtex': '@Article{Zheng2020ForegroundAwareRN,\\n author = {Zhuo Zheng and Y. Zhong and Junjue Wang and A. Ma},\\n booktitle = {Computer Vision and Pattern Recognition},\\n journal = {2020 IEEE/CVF Conference on Computer Vision and Pattern Recognition (CVPR)},\\n pages = {4095-4104},\\n title = {Foreground-Aware Relation Network for Geospatial Object Segmentation in High Spatial Resolution Remote Sensing Imagery},\\n year = {2020}\\n}\\n'}, 'authors': [{'authorId': '120964457', 'name': 'Zhuo Zheng'}, {'authorId': '2798207', 'name': 'Y. Zhong'}, {'authorId': '3196473', 'name': 'Junjue Wang'}, {'authorId': '38410614', 'name': 'A. Ma'}]}, {'paperId': '2778c4820d364ab8d0e28166de7a0045b1e8dc2f', 'externalIds': {'DBLP': 'journals/remotesensing/ChenS20', 'MAG': '3027225766', 'DOI': '10.3390/rs12101662', 'CorpusId': 219512939}, 'corpusId': 219512939, 'publicationVenue': {'id': '8e1bd4b5-d5b2-4e22-ba0a-01fe5568d472', 'name': 'Remote Sensing', 'type': 'journal', 'alternate_names': ['Remote Sens'], 'issn': '2315-4675', 'alternate_issns': ['2072-4292'], 'url': 'http://www.e-helvetica.nb.admin.ch/directAccess?callnumber=bel-169233', 'alternate_urls': ['https://www.mdpi.com/journal/remotesensing', 'http://www.mdpi.com/journal/remotesensing', 'http://nbn-resolving.de/urn/resolver.pl?urn=urn:nbn:ch:bel-169233']}, 'url': 'https://www.semanticscholar.org/paper/2778c4820d364ab8d0e28166de7a0045b1e8dc2f', 'title': 'A Spatial-Temporal Attention-Based Method and a New Dataset for Remote Sensing Image Change Detection', 'abstract': 'Remote sensing image change detection (CD) is done to identify desired significant changes between bitemporal images. Given two co-registered images taken at different times, the illumination variations and misregistration errors overwhelm the real object changes. Exploring the relationships among different spatial–temporal pixels may improve the performances of CD methods. In our work, we propose a novel Siamese-based spatial–temporal attention neural network. In contrast to previous methods that separately encode the bitemporal images without referring to any useful spatial–temporal dependency, we design a CD self-attention mechanism to model the spatial–temporal relationships. We integrate a new CD self-attention module in the procedure of feature extraction. Our self-attention module calculates the attention weights between any two pixels at different times and positions and uses them to generate more discriminative features. Considering that the object may have different scales, we partition the image into multi-scale subregions and introduce the self-attention in each subregion. In this way, we could capture spatial–temporal dependencies at various scales, thereby generating better representations to accommodate objects of various sizes. We also introduce a CD dataset LEVIR-CD, which is two orders of magnitude larger than other public datasets of this field. LEVIR-CD consists of a large set of bitemporal Google Earth images, with 637 image pairs (1024 × 1024) and over 31 k independently labeled change instances. Our proposed attention module improves the F1-score of our baseline model from 83.9 to 87.3 with acceptable computational overhead. Experimental results on a public remote sensing image CD dataset show our method outperforms several other state-of-the-art methods.', 'venue': 'Remote Sensing', 'year': 2020, 'referenceCount': 74, 'citationCount': 367, 'influentialCitationCount': 109, 'isOpenAccess': True, 'openAccessPdf': {'url': 'https://www.mdpi.com/2072-4292/12/10/1662/pdf', 'status': None}, 'fieldsOfStudy': ['Computer Science'], 's2FieldsOfStudy': [{'category': 'Computer Science', 'source': 'external'}, {'category': 'Environmental Science', 'source': 's2-fos-model'}], 'publicationTypes': ['JournalArticle'], 'publicationDate': '2020-05-22', 'journal': {'volume': '12', 'pages': '1662', 'name': 'Remote. Sens.'}, 'citationStyles': {'bibtex': '@Article{Chen2020ASA,\\n author = {Hao Chen and Zhenwei Shi},\\n booktitle = {Remote Sensing},\\n journal = {Remote. Sens.},\\n pages = {1662},\\n title = {A Spatial-Temporal Attention-Based Method and a New Dataset for Remote Sensing Image Change Detection},\\n volume = {12},\\n year = {2020}\\n}\\n'}, 'authors': [{'authorId': None, 'name': 'Hao Chen'}, {'authorId': '1741174', 'name': 'Zhenwei Shi'}]}, {'paperId': '19c930fd5e3adb24f70f97eb2cb463d027ce6902', 'externalIds': {'DBLP': 'journals/tgrs/ZhaoMCBE20', 'MAG': '2997885125', 'DOI': '10.1109/TGRS.2019.2953879', 'CorpusId': 213355362}, 'corpusId': 213355362, 'publicationVenue': {'id': '70628d6a-97aa-4571-9701-bc0eb3989c32', 'name': 'IEEE Transactions on Geoscience and Remote Sensing', 'type': 'journal', 'alternate_names': ['IEEE Trans Geosci Remote Sens'], 'issn': '0196-2892', 'url': 'http://ieeexplore.ieee.org/servlet/opac?punumber=36', 'alternate_urls': ['https://ieeexplore.ieee.org/xpl/RecentIssue.jsp?punumber=36']}, 'url': 'https://www.semanticscholar.org/paper/19c930fd5e3adb24f70f97eb2cb463d027ce6902', 'title': 'Incorporating Metric Learning and Adversarial Network for Seasonal Invariant Change Detection', 'abstract': 'Change detection by comparing two bitemporal images is one of the most fundamental challenges for dynamic monitoring of the Earth surface. In this article, we propose a metric learning-based generative adversarial network (GAN) (MeGAN) to automatically explore seasonal invariant features for pseudochange suppressing and real change detection. To achieve this purpose, a seasonal invariant term is introduced to maximally suppress pseudochanges, whereas the MeGAN explores the transition patterns between adjacent images in a self-learning fashion. Different from the previous works on bitemporal imagery change detection, the proposed MeGAN have the following contributions: 1) it automatically explores change patterns from the complex bitemporal background without human intervention and 2) it aims to maximally exclude pseudochanges from the seasonal transition term and map out real changes efficiently. To our best knowledge, this is the first time we incorporate the seasonal transition term and GAN for change detection between bitemporal images. At last, to demonstrate the robustness of the proposed method, we included two data sets which are the Google Earth data and the Landsat data, for bitemporal change detection and evaluation. The experimental results indicated that the proposed method is able to perform change detection with precision can be as high as 81% and 88% for the Google Earth and Landsat data set, respectively.', 'venue': 'IEEE Transactions on Geoscience and Remote Sensing', 'year': 2020, 'referenceCount': 44, 'citationCount': 35, 'influentialCitationCount': 0, 'isOpenAccess': True, 'openAccessPdf': {'url': 'https://elib.dlr.de/141039/1/08937747.pdf', 'status': None}, 'fieldsOfStudy': ['Computer Science'], 's2FieldsOfStudy': [{'category': 'Computer Science', 'source': 'external'}, {'category': 'Environmental Science', 'source': 's2-fos-model'}], 'publicationTypes': ['JournalArticle'], 'publicationDate': '2020-04-01', 'journal': {'volume': '58', 'pages': '2720-2731', 'name': 'IEEE Transactions on Geoscience and Remote Sensing'}, 'citationStyles': {'bibtex': '@Article{Zhao2020IncorporatingML,\\n author = {Wenzhi Zhao and Lichao Mou and Jiage Chen and Yanchen Bo and W. Emery},\\n booktitle = {IEEE Transactions on Geoscience and Remote Sensing},\\n journal = {IEEE Transactions on Geoscience and Remote Sensing},\\n pages = {2720-2731},\\n title = {Incorporating Metric Learning and Adversarial Network for Seasonal Invariant Change Detection},\\n volume = {58},\\n year = {2020}\\n}\\n'}, 'authors': [{'authorId': '2118224940', 'name': 'Wenzhi Zhao'}, {'authorId': '35041003', 'name': 'Lichao Mou'}, {'authorId': '2108141179', 'name': 'Jiage Chen'}, {'authorId': '2665284', 'name': 'Yanchen Bo'}, {'authorId': '1773018', 'name': 'W. Emery'}]}, {'paperId': 'f7646cccbd6edbc148d08fea37e31bcd0592c992', 'externalIds': {'DBLP': 'journals/corr/abs-2003-13911', 'MAG': '3034202663', 'ArXiv': '2003.13911', 'DOI': '10.1109/cvpr42600.2020.00330', 'CorpusId': 214728050}, 'corpusId': 214728050, 'publicationVenue': {'id': '768b87bb-8a18-4d9c-a161-4d483c776bcf', 'name': 'Computer Vision and Pattern Recognition', 'type': 'conference', 'alternate_names': ['CVPR', 'Comput Vis Pattern Recognit'], 'issn': '1063-6919', 'url': 'https://ieeexplore.ieee.org/xpl/conhome.jsp?punumber=1000147', 'alternate_urls': ['https://en.wikipedia.org/wiki/Conference_on_Computer_Vision_and_Pattern_Recognition']}, 'url': 'https://www.semanticscholar.org/paper/f7646cccbd6edbc148d08fea37e31bcd0592c992', 'title': 'Proxy Anchor Loss for Deep Metric Learning', 'abstract': 'Existing metric learning losses can be categorized into two classes: pair-based and proxy-based losses. The former class can leverage fine-grained semantic relations between data points, but slows convergence in general due to its high training complexity. In contrast, the latter class enables fast and reliable convergence, but cannot consider the rich data-to-data relations. This paper presents a new proxy-based loss that takes advantages of both pair- and proxy-based methods and overcomes their limitations. Thanks to the use of proxies, our loss boosts the speed of convergence and is robust against noisy labels and outliers. At the same time, it allows embedding vectors of data to interact with each other in its gradients to exploit data-to-data relations. Our method is evaluated on four public benchmarks, where a standard network trained with our loss achieves state-of-the-art performance and most quickly converges.', 'venue': 'Computer Vision and Pattern Recognition', 'year': 2020, 'referenceCount': 41, 'citationCount': 203, 'influentialCitationCount': 56, 'isOpenAccess': True, 'openAccessPdf': {'url': 'http://arxiv.org/pdf/2003.13911', 'status': None}, 'fieldsOfStudy': ['Computer Science'], 's2FieldsOfStudy': [{'category': 'Computer Science', 'source': 'external'}, {'category': 'Computer Science', 'source': 's2-fos-model'}], 'publicationTypes': ['JournalArticle', 'Conference'], 'publicationDate': '2020-03-31', 'journal': {'pages': '3235-3244', 'name': '2020 IEEE/CVF Conference on Computer Vision and Pattern Recognition (CVPR)'}, 'citationStyles': {'bibtex': '@Article{Kim2020ProxyAL,\\n author = {Sungyeon Kim and Dongwon Kim and Minsu Cho and Suha Kwak},\\n booktitle = {Computer Vision and Pattern Recognition},\\n journal = {2020 IEEE/CVF Conference on Computer Vision and Pattern Recognition (CVPR)},\\n pages = {3235-3244},\\n title = {Proxy Anchor Loss for Deep Metric Learning},\\n year = {2020}\\n}\\n'}, 'authors': [{'authorId': '2144247302', 'name': 'Sungyeon Kim'}, {'authorId': '2111896340', 'name': 'Dongwon Kim'}, {'authorId': '72643925', 'name': 'Minsu Cho'}, {'authorId': '2483916', 'name': 'Suha Kwak'}]}, {'paperId': 'd8cd7382c7b5f6ab8c36a03ed37d39fc15e04848', 'externalIds': {'MAG': '3014864466', 'DBLP': 'journals/corr/abs-2003-14407', 'ArXiv': '2003.14407', 'DOI': '10.1109/CVPR42600.2020.01166', 'CorpusId': 214728017}, 'corpusId': 214728017, 'publicationVenue': {'id': '768b87bb-8a18-4d9c-a161-4d483c776bcf', 'name': 'Computer Vision and Pattern Recognition', 'type': 'conference', 'alternate_names': ['CVPR', 'Comput Vis Pattern Recognit'], 'issn': '1063-6919', 'url': 'https://ieeexplore.ieee.org/xpl/conhome.jsp?punumber=1000147', 'alternate_urls': ['https://en.wikipedia.org/wiki/Conference_on_Computer_Vision_and_Pattern_Recognition']}, 'url': 'https://www.semanticscholar.org/paper/d8cd7382c7b5f6ab8c36a03ed37d39fc15e04848', 'title': 'Probabilistic Pixel-Adaptive Refinement Networks', 'abstract': \"Encoder-decoder networks have found widespread use in various dense prediction tasks. However, the strong reduction of spatial resolution in the encoder leads to a loss of location information as well as boundary artifacts. To address this, image-adaptive post-processing methods have shown beneficial by leveraging the high-resolution input image(s) as guidance data. We extend such approaches by considering an important orthogonal source of information: the network's confidence in its own predictions. We introduce probabilistic pixel-adaptive convolutions (PPACs), which not only depend on image guidance data for filtering, but also respect the reliability of per-pixel predictions. As such, PPACs allow for image-adaptive smoothing and simultaneously propagating pixels of high confidence into less reliable regions, while respecting object boundaries. We demonstrate their utility in refinement networks for optical flow and semantic segmentation, where PPACs lead to a clear reduction in boundary artifacts. Moreover, our proposed refinement step is able to substantially improve the accuracy on various widely used benchmarks.\", 'venue': 'Computer Vision and Pattern Recognition', 'year': 2020, 'referenceCount': 68, 'citationCount': 10, 'influentialCitationCount': 2, 'isOpenAccess': True, 'openAccessPdf': {'url': 'http://arxiv.org/pdf/2003.14407', 'status': None}, 'fieldsOfStudy': ['Computer Science'], 's2FieldsOfStudy': [{'category': 'Computer Science', 'source': 'external'}, {'category': 'Computer Science', 'source': 's2-fos-model'}], 'publicationTypes': ['JournalArticle', 'Conference'], 'publicationDate': '2020-03-31', 'journal': {'pages': '11639-11648', 'name': '2020 IEEE/CVF Conference on Computer Vision and Pattern Recognition (CVPR)'}, 'citationStyles': {'bibtex': '@Article{Wannenwetsch2020ProbabilisticPR,\\n author = {Anne S. Wannenwetsch and S. Roth},\\n booktitle = {Computer Vision and Pattern Recognition},\\n journal = {2020 IEEE/CVF Conference on Computer Vision and Pattern Recognition (CVPR)},\\n pages = {11639-11648},\\n title = {Probabilistic Pixel-Adaptive Refinement Networks},\\n year = {2020}\\n}\\n'}, 'authors': [{'authorId': '40812583', 'name': 'Anne S. Wannenwetsch'}, {'authorId': '145920814', 'name': 'S. Roth'}]}, {'paperId': '243e4b8f209953b62d78b6e381238f6c9ac8bb32', 'externalIds': {'MAG': '3000451586', 'DBLP': 'journals/remotesensing/WangTJWC20', 'DOI': '10.3390/rs12020205', 'CorpusId': 211051162}, 'corpusId': 211051162, 'publicationVenue': {'id': '8e1bd4b5-d5b2-4e22-ba0a-01fe5568d472', 'name': 'Remote Sensing', 'type': 'journal', 'alternate_names': ['Remote Sens'], 'issn': '2315-4675', 'alternate_issns': ['2072-4292'], 'url': 'http://www.e-helvetica.nb.admin.ch/directAccess?callnumber=bel-169233', 'alternate_urls': ['https://www.mdpi.com/journal/remotesensing', 'http://www.mdpi.com/journal/remotesensing', 'http://nbn-resolving.de/urn/resolver.pl?urn=urn:nbn:ch:bel-169233']}, 'url': 'https://www.semanticscholar.org/paper/243e4b8f209953b62d78b6e381238f6c9ac8bb32', 'title': 'A Deep Siamese Network with Hybrid Convolutional Feature Extraction Module for Change Detection Based on Multi-sensor Remote Sensing Images', 'abstract': 'Information extraction from multi-sensor remote sensing images has increasingly attracted attention with the development of remote sensing sensors. In this study, a supervised change detection method, based on the deep Siamese convolutional network with hybrid convolutional feature extraction module (OB-DSCNH), has been proposed using multi-sensor images. The proposed architecture, which is based on dilated convolution, can extract the deep change features effectively, and the character of “network in network” increases the depth and width of the network while keeping the computational budget constant. The change decision model is utilized to detect changes through the difference of extracted features. Finally, a change detection map is obtained via an uncertainty analysis, which combines the multi-resolution segmentation, with the output from the Siamese network. To validate the effectiveness of the proposed approach, we conducted experiments on multispectral images collected by the ZY-3 and GF-2 satellites. Experimental results demonstrate that our proposed method achieves comparable and better performance than mainstream methods in multi-sensor images change detection.', 'venue': 'Remote Sensing', 'year': 2020, 'referenceCount': 50, 'citationCount': 60, 'influentialCitationCount': 0, 'isOpenAccess': True, 'openAccessPdf': {'url': 'https://www.mdpi.com/2072-4292/12/2/205/pdf?version=1578398633', 'status': None}, 'fieldsOfStudy': ['Computer Science'], 's2FieldsOfStudy': [{'category': 'Computer Science', 'source': 'external'}, {'category': 'Mathematics', 'source': 's2-fos-model'}, {'category': 'Environmental Science', 'source': 's2-fos-model'}], 'publicationTypes': ['JournalArticle'], 'publicationDate': '2020-01-07', 'journal': {'volume': '12', 'pages': '205', 'name': 'Remote. Sens.'}, 'citationStyles': {'bibtex': '@Article{Wang2020ADS,\\n author = {Moyang Wang and Kun Tan and X. Jia and Xue Wang and Yu Chen},\\n booktitle = {Remote Sensing},\\n journal = {Remote. Sens.},\\n pages = {205},\\n title = {A Deep Siamese Network with Hybrid Convolutional Feature Extraction Module for Change Detection Based on Multi-sensor Remote Sensing Images},\\n volume = {12},\\n year = {2020}\\n}\\n'}, 'authors': [{'authorId': '3449863', 'name': 'Moyang Wang'}, {'authorId': '2013432115', 'name': 'Kun Tan'}, {'authorId': '144787387', 'name': 'X. Jia'}, {'authorId': '2108225278', 'name': 'Xue Wang'}, {'authorId': '2144838490', 'name': 'Yu Chen'}]}, {'paperId': '3c8a456509e6c0805354bd40a35e3f2dbf8069b1', 'externalIds': {'DBLP': 'journals/corr/abs-1912-01703', 'MAG': '2970971581', 'ArXiv': '1912.01703', 'CorpusId': 202786778}, 'corpusId': 202786778, 'publicationVenue': {'id': 'd9720b90-d60b-48bc-9df8-87a30b9a60dd', 'name': 'Neural Information Processing Systems', 'type': 'conference', 'alternate_names': ['Neural Inf Process Syst', 'NeurIPS'], 'url': 'http://neurips.cc/'}, 'url': 'https://www.semanticscholar.org/paper/3c8a456509e6c0805354bd40a35e3f2dbf8069b1', 'title': 'PyTorch: An Imperative Style, High-Performance Deep Learning Library', 'abstract': 'Deep learning frameworks have often focused on either usability or speed, but not both. PyTorch is a machine learning library that shows that these two goals are in fact compatible: it was designed from first principles to support an imperative and Pythonic programming style that supports code as a model, makes debugging easy and is consistent with other popular scientific computing libraries, while remaining efficient and supporting hardware accelerators such as GPUs. In this paper, we detail the principles that drove the implementation of PyTorch and how they are reflected in its architecture. We emphasize that every aspect of PyTorch is a regular Python program under the full control of its user. We also explain how the careful and pragmatic implementation of the key components of its runtime enables them to work together to achieve compelling performance. We demonstrate the efficiency of individual subsystems, as well as the overall speed of PyTorch on several commonly used benchmarks.', 'venue': 'Neural Information Processing Systems', 'year': 2019, 'referenceCount': 34, 'citationCount': 23410, 'influentialCitationCount': 2542, 'isOpenAccess': False, 'openAccessPdf': None, 'fieldsOfStudy': ['Computer Science', 'Mathematics'], 's2FieldsOfStudy': [{'category': 'Computer Science', 'source': 'external'}, {'category': 'Mathematics', 'source': 'external'}, {'category': 'Computer Science', 'source': 's2-fos-model'}], 'publicationTypes': ['JournalArticle'], 'publicationDate': '2019-12-03', 'journal': {'volume': 'abs/1912.01703', 'name': 'ArXiv'}, 'citationStyles': {'bibtex': '@Article{Paszke2019PyTorchAI,\\n author = {Adam Paszke and Sam Gross and Francisco Massa and Adam Lerer and James Bradbury and Gregory Chanan and Trevor Killeen and Zeming Lin and N. Gimelshein and L. Antiga and Alban Desmaison and Andreas Köpf and E. Yang and Zach DeVito and Martin Raison and A. Tejani and Sasank Chilamkurthy and Benoit Steiner and Lu Fang and Junjie Bai and Soumith Chintala},\\n booktitle = {Neural Information Processing Systems},\\n journal = {ArXiv},\\n title = {PyTorch: An Imperative Style, High-Performance Deep Learning Library},\\n volume = {abs/1912.01703},\\n year = {2019}\\n}\\n'}, 'authors': [{'authorId': '3407277', 'name': 'Adam Paszke'}, {'authorId': '39793298', 'name': 'Sam Gross'}, {'authorId': '1403239967', 'name': 'Francisco Massa'}, {'authorId': '1977806', 'name': 'Adam Lerer'}, {'authorId': '2065251344', 'name': 'James Bradbury'}, {'authorId': '114250963', 'name': 'Gregory Chanan'}, {'authorId': '2059271276', 'name': 'Trevor Killeen'}, {'authorId': '3370429', 'name': 'Zeming Lin'}, {'authorId': '3365851', 'name': 'N. Gimelshein'}, {'authorId': '3029482', 'name': 'L. Antiga'}, {'authorId': '3050846', 'name': 'Alban Desmaison'}, {'authorId': '1473151134', 'name': 'Andreas Köpf'}, {'authorId': '2052812305', 'name': 'E. Yang'}, {'authorId': '2375710', 'name': 'Zach DeVito'}, {'authorId': '10707709', 'name': 'Martin Raison'}, {'authorId': '41203992', 'name': 'A. Tejani'}, {'authorId': '22236100', 'name': 'Sasank Chilamkurthy'}, {'authorId': '32163737', 'name': 'Benoit Steiner'}, {'authorId': '152599430', 'name': 'Lu Fang'}, {'authorId': '2113829116', 'name': 'Junjie Bai'}, {'authorId': '2127604', 'name': 'Soumith Chintala'}]}, {'paperId': '86bbf0def8c464f3b287c1a42465323915f2b419', 'externalIds': {'ArXiv': '1911.13273', 'MAG': '3098712157', 'DBLP': 'journals/tmi/MehrtashWTAK20', 'DOI': '10.1109/TMI.2020.3006437', 'CorpusId': 208512953, 'PubMed': '32746129'}, 'corpusId': 208512953, 'publicationVenue': {'id': 'e0cda45d-3074-4ac0-80b8-e5250df00b89', 'name': 'IEEE Transactions on Medical Imaging', 'type': 'journal', 'alternate_names': ['IEEE Trans Med Imaging'], 'issn': '0278-0062', 'url': 'http://ieeexplore.ieee.org/servlet/opac?punumber=42', 'alternate_urls': ['https://ieeexplore.ieee.org/xpl/RecentIssue.jsp?punumber=42']}, 'url': 'https://www.semanticscholar.org/paper/86bbf0def8c464f3b287c1a42465323915f2b419', 'title': 'Confidence Calibration and Predictive Uncertainty Estimation for Deep Medical Image Segmentation', 'abstract': 'Fully convolutional neural networks (FCNs), and in particular U-Nets, have achieved state-of-the-art results in semantic segmentation for numerous medical imaging applications. Moreover, batch normalization and Dice loss have been used successfully to stabilize and accelerate training. However, these networks are poorly calibrated i.e. they tend to produce overconfident predictions for both correct and erroneous classifications, making them unreliable and hard to interpret. In this paper, we study predictive uncertainty estimation in FCNs for medical image segmentation. We make the following contributions: 1) We systematically compare cross-entropy loss with Dice loss in terms of segmentation quality and uncertainty estimation of FCNs; 2) We propose model ensembling for confidence calibration of the FCNs trained with batch normalization and Dice loss; 3) We assess the ability of calibrated FCNs to predict segmentation quality of structures and detect out-of-distribution test examples. We conduct extensive experiments across three medical image segmentation applications of the brain, the heart, and the prostate to evaluate our contributions. The results of this study offer considerable insight into the predictive uncertainty estimation and out-of-distribution detection in medical image segmentation and provide practical recipes for confidence calibration. Moreover, we consistently demonstrate that model ensembling improves confidence calibration.', 'venue': 'IEEE Transactions on Medical Imaging', 'year': 2019, 'referenceCount': 59, 'citationCount': 145, 'influentialCitationCount': 10, 'isOpenAccess': False, 'openAccessPdf': None, 'fieldsOfStudy': ['Computer Science', 'Medicine', 'Engineering'], 's2FieldsOfStudy': [{'category': 'Computer Science', 'source': 'external'}, {'category': 'Medicine', 'source': 'external'}, {'category': 'Engineering', 'source': 'external'}, {'category': 'Computer Science', 'source': 's2-fos-model'}], 'publicationTypes': ['JournalArticle'], 'publicationDate': '2019-11-29', 'journal': {'volume': '39', 'pages': '3868-3878', 'name': 'IEEE Transactions on Medical Imaging'}, 'citationStyles': {'bibtex': '@Article{Mehrtash2019ConfidenceCA,\\n author = {Alireza Mehrtash and W. Wells and C. Tempany and P. Abolmaesumi and T. Kapur},\\n booktitle = {IEEE Transactions on Medical Imaging},\\n journal = {IEEE Transactions on Medical Imaging},\\n pages = {3868-3878},\\n title = {Confidence Calibration and Predictive Uncertainty Estimation for Deep Medical Image Segmentation},\\n volume = {39},\\n year = {2019}\\n}\\n'}, 'authors': [{'authorId': '1975413', 'name': 'Alireza Mehrtash'}, {'authorId': '1785317', 'name': 'W. Wells'}, {'authorId': '32639130', 'name': 'C. Tempany'}, {'authorId': '2427371', 'name': 'P. Abolmaesumi'}, {'authorId': '2676616', 'name': 'T. Kapur'}]}, {'paperId': '5c1680927fdbe638976207bfbbfb006e5bcecfbc', 'externalIds': {'MAG': '2951991161', 'DBLP': 'journals/remotesensing/PengZG19', 'DOI': '10.3390/RS11111382', 'CorpusId': 195781252}, 'corpusId': 195781252, 'publicationVenue': {'id': '8e1bd4b5-d5b2-4e22-ba0a-01fe5568d472', 'name': 'Remote Sensing', 'type': 'journal', 'alternate_names': ['Remote Sens'], 'issn': '2315-4675', 'alternate_issns': ['2072-4292'], 'url': 'http://www.e-helvetica.nb.admin.ch/directAccess?callnumber=bel-169233', 'alternate_urls': ['https://www.mdpi.com/journal/remotesensing', 'http://www.mdpi.com/journal/remotesensing', 'http://nbn-resolving.de/urn/resolver.pl?urn=urn:nbn:ch:bel-169233']}, 'url': 'https://www.semanticscholar.org/paper/5c1680927fdbe638976207bfbbfb006e5bcecfbc', 'title': 'End-to-End Change Detection for High Resolution Satellite Images Using Improved UNet++', 'abstract': 'Change detection (CD) is essential to the accurate understanding of land surface changes using available Earth observation data. Due to the great advantages in deep feature representation and nonlinear problem modeling, deep learning is becoming increasingly popular to solve CD tasks in remote-sensing community. However, most existing deep learning-based CD methods are implemented by either generating difference images using deep features or learning change relations between pixel patches, which leads to error accumulation problems since many intermediate processing steps are needed to obtain final change maps. To address the above-mentioned issues, a novel end-to-end CD method is proposed based on an effective encoder-decoder architecture for semantic segmentation named UNet++, where change maps could be learned from scratch using available annotated datasets. Firstly, co-registered image pairs are concatenated as an input for the improved UNet++ network, where both global and fine-grained information can be utilized to generate feature maps with high spatial accuracy. Then, the fusion strategy of multiple side outputs is adopted to combine change maps from different semantic levels, thereby generating a final change map with high accuracy. The effectiveness and reliability of our proposed CD method are verified on very-high-resolution (VHR) satellite image datasets. Extensive experimental results have shown that our proposed approach outperforms the other state-of-the-art CD methods.', 'venue': 'Remote Sensing', 'year': 2019, 'referenceCount': 71, 'citationCount': 306, 'influentialCitationCount': 32, 'isOpenAccess': True, 'openAccessPdf': {'url': 'https://www.mdpi.com/2072-4292/11/11/1382/pdf?version=1560328029', 'status': None}, 'fieldsOfStudy': ['Geology', 'Computer Science'], 's2FieldsOfStudy': [{'category': 'Geology', 'source': 'external'}, {'category': 'Computer Science', 'source': 'external'}, {'category': 'Environmental Science', 'source': 's2-fos-model'}, {'category': 'Computer Science', 'source': 's2-fos-model'}], 'publicationTypes': ['JournalArticle'], 'publicationDate': '2019-06-10', 'journal': {'volume': '11', 'pages': '1382', 'name': 'Remote. Sens.'}, 'citationStyles': {'bibtex': '@Article{Peng2019EndtoEndCD,\\n author = {Daifeng Peng and Yongjun Zhang and H. Guan},\\n booktitle = {Remote Sensing},\\n journal = {Remote. Sens.},\\n pages = {1382},\\n title = {End-to-End Change Detection for High Resolution Satellite Images Using Improved UNet++},\\n volume = {11},\\n year = {2019}\\n}\\n'}, 'authors': [{'authorId': '145470043', 'name': 'Daifeng Peng'}, {'authorId': '1591131546', 'name': 'Yongjun Zhang'}, {'authorId': '21704078', 'name': 'H. Guan'}]}, {'paperId': '8750bee9b12d76c060768e5aed2cb975f85602c4', 'externalIds': {'MAG': '2896092083', 'DBLP': 'journals/lgrs/ZhangXCYS19', 'DOI': '10.1109/LGRS.2018.2869608', 'CorpusId': 59231252}, 'corpusId': 59231252, 'publicationVenue': {'id': '290335d6-cddc-465d-87f1-807e86d8efee', 'name': 'IEEE Geoscience and Remote Sensing Letters', 'type': 'journal', 'alternate_names': ['IEEE Geosci Remote Sens Lett'], 'issn': '1545-598X', 'url': 'http://ieeexplore.ieee.org/servlet/opac?punumber=8859', 'alternate_urls': ['https://ieeexplore.ieee.org/xpl/RecentIssue.jsp?punumber=8859']}, 'url': 'https://www.semanticscholar.org/paper/8750bee9b12d76c060768e5aed2cb975f85602c4', 'title': 'Triplet-Based Semantic Relation Learning for Aerial Remote Sensing Image Change Detection', 'abstract': 'This letter presents a novel supervised change detection method based on a deep siamese semantic network framework, which is trained by using improved triplet loss function for optical aerial images. The proposed framework can not only extract features directly from image pairs which include multiscale information and are more abstract as well as robust, but also enhance the interclass separability and the intraclass inseparability by learning semantic relation. The feature vectors of the pixels pair with the same label are closer, and at the same time, the feature vectors of the pixels with different labels are farther from each other. Moreover, we use the distance of the feature map to detect the changes on the difference map between the image pair. Binarized change map can be obtained by a simple threshold. Experiments on optical aerial image data set validate that the proposed approach produces comparable, even better results, favorably to the state-of-the-art methods in terms of F-measure.', 'venue': 'IEEE Geoscience and Remote Sensing Letters', 'year': 2019, 'referenceCount': 16, 'citationCount': 81, 'influentialCitationCount': 11, 'isOpenAccess': False, 'openAccessPdf': None, 'fieldsOfStudy': ['Computer Science'], 's2FieldsOfStudy': [{'category': 'Computer Science', 'source': 'external'}, {'category': 'Computer Science', 'source': 's2-fos-model'}], 'publicationTypes': ['JournalArticle'], 'publicationDate': '2019-02-01', 'journal': {'volume': '16', 'pages': '266-270', 'name': 'IEEE Geoscience and Remote Sensing Letters'}, 'citationStyles': {'bibtex': '@Article{Zhang2019TripletBasedSR,\\n author = {Mengya Zhang and Guangluan Xu and Keming Chen and M. Yan and Xian Sun},\\n booktitle = {IEEE Geoscience and Remote Sensing Letters},\\n journal = {IEEE Geoscience and Remote Sensing Letters},\\n pages = {266-270},\\n title = {Triplet-Based Semantic Relation Learning for Aerial Remote Sensing Image Change Detection},\\n volume = {16},\\n year = {2019}\\n}\\n'}, 'authors': [{'authorId': '2153205366', 'name': 'Mengya Zhang'}, {'authorId': '3287827', 'name': 'Guangluan Xu'}, {'authorId': '47031293', 'name': 'Keming Chen'}, {'authorId': '1972876', 'name': 'M. Yan'}, {'authorId': '2946890', 'name': 'Xian Sun'}]}, {'paperId': '21500f8353e6f33be7d38e5dcb8a0ee25a1cdc42', 'externalIds': {'MAG': '2898219846', 'DOI': '10.1016/J.ISPRSJPRS.2018.10.008', 'CorpusId': 125591014}, 'corpusId': 125591014, 'publicationVenue': {'id': '227fb221-5e57-477c-b756-e39dd8ffd538', 'name': 'Isprs Journal of Photogrammetry and Remote Sensing', 'type': 'journal', 'alternate_names': ['Isprs J Photogramm Remote Sens']}, 'url': 'https://www.semanticscholar.org/paper/21500f8353e6f33be7d38e5dcb8a0ee25a1cdc42', 'title': 'An automatic approach for land-change detection and land updates based on integrated NDVI timing analysis and the CVAPS method with GEE support', 'abstract': None, 'venue': 'Isprs Journal of Photogrammetry and Remote Sensing', 'year': 2018, 'referenceCount': 51, 'citationCount': 73, 'influentialCitationCount': 0, 'isOpenAccess': False, 'openAccessPdf': None, 'fieldsOfStudy': ['Computer Science'], 's2FieldsOfStudy': [{'category': 'Computer Science', 'source': 'external'}, {'category': 'Environmental Science', 'source': 's2-fos-model'}, {'category': 'Mathematics', 'source': 's2-fos-model'}], 'publicationTypes': None, 'publicationDate': '2018-12-01', 'journal': {'name': 'ISPRS Journal of Photogrammetry and Remote Sensing'}, 'citationStyles': {'bibtex': '@Article{Hu2018AnAA,\\n author = {Yunfeng Hu and Yu Dong and Batunacun},\\n booktitle = {Isprs Journal of Photogrammetry and Remote Sensing},\\n journal = {ISPRS Journal of Photogrammetry and Remote Sensing},\\n title = {An automatic approach for land-change detection and land updates based on integrated NDVI timing analysis and the CVAPS method with GEE support},\\n year = {2018}\\n}\\n'}, 'authors': [{'authorId': '2747426', 'name': 'Yunfeng Hu'}, {'authorId': '98907839', 'name': 'Yu Dong'}, {'authorId': '72323540', 'name': 'Batunacun'}]}, {'paperId': 'a58bf29cd8de87f49d51c17a30df950757a9ca61', 'externalIds': {'MAG': '2895791379', 'DBLP': 'journals/ijgi/LiuYCHD18', 'DOI': '10.3390/ijgi7100410', 'CorpusId': 53242454}, 'corpusId': 53242454, 'publicationVenue': None, 'url': 'https://www.semanticscholar.org/paper/a58bf29cd8de87f49d51c17a30df950757a9ca61', 'title': 'Line-Constrained Shape Feature for Building Change Detection in VHR Remote Sensing Imagery', 'abstract': 'Buildings represent the most relevant features of human activity in urban regions, but their change detection using very-high-resolution (VHR) remote sensing imagery is still a major challenge. Effective representation of the building is the key point in building change detection. The linear feature can indirectly represent the structure and distribution of man-made objects. Thus, this study proposes a shape feature-based building change detection method. Specifically, a line-constrained shape (LCS) feature is developed to capture the shape characteristics of buildings. This feature improves the discriminability between buildings and other ground objects by integrating the pixel shape feature and line segments. The building candidate area (BCA) is created in accordance with the distribution of the line segments in two-phase images. The problem space is constrained in a high-likelihood region of buildings because of the BCA. Comparative experimental results demonstrate that the combination of the spectral feature and the developed LCS feature achieves the best performance in object-based building change detection in VHR imagery.', 'venue': 'ISPRS Int. J. Geo Inf.', 'year': 2018, 'referenceCount': 47, 'citationCount': 18, 'influentialCitationCount': 0, 'isOpenAccess': True, 'openAccessPdf': {'url': 'https://www.mdpi.com/2220-9964/7/10/410/pdf?version=1539677687', 'status': None}, 'fieldsOfStudy': ['Computer Science'], 's2FieldsOfStudy': [{'category': 'Computer Science', 'source': 'external'}, {'category': 'Environmental Science', 'source': 's2-fos-model'}, {'category': 'Engineering', 'source': 's2-fos-model'}, {'category': 'Mathematics', 'source': 's2-fos-model'}], 'publicationTypes': ['JournalArticle'], 'publicationDate': '2018-10-16', 'journal': {'volume': '7', 'pages': '410', 'name': 'ISPRS Int. J. Geo Inf.'}, 'citationStyles': {'bibtex': '@Article{Liu2018LineConstrainedSF,\\n author = {Haifei Liu and Minhua Yang and Jie Chen and J. Hou and M. Deng},\\n booktitle = {ISPRS Int. J. Geo Inf.},\\n journal = {ISPRS Int. J. Geo Inf.},\\n pages = {410},\\n title = {Line-Constrained Shape Feature for Building Change Detection in VHR Remote Sensing Imagery},\\n volume = {7},\\n year = {2018}\\n}\\n'}, 'authors': [{'authorId': '2109498037', 'name': 'Haifei Liu'}, {'authorId': '47345542', 'name': 'Minhua Yang'}, {'authorId': None, 'name': 'Jie Chen'}, {'authorId': '51199548', 'name': 'J. Hou'}, {'authorId': '3293043', 'name': 'M. Deng'}]}, {'paperId': '1d385debcb66dc259119093e9a390b0870e10037', 'externalIds': {'ArXiv': '1810.08462', 'DBLP': 'journals/corr/abs-1810-08462', 'MAG': '2949188702', 'DOI': '10.1109/ICIP.2018.8451652', 'CorpusId': 52189223}, 'corpusId': 52189223, 'publicationVenue': {'id': 'b6369c33-5d70-463c-8e82-95a54efa3cc8', 'name': 'International Conference on Information Photonics', 'type': 'conference', 'alternate_names': ['Int Conf Image Process', 'ICIP', 'Int Conf Inf Photonics', 'International Conference on Image Processing']}, 'url': 'https://www.semanticscholar.org/paper/1d385debcb66dc259119093e9a390b0870e10037', 'title': 'Fully Convolutional Siamese Networks for Change Detection', 'abstract': 'This paper presents three fully convolutional neural network architectures which perform change detection using a pair of coregistered images. Most notably, we propose two Siamese extensions of fully convolutional networks which use heuristics about the current problem to achieve the best results in our tests on two open change detection datasets, using both RGB and multispectral images. We show that our system is able to learn from scratch using annotated change detection images. Our architectures achieve better performance than previously proposed methods, while being at least 500 times faster than related systems. This work is a step towards efficient processing of data from large scale Earth observation systems such as Copernicus or Landsat.', 'venue': 'International Conference on Information Photonics', 'year': 2018, 'referenceCount': 19, 'citationCount': 426, 'influentialCitationCount': 128, 'isOpenAccess': True, 'openAccessPdf': {'url': 'http://arxiv.org/pdf/1810.08462', 'status': None}, 'fieldsOfStudy': ['Computer Science'], 's2FieldsOfStudy': [{'category': 'Computer Science', 'source': 'external'}, {'category': 'Computer Science', 'source': 's2-fos-model'}], 'publicationTypes': ['JournalArticle', 'Conference'], 'publicationDate': '2018-10-01', 'journal': {'pages': '4063-4067', 'name': '2018 25th IEEE International Conference on Image Processing (ICIP)'}, 'citationStyles': {'bibtex': '@Article{Daudt2018FullyCS,\\n author = {R. C. Daudt and B. L. Saux and Alexandre Boulch},\\n booktitle = {International Conference on Information Photonics},\\n journal = {2018 25th IEEE International Conference on Image Processing (ICIP)},\\n pages = {4063-4067},\\n title = {Fully Convolutional Siamese Networks for Change Detection},\\n year = {2018}\\n}\\n'}, 'authors': [{'authorId': '51262831', 'name': 'R. C. Daudt'}, {'authorId': '1730023', 'name': 'B. L. Saux'}, {'authorId': '2300845', 'name': 'Alexandre Boulch'}]}, {'paperId': 'b2f9c202a25ad6dc3472a2b2e23b1181225fef3d', 'externalIds': {'DBLP': 'conf/iclr/WuNMTHG19', 'MAG': '2950117601', 'CorpusId': 71148522}, 'corpusId': 71148522, 'publicationVenue': {'id': '939c6e1d-0d17-4d6e-8a82-66d960df0e40', 'name': 'International Conference on Learning Representations', 'type': 'conference', 'alternate_names': ['Int Conf Learn Represent', 'ICLR'], 'url': 'https://iclr.cc/'}, 'url': 'https://www.semanticscholar.org/paper/b2f9c202a25ad6dc3472a2b2e23b1181225fef3d', 'title': 'Deterministic Variational Inference for Robust Bayesian Neural Networks', 'abstract': 'Bayesian neural networks (BNNs) hold great promise as a flexible and principled solution to deal with uncertainty when learning from finite data. Among approaches to realize probabilistic inference in deep neural networks, variational Bayes (VB) is theoretically grounded, generally applicable, and computationally efficient. With wide recognition of potential advantages, why is it that variational Bayes has seen very limited practical use for BNNs in real applications? We argue that variational inference in neural networks is fragile: successful implementations require careful initialization and tuning of prior variances, as well as controlling the variance of Monte Carlo gradient estimates. We provide two innovations that aim to turn VB into a robust inference tool for Bayesian neural networks: first, we introduce a novel deterministic method to approximate moments in neural networks, eliminating gradient variance; second, we introduce a hierarchical prior for parameters and a novel Empirical Bayes procedure for automatically selecting prior variances. Combining these two innovations, the resulting method is highly efficient and robust. On the application of heteroscedastic regression we demonstrate good predictive performance over alternative approaches.', 'venue': 'International Conference on Learning Representations', 'year': 2018, 'referenceCount': 43, 'citationCount': 128, 'influentialCitationCount': 16, 'isOpenAccess': False, 'openAccessPdf': None, 'fieldsOfStudy': ['Computer Science'], 's2FieldsOfStudy': [{'category': 'Computer Science', 'source': 'external'}, {'category': 'Computer Science', 'source': 's2-fos-model'}], 'publicationTypes': ['JournalArticle'], 'publicationDate': '2018-09-27', 'journal': {'volume': '', 'name': ''}, 'citationStyles': {'bibtex': '@Article{Wu2018DeterministicVI,\\n author = {Anqi Wu and S. Nowozin and Edward Meeds and Richard E. Turner and José Miguel Hernández-Lobato and Alexander L. Gaunt},\\n booktitle = {International Conference on Learning Representations},\\n title = {Deterministic Variational Inference for Robust Bayesian Neural Networks},\\n year = {2018}\\n}\\n'}, 'authors': [{'authorId': '33515312', 'name': 'Anqi Wu'}, {'authorId': '2388416', 'name': 'S. Nowozin'}, {'authorId': '2848132', 'name': 'Edward Meeds'}, {'authorId': '145369890', 'name': 'Richard E. Turner'}, {'authorId': '1388574431', 'name': 'José Miguel Hernández-Lobato'}, {'authorId': '35058304', 'name': 'Alexander L. Gaunt'}]}, {'paperId': 'de95601d9e3b20ec51aa33e1f27b1880d2c44ef2', 'externalIds': {'MAG': '2884585870', 'DBLP': 'journals/corr/abs-1807-06521', 'ArXiv': '1807.06521', 'DOI': '10.1007/978-3-030-01234-2_1', 'CorpusId': 49867180}, 'corpusId': 49867180, 'publicationVenue': {'id': '167fa0ca-e88a-4ef7-a16f-bc66c457c806', 'name': 'European Conference on Computer Vision', 'type': 'conference', 'alternate_names': ['ECCV', 'Eur Conf Comput Vis'], 'url': 'https://link.springer.com/conference/eccv'}, 'url': 'https://www.semanticscholar.org/paper/de95601d9e3b20ec51aa33e1f27b1880d2c44ef2', 'title': 'CBAM: Convolutional Block Attention Module', 'abstract': None, 'venue': 'European Conference on Computer Vision', 'year': 2018, 'referenceCount': 42, 'citationCount': 7156, 'influentialCitationCount': 1314, 'isOpenAccess': True, 'openAccessPdf': {'url': 'http://arxiv.org/pdf/1807.06521', 'status': None}, 'fieldsOfStudy': ['Computer Science'], 's2FieldsOfStudy': [{'category': 'Computer Science', 'source': 'external'}, {'category': 'Computer Science', 'source': 's2-fos-model'}], 'publicationTypes': ['JournalArticle', 'Conference'], 'publicationDate': '2018-07-17', 'journal': {'pages': '3-19'}, 'citationStyles': {'bibtex': '@Article{Woo2018CBAMCB,\\n author = {Sanghyun Woo and Jongchan Park and Joon-Young Lee and In-So Kweon},\\n booktitle = {European Conference on Computer Vision},\\n pages = {3-19},\\n title = {CBAM: Convolutional Block Attention Module},\\n year = {2018}\\n}\\n'}, 'authors': [{'authorId': '2262209', 'name': 'Sanghyun Woo'}, {'authorId': '2109216573', 'name': 'Jongchan Park'}, {'authorId': '1926578', 'name': 'Joon-Young Lee'}, {'authorId': '2398271', 'name': 'In-So Kweon'}]}, {'paperId': '43410e1d4b8790582717013542313c994588590c', 'externalIds': {'DBLP': 'conf/iclr/GongLH19', 'ArXiv': '1806.04522', 'MAG': '2808208825', 'CorpusId': 48352800}, 'corpusId': 48352800, 'publicationVenue': {'id': '939c6e1d-0d17-4d6e-8a82-66d960df0e40', 'name': 'International Conference on Learning Representations', 'type': 'conference', 'alternate_names': ['Int Conf Learn Represent', 'ICLR'], 'url': 'https://iclr.cc/'}, 'url': 'https://www.semanticscholar.org/paper/43410e1d4b8790582717013542313c994588590c', 'title': 'Meta-Learning for Stochastic Gradient MCMC', 'abstract': 'Stochastic gradient Markov chain Monte Carlo (SG-MCMC) has become increasingly popular for simulating posterior samples in large-scale Bayesian modeling. However, existing SG-MCMC schemes are not tailored to any specific probabilistic model, even a simple modification of the underlying dynamical system requires significant physical intuition. This paper presents the first meta-learning algorithm that allows automated design for the underlying continuous dynamics of an SG-MCMC sampler. The learned sampler generalizes Hamiltonian dynamics with state-dependent drift and diffusion, enabling fast traversal and efficient exploration of neural network energy landscapes. Experiments validate the proposed approach on both Bayesian fully connected neural network and Bayesian recurrent neural network tasks, showing that the learned sampler out-performs generic, hand-designed SG-MCMC algorithms, and generalizes to different datasets and larger architectures.', 'venue': 'International Conference on Learning Representations', 'year': 2018, 'referenceCount': 63, 'citationCount': 38, 'influentialCitationCount': 2, 'isOpenAccess': False, 'openAccessPdf': None, 'fieldsOfStudy': ['Computer Science', 'Mathematics'], 's2FieldsOfStudy': [{'category': 'Computer Science', 'source': 'external'}, {'category': 'Mathematics', 'source': 'external'}, {'category': 'Computer Science', 'source': 's2-fos-model'}], 'publicationTypes': ['JournalArticle'], 'publicationDate': '2018-06-12', 'journal': {'volume': 'abs/1806.04522', 'name': 'ArXiv'}, 'citationStyles': {'bibtex': '@Article{Gong2018MetaLearningFS,\\n author = {Wenbo Gong and Yingzhen Li and José Miguel Hernández-Lobato},\\n booktitle = {International Conference on Learning Representations},\\n journal = {ArXiv},\\n title = {Meta-Learning for Stochastic Gradient MCMC},\\n volume = {abs/1806.04522},\\n year = {2018}\\n}\\n'}, 'authors': [{'authorId': '38571575', 'name': 'Wenbo Gong'}, {'authorId': '2672661', 'name': 'Yingzhen Li'}, {'authorId': '1388574431', 'name': 'José Miguel Hernández-Lobato'}]}, {'paperId': '3bd953f567e776c337f3484c95218af71140344c', 'externalIds': {'MAG': '2564140372', 'DBLP': 'journals/tnn/LiuGQZ18', 'DOI': '10.1109/TNNLS.2016.2636227', 'CorpusId': 2737639, 'PubMed': '28026789'}, 'corpusId': 2737639, 'publicationVenue': {'id': '79c5a18d-0295-432c-aaa5-961d73de6d88', 'name': 'IEEE Transactions on Neural Networks and Learning Systems', 'alternate_names': ['IEEE Trans Neural Netw Learn Syst'], 'issn': '2162-237X', 'url': 'http://ieeexplore.ieee.org/servlet/opac?punumber=5962385', 'alternate_urls': ['https://ieeexplore.ieee.org/xpl/RecentIssue.jsp?punumber=5962385']}, 'url': 'https://www.semanticscholar.org/paper/3bd953f567e776c337f3484c95218af71140344c', 'title': 'A Deep Convolutional Coupling Network for Change Detection Based on Heterogeneous Optical and Radar Images', 'abstract': 'We propose an unsupervised deep convolutional coupling network for change detection based on two heterogeneous images acquired by optical sensors and radars on different dates. Most existing change detection methods are based on homogeneous images. Due to the complementary properties of optical and radar sensors, there is an increasing interest in change detection based on heterogeneous images. The proposed network is symmetric with each side consisting of one convolutional layer and several coupling layers. The two input images connected with the two sides of the network, respectively, are transformed into a feature space where their feature representations become more consistent. In this feature space, the different map is calculated, which then leads to the ultimate detection map by applying a thresholding algorithm. The network parameters are learned by optimizing a coupling function. The learning process is unsupervised, which is different from most existing change detection methods based on heterogeneous images. Experimental results on both homogenous and heterogeneous images demonstrate the promising performance of the proposed network compared with several existing approaches.', 'venue': 'IEEE Transactions on Neural Networks and Learning Systems', 'year': 2018, 'referenceCount': 56, 'citationCount': 274, 'influentialCitationCount': 42, 'isOpenAccess': False, 'openAccessPdf': None, 'fieldsOfStudy': ['Computer Science', 'Medicine'], 's2FieldsOfStudy': [{'category': 'Computer Science', 'source': 'external'}, {'category': 'Medicine', 'source': 'external'}, {'category': 'Computer Science', 'source': 's2-fos-model'}], 'publicationTypes': ['JournalArticle'], 'publicationDate': '2018-03-01', 'journal': {'volume': '29', 'pages': '545-559', 'name': 'IEEE Transactions on Neural Networks and Learning Systems'}, 'citationStyles': {'bibtex': '@Article{Liu2018ADC,\\n author = {Jia Liu and Maoguo Gong and Kai Qin and Puzhao Zhang},\\n booktitle = {IEEE Transactions on Neural Networks and Learning Systems},\\n journal = {IEEE Transactions on Neural Networks and Learning Systems},\\n pages = {545-559},\\n title = {A Deep Convolutional Coupling Network for Change Detection Based on Heterogeneous Optical and Radar Images},\\n volume = {29},\\n year = {2018}\\n}\\n'}, 'authors': [{'authorId': '39280862', 'name': 'Jia Liu'}, {'authorId': '144605807', 'name': 'Maoguo Gong'}, {'authorId': '1491495559', 'name': 'Kai Qin'}, {'authorId': '3470080', 'name': 'Puzhao Zhang'}]}, {'paperId': '8899094797e82c5c185a0893896320ef77f60e64', 'externalIds': {'DBLP': 'conf/cvpr/0004GGH18', 'ArXiv': '1711.07971', 'MAG': '2770201307', 'DOI': '10.1109/CVPR.2018.00813', 'CorpusId': 4852647}, 'corpusId': 4852647, 'publicationVenue': None, 'url': 'https://www.semanticscholar.org/paper/8899094797e82c5c185a0893896320ef77f60e64', 'title': 'Non-local Neural Networks', 'abstract': 'Both convolutional and recurrent operations are building blocks that process one local neighborhood at a time. In this paper, we present non-local operations as a generic family of building blocks for capturing long-range dependencies. Inspired by the classical non-local means method [4] in computer vision, our non-local operation computes the response at a position as a weighted sum of the features at all positions. This building block can be plugged into many computer vision architectures. On the task of video classification, even without any bells and whistles, our nonlocal models can compete or outperform current competition winners on both Kinetics and Charades datasets. In static image recognition, our non-local models improve object detection/segmentation and pose estimation on the COCO suite of tasks. Code will be made available.', 'venue': '2018 IEEE/CVF Conference on Computer Vision and Pattern Recognition', 'year': 2017, 'referenceCount': 56, 'citationCount': 6099, 'influentialCitationCount': 826, 'isOpenAccess': True, 'openAccessPdf': {'url': 'http://arxiv.org/pdf/1711.07971', 'status': None}, 'fieldsOfStudy': ['Computer Science'], 's2FieldsOfStudy': [{'category': 'Computer Science', 'source': 'external'}, {'category': 'Computer Science', 'source': 's2-fos-model'}], 'publicationTypes': ['JournalArticle', 'Conference'], 'publicationDate': '2017-11-21', 'journal': {'pages': '7794-7803', 'name': '2018 IEEE/CVF Conference on Computer Vision and Pattern Recognition'}, 'citationStyles': {'bibtex': '@Article{Wang2017NonlocalNN,\\n author = {X. Wang and Ross B. Girshick and A. Gupta and Kaiming He},\\n booktitle = {2018 IEEE/CVF Conference on Computer Vision and Pattern Recognition},\\n journal = {2018 IEEE/CVF Conference on Computer Vision and Pattern Recognition},\\n pages = {7794-7803},\\n title = {Non-local Neural Networks},\\n year = {2017}\\n}\\n'}, 'authors': [{'authorId': '39849136', 'name': 'X. Wang'}, {'authorId': '2983898', 'name': 'Ross B. Girshick'}, {'authorId': '1726095131', 'name': 'A. Gupta'}, {'authorId': '39353098', 'name': 'Kaiming He'}]}, {'paperId': 'd07284a6811f1b2745d91bdb06b040b57f226882', 'externalIds': {'DBLP': 'conf/iclr/LoshchilovH19', 'MAG': '2908510526', 'CorpusId': 53592270}, 'corpusId': 53592270, 'publicationVenue': {'id': '939c6e1d-0d17-4d6e-8a82-66d960df0e40', 'name': 'International Conference on Learning Representations', 'type': 'conference', 'alternate_names': ['Int Conf Learn Represent', 'ICLR'], 'url': 'https://iclr.cc/'}, 'url': 'https://www.semanticscholar.org/paper/d07284a6811f1b2745d91bdb06b040b57f226882', 'title': 'Decoupled Weight Decay Regularization', 'abstract': 'L$_2$ regularization and weight decay regularization are equivalent for standard stochastic gradient descent (when rescaled by the learning rate), but as we demonstrate this is \\\\emph{not} the case for adaptive gradient algorithms, such as Adam. While common implementations of these algorithms employ L$_2$ regularization (often calling it \"weight decay\" in what may be misleading due to the inequivalence we expose), we propose a simple modification to recover the original formulation of weight decay regularization by \\\\emph{decoupling} the weight decay from the optimization steps taken w.r.t. the loss function. We provide empirical evidence that our proposed modification (i) decouples the optimal choice of weight decay factor from the setting of the learning rate for both standard SGD and Adam and (ii) substantially improves Adam\\'s generalization performance, allowing it to compete with SGD with momentum on image classification datasets (on which it was previously typically outperformed by the latter). Our proposed decoupled weight decay has already been adopted by many researchers, and the community has implemented it in TensorFlow and PyTorch; the complete source code for our experiments is available at this https URL', 'venue': 'International Conference on Learning Representations', 'year': 2017, 'referenceCount': 33, 'citationCount': 8048, 'influentialCitationCount': 1563, 'isOpenAccess': False, 'openAccessPdf': None, 'fieldsOfStudy': ['Computer Science'], 's2FieldsOfStudy': [{'category': 'Computer Science', 'source': 'external'}, {'category': 'Computer Science', 'source': 's2-fos-model'}], 'publicationTypes': ['JournalArticle'], 'publicationDate': '2017-11-14', 'journal': {'volume': '', 'name': ''}, 'citationStyles': {'bibtex': '@Article{Loshchilov2017DecoupledWD,\\n author = {I. Loshchilov and F. Hutter},\\n booktitle = {International Conference on Learning Representations},\\n title = {Decoupled Weight Decay Regularization},\\n year = {2017}\\n}\\n'}, 'authors': [{'authorId': '1678656', 'name': 'I. Loshchilov'}, {'authorId': '144661829', 'name': 'F. Hutter'}]}, {'paperId': 'df67d46e78aae0d2fccfb6212d101a342259c01b', 'externalIds': {'DBLP': 'journals/corr/abs-1709-01507', 'MAG': '2949726705', 'DOI': '10.1109/TPAMI.2019.2913372', 'CorpusId': 140309863, 'PubMed': '31034408'}, 'corpusId': 140309863, 'publicationVenue': {'id': '25248f80-fe99-48e5-9b8e-9baef3b8e23b', 'name': 'IEEE Transactions on Pattern Analysis and Machine Intelligence', 'type': 'journal', 'alternate_names': ['IEEE Trans Pattern Anal Mach Intell'], 'issn': '0162-8828', 'url': 'http://www.computer.org/tpami/', 'alternate_urls': ['http://www.computer.org/portal/web/tpami', 'http://ieeexplore.ieee.org/servlet/opac?punumber=34']}, 'url': 'https://www.semanticscholar.org/paper/df67d46e78aae0d2fccfb6212d101a342259c01b', 'title': 'Squeeze-and-Excitation Networks', 'abstract': 'The central building block of convolutional neural networks (CNNs) is the convolution operator, which enables networks to construct informative features by fusing both spatial and channel-wise information within local receptive fields at each layer. A broad range of prior research has investigated the spatial component of this relationship, seeking to strengthen the representational power of a CNN by enhancing the quality of spatial encodings throughout its feature hierarchy. In this work, we focus instead on the channel relationship and propose a novel architectural unit, which we term the “Squeeze-and-Excitation” (SE) block, that adaptively recalibrates channel-wise feature responses by explicitly modelling interdependencies between channels. We show that these blocks can be stacked together to form SENet architectures that generalise extremely effectively across different datasets. We further demonstrate that SE blocks bring significant improvements in performance for existing state-of-the-art CNNs at slight additional computational cost. Squeeze-and-Excitation Networks formed the foundation of our ILSVRC 2017 classification submission which won first place and reduced the top-5 error to 2.251 percent, surpassing the winning entry of 2016 by a relative improvement of <inline-formula><tex-math notation=\"LaTeX\">${\\\\sim }$</tex-math><alternatives><mml:math><mml:mo>∼</mml:mo></mml:math><inline-graphic xlink:href=\"shen-ieq1-2913372.gif\"/></alternatives></inline-formula>25 percent. Models and code are available at <uri>https://github.com/hujie-frank/SENet</uri>.', 'venue': 'IEEE Transactions on Pattern Analysis and Machine Intelligence', 'year': 2017, 'referenceCount': 88, 'citationCount': 13785, 'influentialCitationCount': 1199, 'isOpenAccess': True, 'openAccessPdf': {'url': 'http://arxiv.org/pdf/1709.01507', 'status': None}, 'fieldsOfStudy': ['Computer Science', 'Medicine'], 's2FieldsOfStudy': [{'category': 'Computer Science', 'source': 'external'}, {'category': 'Medicine', 'source': 'external'}, {'category': 'Computer Science', 'source': 's2-fos-model'}], 'publicationTypes': ['JournalArticle'], 'publicationDate': '2017-09-05', 'journal': {'volume': '42', 'pages': '2011-2023', 'name': 'IEEE Transactions on Pattern Analysis and Machine Intelligence'}, 'citationStyles': {'bibtex': '@Article{Hu2017SqueezeandExcitationN,\\n author = {Jie Hu and Li Shen and Samuel Albanie and Gang Sun and E. Wu},\\n booktitle = {IEEE Transactions on Pattern Analysis and Machine Intelligence},\\n journal = {IEEE Transactions on Pattern Analysis and Machine Intelligence},\\n pages = {2011-2023},\\n title = {Squeeze-and-Excitation Networks},\\n volume = {42},\\n year = {2017}\\n}\\n'}, 'authors': [{'authorId': '145815850', 'name': 'Jie Hu'}, {'authorId': '152148573', 'name': 'Li Shen'}, {'authorId': '7641268', 'name': 'Samuel Albanie'}, {'authorId': '2087137982', 'name': 'Gang Sun'}, {'authorId': '145344139', 'name': 'E. Wu'}]}, {'paperId': 'b702cf22afb725b1bf9d633ffdd96cfb00a87253', 'externalIds': {'MAG': '2751993439', 'DBLP': 'journals/lgrs/ZhanFYSWQ17', 'DOI': '10.1109/LGRS.2017.2738149', 'CorpusId': 28993658}, 'corpusId': 28993658, 'publicationVenue': {'id': '290335d6-cddc-465d-87f1-807e86d8efee', 'name': 'IEEE Geoscience and Remote Sensing Letters', 'type': 'journal', 'alternate_names': ['IEEE Geosci Remote Sens Lett'], 'issn': '1545-598X', 'url': 'http://ieeexplore.ieee.org/servlet/opac?punumber=8859', 'alternate_urls': ['https://ieeexplore.ieee.org/xpl/RecentIssue.jsp?punumber=8859']}, 'url': 'https://www.semanticscholar.org/paper/b702cf22afb725b1bf9d633ffdd96cfb00a87253', 'title': 'Change Detection Based on Deep Siamese Convolutional Network for Optical Aerial Images', 'abstract': 'In this letter, we propose a novel supervised change detection method based on a deep siamese convolutional network for optical aerial images. We train a siamese convolutional network using the weighted contrastive loss. The novelty of the method is that the siamese network is learned to extract features directly from the image pairs. Compared with hand-crafted features used by the conventional change detection method, the extracted features are more abstract and robust. Furthermore, because of the advantage of the weighted contrastive loss function, the features have a unique property: the feature vectors of the changed pixel pair are far away from each other, while the ones of the unchanged pixel pair are close. Therefore, we use the distance of the feature vectors to detect changes between the image pair. Simple threshold segmentation on the distance map can even obtain good performance. For improvement, we use a  $k$ -nearest neighbor approach to update the initial result. Experimental results show that the proposed method produces results comparable, even better, with the two state-of-the-art methods in terms of F-measure.', 'venue': 'IEEE Geoscience and Remote Sensing Letters', 'year': 2017, 'referenceCount': 15, 'citationCount': 280, 'influentialCitationCount': 37, 'isOpenAccess': False, 'openAccessPdf': None, 'fieldsOfStudy': ['Computer Science'], 's2FieldsOfStudy': [{'category': 'Computer Science', 'source': 'external'}, {'category': 'Physics', 'source': 's2-fos-model'}], 'publicationTypes': ['JournalArticle'], 'publicationDate': '2017-08-30', 'journal': {'volume': '14', 'pages': '1845-1849', 'name': 'IEEE Geoscience and Remote Sensing Letters'}, 'citationStyles': {'bibtex': '@Article{Zhan2017ChangeDB,\\n author = {Yang Zhan and K. Fu and M. Yan and Xian Sun and Hongqi Wang and Xiaosong Qiu},\\n booktitle = {IEEE Geoscience and Remote Sensing Letters},\\n journal = {IEEE Geoscience and Remote Sensing Letters},\\n pages = {1845-1849},\\n title = {Change Detection Based on Deep Siamese Convolutional Network for Optical Aerial Images},\\n volume = {14},\\n year = {2017}\\n}\\n'}, 'authors': [{'authorId': '2056778341', 'name': 'Yang Zhan'}, {'authorId': '2266415', 'name': 'K. Fu'}, {'authorId': '1972876', 'name': 'M. Yan'}, {'authorId': '2946890', 'name': 'Xian Sun'}, {'authorId': '2109602634', 'name': 'Hongqi Wang'}, {'authorId': '31396226', 'name': 'Xiaosong Qiu'}]}, {'paperId': 'b5fa038000a81e55f1160136f401a9cde3be2f71', 'externalIds': {'ArXiv': '1703.01961', 'DBLP': 'conf/icml/LouizosW17', 'MAG': '2950471516', 'CorpusId': 9280646}, 'corpusId': 9280646, 'publicationVenue': {'id': 'fc0a208c-acb7-47dc-a0d4-af8190e21d29', 'name': 'International Conference on Machine Learning', 'type': 'conference', 'alternate_names': ['ICML', 'Int Conf Mach Learn'], 'url': 'https://icml.cc/'}, 'url': 'https://www.semanticscholar.org/paper/b5fa038000a81e55f1160136f401a9cde3be2f71', 'title': 'Multiplicative Normalizing Flows for Variational Bayesian Neural Networks', 'abstract': 'We reinterpret multiplicative noise in neural networks as auxiliary random variables that augment the approximate posterior in a variational setting for Bayesian neural networks. We show that through this interpretation it is both efficient and straightforward to improve the approximation by employing normalizing flows (Rezende & Mohamed, 2015) while still allowing for local reparametrizations (Kingma et al., 2015) and a tractable lower bound (Ranganath et al., 2015; Maal0e et al., 2016). In experiments we show that with this new approximation we can significantly improve upon classical mean field for Bayesian neural networks on both predictive accuracy as well as predictive uncertainty.', 'venue': 'International Conference on Machine Learning', 'year': 2017, 'referenceCount': 49, 'citationCount': 381, 'influentialCitationCount': 49, 'isOpenAccess': False, 'openAccessPdf': None, 'fieldsOfStudy': ['Mathematics', 'Computer Science'], 's2FieldsOfStudy': [{'category': 'Mathematics', 'source': 'external'}, {'category': 'Computer Science', 'source': 'external'}, {'category': 'Computer Science', 'source': 's2-fos-model'}], 'publicationTypes': ['JournalArticle', 'Conference'], 'publicationDate': '2017-03-06', 'journal': {'volume': 'abs/1703.01961', 'name': 'ArXiv'}, 'citationStyles': {'bibtex': '@Article{Louizos2017MultiplicativeNF,\\n author = {Christos Louizos and M. Welling},\\n booktitle = {International Conference on Machine Learning},\\n journal = {ArXiv},\\n title = {Multiplicative Normalizing Flows for Variational Bayesian Neural Networks},\\n volume = {abs/1703.01961},\\n year = {2017}\\n}\\n'}, 'authors': [{'authorId': '2075783', 'name': 'Christos Louizos'}, {'authorId': '1678311', 'name': 'M. Welling'}]}, {'paperId': 'b9b4e05faa194e5022edd9eb9dd07e3d675c2b36', 'externalIds': {'MAG': '2949533892', 'ArXiv': '1612.03144', 'DBLP': 'journals/corr/LinDGHHB16', 'DOI': '10.1109/CVPR.2017.106', 'CorpusId': 10716717}, 'corpusId': 10716717, 'publicationVenue': {'id': '768b87bb-8a18-4d9c-a161-4d483c776bcf', 'name': 'Computer Vision and Pattern Recognition', 'type': 'conference', 'alternate_names': ['CVPR', 'Comput Vis Pattern Recognit'], 'issn': '1063-6919', 'url': 'https://ieeexplore.ieee.org/xpl/conhome.jsp?punumber=1000147', 'alternate_urls': ['https://en.wikipedia.org/wiki/Conference_on_Computer_Vision_and_Pattern_Recognition']}, 'url': 'https://www.semanticscholar.org/paper/b9b4e05faa194e5022edd9eb9dd07e3d675c2b36', 'title': 'Feature Pyramid Networks for Object Detection', 'abstract': 'Feature pyramids are a basic component in recognition systems for detecting objects at different scales. But pyramid representations have been avoided in recent object detectors that are based on deep convolutional networks, partially because they are slow to compute and memory intensive. In this paper, we exploit the inherent multi-scale, pyramidal hierarchy of deep convolutional networks to construct feature pyramids with marginal extra cost. A top-down architecture with lateral connections is developed for building high-level semantic feature maps at all scales. This architecture, called a Feature Pyramid Network (FPN), shows significant improvement as a generic feature extractor in several applications. Using a basic Faster R-CNN system, our method achieves state-of-the-art single-model results on the COCO detection benchmark without bells and whistles, surpassing all existing single-model entries including those from the COCO 2016 challenge winners. In addition, our method can run at 5 FPS on a GPU and thus is a practical and accurate solution to multi-scale object detection. Code will be made publicly available.', 'venue': 'Computer Vision and Pattern Recognition', 'year': 2016, 'referenceCount': 41, 'citationCount': 14210, 'influentialCitationCount': 3120, 'isOpenAccess': True, 'openAccessPdf': {'url': 'http://arxiv.org/pdf/1612.03144', 'status': None}, 'fieldsOfStudy': ['Computer Science'], 's2FieldsOfStudy': [{'category': 'Computer Science', 'source': 'external'}, {'category': 'Computer Science', 'source': 's2-fos-model'}], 'publicationTypes': ['JournalArticle', 'Conference'], 'publicationDate': '2016-12-09', 'journal': {'pages': '936-944', 'name': '2017 IEEE Conference on Computer Vision and Pattern Recognition (CVPR)'}, 'citationStyles': {'bibtex': '@Article{Lin2016FeaturePN,\\n author = {Tsung-Yi Lin and Piotr Dollár and Ross B. Girshick and Kaiming He and Bharath Hariharan and Serge J. Belongie},\\n booktitle = {Computer Vision and Pattern Recognition},\\n journal = {2017 IEEE Conference on Computer Vision and Pattern Recognition (CVPR)},\\n pages = {936-944},\\n title = {Feature Pyramid Networks for Object Detection},\\n year = {2016}\\n}\\n'}, 'authors': [{'authorId': '33493200', 'name': 'Tsung-Yi Lin'}, {'authorId': '3127283', 'name': 'Piotr Dollár'}, {'authorId': '2983898', 'name': 'Ross B. Girshick'}, {'authorId': '39353098', 'name': 'Kaiming He'}, {'authorId': '1790580', 'name': 'Bharath Hariharan'}, {'authorId': '50172592', 'name': 'Serge J. Belongie'}]}, {'paperId': '802168a81571dde28f5ddb94d84677bc007afa7b', 'externalIds': {'MAG': '2963238274', 'DBLP': 'conf/nips/Lakshminarayanan17', 'ArXiv': '1612.01474', 'CorpusId': 6294674}, 'corpusId': 6294674, 'publicationVenue': None, 'url': 'https://www.semanticscholar.org/paper/802168a81571dde28f5ddb94d84677bc007afa7b', 'title': 'Simple and Scalable Predictive Uncertainty Estimation using Deep Ensembles', 'abstract': 'Deep neural networks (NNs) are powerful black box predictors that have recently achieved impressive performance on a wide spectrum of tasks. Quantifying predictive uncertainty in NNs is a challenging and yet unsolved problem. Bayesian NNs, which learn a distribution over weights, are currently the state-of-the-art for estimating predictive uncertainty; however these require significant modifications to the training procedure and are computationally expensive compared to standard (non-Bayesian) NNs. We propose an alternative to Bayesian NNs that is simple to implement, readily parallelizable, requires very little hyperparameter tuning, and yields high quality predictive uncertainty estimates. Through a series of experiments on classification and regression benchmarks, we demonstrate that our method produces well-calibrated uncertainty estimates which are as good or better than approximate Bayesian NNs. To assess robustness to dataset shift, we evaluate the predictive uncertainty on test examples from known and unknown distributions, and show that our method is able to express higher uncertainty on out-of-distribution examples. We demonstrate the scalability of our method by evaluating predictive uncertainty estimates on ImageNet.', 'venue': 'NIPS', 'year': 2016, 'referenceCount': 64, 'citationCount': 3504, 'influentialCitationCount': 611, 'isOpenAccess': False, 'openAccessPdf': None, 'fieldsOfStudy': ['Mathematics', 'Computer Science'], 's2FieldsOfStudy': [{'category': 'Mathematics', 'source': 'external'}, {'category': 'Computer Science', 'source': 'external'}, {'category': 'Computer Science', 'source': 's2-fos-model'}], 'publicationTypes': ['JournalArticle', 'Conference'], 'publicationDate': '2016-12-05', 'journal': {'volume': 'abs/1612.01474', 'name': 'ArXiv'}, 'citationStyles': {'bibtex': '@Article{Lakshminarayanan2016SimpleAS,\\n author = {Balaji Lakshminarayanan and A. Pritzel and C. Blundell},\\n booktitle = {NIPS},\\n journal = {ArXiv},\\n title = {Simple and Scalable Predictive Uncertainty Estimation using Deep Ensembles},\\n volume = {abs/1612.01474},\\n year = {2016}\\n}\\n'}, 'authors': [{'authorId': '40627523', 'name': 'Balaji Lakshminarayanan'}, {'authorId': '1863250', 'name': 'A. Pritzel'}, {'authorId': '1723876', 'name': 'C. Blundell'}]}, {'paperId': '50004c086ffd6a201a4b782281aaa930fbfe6ecf', 'externalIds': {'ArXiv': '1606.04797', 'DBLP': 'conf/3dim/MilletariNA16', 'MAG': '2962914239', 'DOI': '10.1109/3DV.2016.79', 'CorpusId': 206429151}, 'corpusId': 206429151, 'publicationVenue': {'id': '4b02e809-1c26-4203-b9ba-311a418f664b', 'name': 'International Conference on 3D Vision', 'type': 'conference', 'alternate_names': ['Int Conf 3D Vis', '3DV']}, 'url': 'https://www.semanticscholar.org/paper/50004c086ffd6a201a4b782281aaa930fbfe6ecf', 'title': 'V-Net: Fully Convolutional Neural Networks for Volumetric Medical Image Segmentation', 'abstract': 'Convolutional Neural Networks (CNNs) have been recently employed to solve problems from both the computer vision and medical image analysis fields. Despite their popularity, most approaches are only able to process 2D images while most medical data used in clinical practice consists of 3D volumes. In this work we propose an approach to 3D image segmentation based on a volumetric, fully convolutional, neural network. Our CNN is trained end-to-end on MRI volumes depicting prostate, and learns to predict segmentation for the whole volume at once. We introduce a novel objective function, that we optimise during training, based on Dice coefficient. In this way we can deal with situations where there is a strong imbalance between the number of foreground and background voxels. To cope with the limited number of annotated volumes available for training, we augment the data applying random non-linear transformations and histogram matching. We show in our experimental evaluation that our approach achieves good performances on challenging test data while requiring only a fraction of the processing time needed by other previous methods.', 'venue': 'International Conference on 3D Vision', 'year': 2016, 'referenceCount': 24, 'citationCount': 5680, 'influentialCitationCount': 661, 'isOpenAccess': True, 'openAccessPdf': {'url': 'http://arxiv.org/pdf/1606.04797', 'status': None}, 'fieldsOfStudy': ['Computer Science'], 's2FieldsOfStudy': [{'category': 'Computer Science', 'source': 'external'}, {'category': 'Computer Science', 'source': 's2-fos-model'}], 'publicationTypes': ['JournalArticle', 'Conference'], 'publicationDate': '2016-06-15', 'journal': {'pages': '565-571', 'name': '2016 Fourth International Conference on 3D Vision (3DV)'}, 'citationStyles': {'bibtex': '@Article{Milletarì2016VNetFC,\\n author = {F. Milletarì and N. Navab and Seyed-Ahmad Ahmadi},\\n booktitle = {International Conference on 3D Vision},\\n journal = {2016 Fourth International Conference on 3D Vision (3DV)},\\n pages = {565-571},\\n title = {V-Net: Fully Convolutional Neural Networks for Volumetric Medical Image Segmentation},\\n year = {2016}\\n}\\n'}, 'authors': [{'authorId': '1877512', 'name': 'F. Milletarì'}, {'authorId': '145587209', 'name': 'N. Navab'}, {'authorId': '145774206', 'name': 'Seyed-Ahmad Ahmadi'}]}, {'paperId': '2c03df8b48bf3fa39054345bafabfeff15bfd11d', 'externalIds': {'DBLP': 'journals/corr/HeZRS15', 'ArXiv': '1512.03385', 'MAG': '2194775991', 'DOI': '10.1109/cvpr.2016.90', 'CorpusId': 206594692}, 'corpusId': 206594692, 'publicationVenue': {'id': '768b87bb-8a18-4d9c-a161-4d483c776bcf', 'name': 'Computer Vision and Pattern Recognition', 'type': 'conference', 'alternate_names': ['CVPR', 'Comput Vis Pattern Recognit'], 'issn': '1063-6919', 'url': 'https://ieeexplore.ieee.org/xpl/conhome.jsp?punumber=1000147', 'alternate_urls': ['https://en.wikipedia.org/wiki/Conference_on_Computer_Vision_and_Pattern_Recognition']}, 'url': 'https://www.semanticscholar.org/paper/2c03df8b48bf3fa39054345bafabfeff15bfd11d', 'title': 'Deep Residual Learning for Image Recognition', 'abstract': 'Deeper neural networks are more difficult to train. We present a residual learning framework to ease the training of networks that are substantially deeper than those used previously. We explicitly reformulate the layers as learning residual functions with reference to the layer inputs, instead of learning unreferenced functions. We provide comprehensive empirical evidence showing that these residual networks are easier to optimize, and can gain accuracy from considerably increased depth. On the ImageNet dataset we evaluate residual nets with a depth of up to 152 layers - 8× deeper than VGG nets [40] but still having lower complexity. An ensemble of these residual nets achieves 3.57% error on the ImageNet test set. This result won the 1st place on the ILSVRC 2015 classification task. We also present analysis on CIFAR-10 with 100 and 1000 layers. The depth of representations is of central importance for many visual recognition tasks. Solely due to our extremely deep representations, we obtain a 28% relative improvement on the COCO object detection dataset. Deep residual nets are foundations of our submissions to ILSVRC & COCO 2015 competitions1, where we also won the 1st places on the tasks of ImageNet detection, ImageNet localization, COCO detection, and COCO segmentation.', 'venue': 'Computer Vision and Pattern Recognition', 'year': 2015, 'referenceCount': 54, 'citationCount': 131767, 'influentialCitationCount': 29369, 'isOpenAccess': True, 'openAccessPdf': {'url': 'https://repositorio.unal.edu.co/bitstream/unal/81443/1/98670607.2022.pdf', 'status': None}, 'fieldsOfStudy': ['Computer Science'], 's2FieldsOfStudy': [{'category': 'Computer Science', 'source': 'external'}, {'category': 'Computer Science', 'source': 's2-fos-model'}], 'publicationTypes': ['JournalArticle', 'Conference'], 'publicationDate': '2015-12-10', 'journal': {'pages': '770-778', 'name': '2016 IEEE Conference on Computer Vision and Pattern Recognition (CVPR)'}, 'citationStyles': {'bibtex': '@Article{He2015DeepRL,\\n author = {Kaiming He and X. Zhang and Shaoqing Ren and Jian Sun},\\n booktitle = {Computer Vision and Pattern Recognition},\\n journal = {2016 IEEE Conference on Computer Vision and Pattern Recognition (CVPR)},\\n pages = {770-778},\\n title = {Deep Residual Learning for Image Recognition},\\n year = {2015}\\n}\\n'}, 'authors': [{'authorId': '39353098', 'name': 'Kaiming He'}, {'authorId': '1771551', 'name': 'X. Zhang'}, {'authorId': '3080683', 'name': 'Shaoqing Ren'}, {'authorId': None, 'name': 'Jian Sun'}]}, {'paperId': 'aeed631d6a84100b5e9a021ec1914095c66de415', 'externalIds': {'DBLP': 'conf/icml/WellingT11', 'MAG': '2167433878', 'CorpusId': 2178983}, 'corpusId': 2178983, 'publicationVenue': {'id': 'fc0a208c-acb7-47dc-a0d4-af8190e21d29', 'name': 'International Conference on Machine Learning', 'type': 'conference', 'alternate_names': ['ICML', 'Int Conf Mach Learn'], 'url': 'https://icml.cc/'}, 'url': 'https://www.semanticscholar.org/paper/aeed631d6a84100b5e9a021ec1914095c66de415', 'title': 'Bayesian Learning via Stochastic Gradient Langevin Dynamics', 'abstract': 'In this paper we propose a new framework for learning from large scale datasets based on iterative learning from small mini-batches. By adding the right amount of noise to a standard stochastic gradient optimization algorithm we show that the iterates will converge to samples from the true posterior distribution as we anneal the stepsize. This seamless transition between optimization and Bayesian posterior sampling provides an inbuilt protection against overfitting. We also propose a practical method for Monte Carlo estimates of posterior statistics which monitors a \"sampling threshold\" and collects samples after it has been surpassed. We apply the method to three models: a mixture of Gaussians, logistic regression and ICA with natural gradients.', 'venue': 'International Conference on Machine Learning', 'year': 2011, 'referenceCount': 14, 'citationCount': 2114, 'influentialCitationCount': 425, 'isOpenAccess': False, 'openAccessPdf': None, 'fieldsOfStudy': ['Computer Science', 'Mathematics'], 's2FieldsOfStudy': [{'category': 'Computer Science', 'source': 'external'}, {'category': 'Mathematics', 'source': 'external'}, {'category': 'Computer Science', 'source': 's2-fos-model'}], 'publicationTypes': ['JournalArticle', 'Conference'], 'publicationDate': '2011-06-28', 'journal': {'pages': '681-688'}, 'citationStyles': {'bibtex': '@Article{Welling2011BayesianLV,\\n author = {M. Welling and Y. Teh},\\n booktitle = {International Conference on Machine Learning},\\n pages = {681-688},\\n title = {Bayesian Learning via Stochastic Gradient Langevin Dynamics},\\n year = {2011}\\n}\\n'}, 'authors': [{'authorId': '1678311', 'name': 'M. Welling'}, {'authorId': '1725303', 'name': 'Y. Teh'}]}, {'paperId': 'd3fda1e44c8ba36c58b800c9b7a0e9fe7ddb6242', 'externalIds': {'MAG': '2144552105', 'DBLP': 'journals/lgrs/Celik09', 'DOI': '10.1109/LGRS.2009.2025059', 'CorpusId': 13105016}, 'corpusId': 13105016, 'publicationVenue': {'id': '290335d6-cddc-465d-87f1-807e86d8efee', 'name': 'IEEE Geoscience and Remote Sensing Letters', 'type': 'journal', 'alternate_names': ['IEEE Geosci Remote Sens Lett'], 'issn': '1545-598X', 'url': 'http://ieeexplore.ieee.org/servlet/opac?punumber=8859', 'alternate_urls': ['https://ieeexplore.ieee.org/xpl/RecentIssue.jsp?punumber=8859']}, 'url': 'https://www.semanticscholar.org/paper/d3fda1e44c8ba36c58b800c9b7a0e9fe7ddb6242', 'title': 'Unsupervised Change Detection in Satellite Images Using Principal Component Analysis and $k$-Means Clustering', 'abstract': \"In this letter, we propose a novel technique for unsupervised change detection in multitemporal satellite images using principal component analysis (PCA) and k-means clustering. The difference image is partitioned into h times h nonoverlapping blocks. S, S les h2, orthonormal eigenvectors are extracted through PCA of h times h nonoverlapping block set to create an eigenvector space. Each pixel in the difference image is represented with an S-dimensional feature vector which is the projection of h times h difference image data onto the generated eigenvector space. The change detection is achieved by partitioning the feature vector space into two clusters using k-means clustering with k = 2 and then assigning each pixel to the one of the two clusters by using the minimum Euclidean distance between the pixel's feature vector and mean feature vector of clusters. Experimental results confirm the effectiveness of the proposed approach.\", 'venue': 'IEEE Geoscience and Remote Sensing Letters', 'year': 2009, 'referenceCount': 8, 'citationCount': 720, 'influentialCitationCount': 129, 'isOpenAccess': False, 'openAccessPdf': None, 'fieldsOfStudy': ['Mathematics', 'Computer Science'], 's2FieldsOfStudy': [{'category': 'Mathematics', 'source': 'external'}, {'category': 'Computer Science', 'source': 'external'}, {'category': 'Environmental Science', 'source': 's2-fos-model'}], 'publicationTypes': ['JournalArticle'], 'publicationDate': '2009-08-07', 'journal': {'volume': '6', 'pages': '772-776', 'name': 'IEEE Geoscience and Remote Sensing Letters'}, 'citationStyles': {'bibtex': '@Article{Çelik2009UnsupervisedCD,\\n author = {T. Çelik},\\n booktitle = {IEEE Geoscience and Remote Sensing Letters},\\n journal = {IEEE Geoscience and Remote Sensing Letters},\\n pages = {772-776},\\n title = {Unsupervised Change Detection in Satellite Images Using Principal Component Analysis and $k$-Means Clustering},\\n volume = {6},\\n year = {2009}\\n}\\n'}, 'authors': [{'authorId': '48627696', 'name': 'T. Çelik'}]}, {'paperId': 'ce207ed01d02ea446e643d0ac81be090328931da', 'externalIds': {'MAG': '2107450528', 'DOI': '10.1016/J.RSE.2008.07.018', 'CorpusId': 55168956}, 'corpusId': 55168956, 'publicationVenue': None, 'url': 'https://www.semanticscholar.org/paper/ce207ed01d02ea446e643d0ac81be090328931da', 'title': 'Remote sensing change detection tools for natural resource managers: Understanding concepts and tradeoffs in the design of landscape monitoring projects', 'abstract': None, 'venue': '', 'year': 2009, 'referenceCount': 215, 'citationCount': 336, 'influentialCitationCount': 13, 'isOpenAccess': False, 'openAccessPdf': None, 'fieldsOfStudy': ['Computer Science'], 's2FieldsOfStudy': [{'category': 'Computer Science', 'source': 'external'}, {'category': 'Environmental Science', 'source': 's2-fos-model'}, {'category': 'Mathematics', 'source': 's2-fos-model'}], 'publicationTypes': None, 'publicationDate': '2009-07-15', 'journal': {'volume': '113', 'pages': '1382-1396', 'name': 'Remote Sensing of Environment'}, 'citationStyles': {'bibtex': '@Article{Kennedy2009RemoteSC,\\n author = {R. Kennedy and P. Townsend and J. Gross and W. Cohen and P. Bolstad and Yeqiao Wang and P. Adams},\\n journal = {Remote Sensing of Environment},\\n pages = {1382-1396},\\n title = {Remote sensing change detection tools for natural resource managers: Understanding concepts and tradeoffs in the design of landscape monitoring projects},\\n volume = {113},\\n year = {2009}\\n}\\n'}, 'authors': [{'authorId': '37870783', 'name': 'R. Kennedy'}, {'authorId': '35146915', 'name': 'P. Townsend'}, {'authorId': '143752199', 'name': 'J. Gross'}, {'authorId': '2010473', 'name': 'W. Cohen'}, {'authorId': '1719625', 'name': 'P. Bolstad'}, {'authorId': '9103513', 'name': 'Yeqiao Wang'}, {'authorId': '50457010', 'name': 'P. Adams'}]}, {'paperId': '664a277e184f294dbba10f29dd14b5a1b20efd36', 'externalIds': {'MAG': '1979061792', 'DOI': '10.1080/01431160801950162', 'CorpusId': 60545477}, 'corpusId': 60545477, 'publicationVenue': None, 'url': 'https://www.semanticscholar.org/paper/664a277e184f294dbba10f29dd14b5a1b20efd36', 'title': 'PCA‐based land‐use change detection and analysis using multitemporal and multisensor satellite data', 'abstract': \"Remote‐sensing change detection based on multitemporal, multispectral, and multisensor imagery has been developed over several decades and provided timely and comprehensive information for planning and decision‐making. In practice, however, it is still difficult to select a suitable change‐detection method, especially in urban areas, because of the impacts of complex factors. This paper presents a new method using multitemporal and multisensor data (SPOT‐5 and Landsat data) to detect land‐use changes in an urban environment based on principal‐component analysis (PCA) and hybrid classification methods. After geometric correction and radiometric normalization, PCA was used to enhance the change information from stacked multisensor data. Then, a hybrid classifier combining unsupervised and supervised classification was performed to identify and quantify land‐use changes. Finally, stratified random and user‐defined plots sampling methods were synthetically used to obtain total 966 reference points for accuracy assessment. Although errors and confusion exist, this method shows satisfying results with an overall accuracy to be 89.54% and 0.88 for the kappa coefficient. When compared with the post‐classification method, PCA‐based change detection also showed a better accuracy in terms of overall, producer's, and user's accuracy and kappa index. The results suggested that significant land‐use changes have occurred in Hangzhou City from 2000 to 2003, which may be related to rapid economy development and urban expansion. It is further indicated that most changes occurred in cropland areas due to urban encroachment.\", 'venue': '', 'year': 2008, 'referenceCount': 45, 'citationCount': 438, 'influentialCitationCount': 51, 'isOpenAccess': False, 'openAccessPdf': None, 'fieldsOfStudy': ['Computer Science'], 's2FieldsOfStudy': [{'category': 'Computer Science', 'source': 'external'}, {'category': 'Environmental Science', 'source': 's2-fos-model'}, {'category': 'Mathematics', 'source': 's2-fos-model'}], 'publicationTypes': None, 'publicationDate': '2008-08-01', 'journal': {'volume': '29', 'pages': '4823 - 4838', 'name': 'International Journal of Remote Sensing'}, 'citationStyles': {'bibtex': '@Article{Deng2008PCAbasedLC,\\n author = {Jinsong Deng and Ke Wang and Yiming Deng and G. Qi},\\n journal = {International Journal of Remote Sensing},\\n pages = {4823 - 4838},\\n title = {PCA‐based land‐use change detection and analysis using multitemporal and multisensor satellite data},\\n volume = {29},\\n year = {2008}\\n}\\n'}, 'authors': [{'authorId': '2659317', 'name': 'Jinsong Deng'}, {'authorId': '48884595', 'name': 'Ke Wang'}, {'authorId': '145084385', 'name': 'Yiming Deng'}, {'authorId': '40131442', 'name': 'G. Qi'}]}, {'paperId': '3b69ea64bc27b3e27065597fb2559c71a79358b6', 'externalIds': {'MAG': '2111320133', 'DBLP': 'journals/tgrs/BovoloB07a', 'DOI': '10.1109/TGRS.2007.895835', 'CorpusId': 6886142}, 'corpusId': 6886142, 'publicationVenue': {'id': '70628d6a-97aa-4571-9701-bc0eb3989c32', 'name': 'IEEE Transactions on Geoscience and Remote Sensing', 'type': 'journal', 'alternate_names': ['IEEE Trans Geosci Remote Sens'], 'issn': '0196-2892', 'url': 'http://ieeexplore.ieee.org/servlet/opac?punumber=36', 'alternate_urls': ['https://ieeexplore.ieee.org/xpl/RecentIssue.jsp?punumber=36']}, 'url': 'https://www.semanticscholar.org/paper/3b69ea64bc27b3e27065597fb2559c71a79358b6', 'title': 'A Split-Based Approach to Unsupervised Change Detection in Large-Size Multitemporal Images: Application to Tsunami-Damage Assessment', 'abstract': 'This paper presents a split-based approach (SBA) to automatic and unsupervised change detection in large-size multitemporal remote-sensing images. Unlike standard methods that are presented in the literature, the proposed approach can detect in a consistent and reliable way changes in images of large size also when the extension of the changed area is small (and, therefore, the prior probability of the class of changed pixels is very small). The method is based on the following: 1) a split of the large-size image into subimages; 2) an adaptive analysis of each subimage; and 3) an automatic split-based threshold-selection procedure. This general approach is used for defining a system for damage assessment in multitemporal synthetic aperture radar (SAR) images. The proposed system has been developed to properly identify different levels of damages that are induced by tsunamis along coastal areas. Experimental results that are obtained on multitemporal RADARSAT-1 SAR images of the Sumatra Island, Indonesia, confirm the effectiveness of both the proposed SBA and the presented system for tsunami-damage assessment', 'venue': 'IEEE Transactions on Geoscience and Remote Sensing', 'year': 2007, 'referenceCount': 40, 'citationCount': 241, 'influentialCitationCount': 14, 'isOpenAccess': False, 'openAccessPdf': None, 'fieldsOfStudy': ['Computer Science'], 's2FieldsOfStudy': [{'category': 'Computer Science', 'source': 'external'}, {'category': 'Environmental Science', 'source': 's2-fos-model'}, {'category': 'Mathematics', 'source': 's2-fos-model'}], 'publicationTypes': ['JournalArticle'], 'publicationDate': '2007-05-29', 'journal': {'volume': '45', 'pages': '1658-1670', 'name': 'IEEE Transactions on Geoscience and Remote Sensing'}, 'citationStyles': {'bibtex': '@Article{Bovolo2007ASA,\\n author = {F. Bovolo and L. Bruzzone},\\n booktitle = {IEEE Transactions on Geoscience and Remote Sensing},\\n journal = {IEEE Transactions on Geoscience and Remote Sensing},\\n pages = {1658-1670},\\n title = {A Split-Based Approach to Unsupervised Change Detection in Large-Size Multitemporal Images: Application to Tsunami-Damage Assessment},\\n volume = {45},\\n year = {2007}\\n}\\n'}, 'authors': [{'authorId': '2963826', 'name': 'F. Bovolo'}, {'authorId': '1698844', 'name': 'L. Bruzzone'}]}, {'paperId': '9580ed1dc6d823b83b47f0f2d871b0430bbf83dc', 'externalIds': {'MAG': '2160544350', 'DBLP': 'journals/tgrs/BruzzoneF00', 'DOI': '10.1109/36.843009', 'CorpusId': 5714300}, 'corpusId': 5714300, 'publicationVenue': {'id': '70628d6a-97aa-4571-9701-bc0eb3989c32', 'name': 'IEEE Transactions on Geoscience and Remote Sensing', 'type': 'journal', 'alternate_names': ['IEEE Trans Geosci Remote Sens'], 'issn': '0196-2892', 'url': 'http://ieeexplore.ieee.org/servlet/opac?punumber=36', 'alternate_urls': ['https://ieeexplore.ieee.org/xpl/RecentIssue.jsp?punumber=36']}, 'url': 'https://www.semanticscholar.org/paper/9580ed1dc6d823b83b47f0f2d871b0430bbf83dc', 'title': 'Automatic analysis of the difference image for unsupervised change detection', 'abstract': 'One of the main problems related to unsupervised change detection methods based on the \"difference image\" lies in the lack of efficient automatic techniques for discriminating between changed and unchanged pixels in the difference image. Such discrimination is usually performed by using empirical strategies or manual trial-and-error procedures, which affect both the accuracy and the reliability of the change-detection process. To overcome such drawbacks, in this paper, the authors propose two automatic techniques (based on the Bayes theory) for the analysis of the difference image. One allows an automatic selection of the decision threshold that minimizes the overall change detection error probability under the assumption that pixels in the difference image are independent of one another. The other analyzes the difference image by considering the spatial-contextual information included in the neighborhood of each pixel. In particular, an approach based on Markov Random Fields (MRFs) that exploits interpixel class dependency contexts is presented. Both proposed techniques require the knowledge of the statistical distributions of the changed and unchanged pixels in the difference image. To perform an unsupervised estimation of the statistical terms that characterize these distributions, they propose an iterative method based on the Expectation-Maximization (EM) algorithm. Experimental results confirm the effectiveness of both proposed techniques.', 'venue': 'IEEE Transactions on Geoscience and Remote Sensing', 'year': 2000, 'referenceCount': 38, 'citationCount': 1214, 'influentialCitationCount': 141, 'isOpenAccess': False, 'openAccessPdf': None, 'fieldsOfStudy': ['Computer Science'], 's2FieldsOfStudy': [{'category': 'Computer Science', 'source': 'external'}, {'category': 'Computer Science', 'source': 's2-fos-model'}], 'publicationTypes': ['JournalArticle'], 'publicationDate': '2000-05-01', 'journal': {'volume': '38', 'pages': '1171-1182', 'name': 'IEEE Trans. Geosci. Remote. Sens.'}, 'citationStyles': {'bibtex': '@Article{Bruzzone2000AutomaticAO,\\n author = {L. Bruzzone and D. Fernández-Prieto},\\n booktitle = {IEEE Transactions on Geoscience and Remote Sensing},\\n journal = {IEEE Trans. Geosci. Remote. Sens.},\\n pages = {1171-1182},\\n title = {Automatic analysis of the difference image for unsupervised change detection},\\n volume = {38},\\n year = {2000}\\n}\\n'}, 'authors': [{'authorId': '1698844', 'name': 'L. Bruzzone'}, {'authorId': '1399093734', 'name': 'D. Fernández-Prieto'}]}, {'paperId': '0aefe48f1602cb1b520f11f293d4275a4d2d6ed2', 'externalIds': {'MAG': '2023847826', 'DOI': '10.1016/0034-4257(94)90144-9', 'CorpusId': 128882793}, 'corpusId': 128882793, 'publicationVenue': None, 'url': 'https://www.semanticscholar.org/paper/0aefe48f1602cb1b520f11f293d4275a4d2d6ed2', 'title': 'Change-vector analysis in multitemporal space: a tool to detect and categorize land-cover change pro', 'abstract': None, 'venue': '', 'year': 1994, 'referenceCount': 49, 'citationCount': 463, 'influentialCitationCount': 12, 'isOpenAccess': False, 'openAccessPdf': None, 'fieldsOfStudy': ['Environmental Science', 'Geography'], 's2FieldsOfStudy': [{'category': 'Environmental Science', 'source': 'external'}, {'category': 'Geography', 'source': 'external'}, {'category': 'Environmental Science', 'source': 's2-fos-model'}, {'category': 'Mathematics', 'source': 's2-fos-model'}], 'publicationTypes': None, 'publicationDate': '1994-05-01', 'journal': {'volume': '', 'name': ''}, 'citationStyles': {'bibtex': '@Inproceedings{Lambin1994ChangevectorAI,\\n author = {E. Lambin and A. Strahler},\\n title = {Change-vector analysis in multitemporal space: a tool to detect and categorize land-cover change pro},\\n year = {1994}\\n}\\n'}, 'authors': [{'authorId': '1844258', 'name': 'E. Lambin'}, {'authorId': '2654724', 'name': 'A. Strahler'}]}, {'paperId': 'd628c88845c0bc374120a945cdc570ee11d833e9', 'externalIds': {'MAG': '2031600437', 'DOI': '10.1016/0034-4257(85)90102-6', 'CorpusId': 18662878}, 'corpusId': 18662878, 'publicationVenue': None, 'url': 'https://www.semanticscholar.org/paper/d628c88845c0bc374120a945cdc570ee11d833e9', 'title': 'A TM Tasseled Cap equivalent transformation for reflectance factor data', 'abstract': None, 'venue': '', 'year': 1985, 'referenceCount': 9, 'citationCount': 599, 'influentialCitationCount': 49, 'isOpenAccess': False, 'openAccessPdf': None, 'fieldsOfStudy': ['Environmental Science'], 's2FieldsOfStudy': [{'category': 'Environmental Science', 'source': 'external'}, {'category': 'Mathematics', 'source': 's2-fos-model'}, {'category': 'Environmental Science', 'source': 's2-fos-model'}], 'publicationTypes': None, 'publicationDate': '1985-06-01', 'journal': {'volume': '17', 'pages': '301-306', 'name': 'Remote Sensing of Environment'}, 'citationStyles': {'bibtex': '@Article{Crist1985ATT,\\n author = {E. Crist},\\n journal = {Remote Sensing of Environment},\\n pages = {301-306},\\n title = {A TM Tasseled Cap equivalent transformation for reflectance factor data},\\n volume = {17},\\n year = {1985}\\n}\\n'}, 'authors': [{'authorId': '31149804', 'name': 'E. Crist'}]}, {'paperId': '771784a5363b8ec8740534a66516b1daa00aedf6', 'externalIds': {'DBLP': 'journals/tgrs/LiTLZDWZ23', 'DOI': '10.1109/TGRS.2023.3241436', 'CorpusId': 256527937}, 'corpusId': 256527937, 'publicationVenue': {'id': '70628d6a-97aa-4571-9701-bc0eb3989c32', 'name': 'IEEE Transactions on Geoscience and Remote Sensing', 'type': 'journal', 'alternate_names': ['IEEE Trans Geosci Remote Sens'], 'issn': '0196-2892', 'url': 'http://ieeexplore.ieee.org/servlet/opac?punumber=36', 'alternate_urls': ['https://ieeexplore.ieee.org/xpl/RecentIssue.jsp?punumber=36']}, 'url': 'https://www.semanticscholar.org/paper/771784a5363b8ec8740534a66516b1daa00aedf6', 'title': 'Lightweight Remote Sensing Change Detection With Progressive Feature Aggregation and Supervised Attention', 'abstract': 'Remote sensing change detection (RSCD) aims to explore surface changes from co-registered pair of images. However, the high cost of memory and computation in previous convolutional neural network (CNN)-based methods prevent their successes from being applied to real-world applications. Therefore, we propose a novel lightweight network, which identifies changes based on the features extracted by mobile networks via progressive feature aggregation and supervised attention, termed as A2Net. Considering the less powerful representation capability of mobile networks, we design a neighbor aggregation module (NAM) to fuse features within nearby stages of the backbone to strengthen the representation capability of temporal features. Then, we propose a progressive change identifying module (PCIM) to extract temporal difference information from bitemporal features. Besides, we design a supervised attention module (SAM) to reweight features for effectively aggregating multilevel features from high levels to low levels. With NAM, PCIM, and SAM incorporated, A2Net can achieve favorable results compared with the state-of-the-art methods on three challenging RSCD datasets with fewer parameters (3.78 M) and lower computation costs (6.02 G). The demo code of this work is publicly available at https://github.com/guanyuezhen/A2Net.', 'venue': 'IEEE Transactions on Geoscience and Remote Sensing', 'year': 2023, 'referenceCount': 60, 'citationCount': 1, 'influentialCitationCount': 1, 'isOpenAccess': False, 'openAccessPdf': None, 'fieldsOfStudy': ['Computer Science'], 's2FieldsOfStudy': [{'category': 'Computer Science', 'source': 'external'}, {'category': 'Computer Science', 'source': 's2-fos-model'}], 'publicationTypes': ['JournalArticle'], 'publicationDate': None, 'journal': {'volume': '61', 'pages': '1-12', 'name': 'IEEE Transactions on Geoscience and Remote Sensing'}, 'citationStyles': {'bibtex': '@Article{Li2023LightweightRS,\\n author = {Zhenglai Li and Chang Tang and Xinwang Liu and Wei Zhang and Jie Dou and Lizhe Wang and A. Zomaya},\\n booktitle = {IEEE Transactions on Geoscience and Remote Sensing},\\n journal = {IEEE Transactions on Geoscience and Remote Sensing},\\n pages = {1-12},\\n title = {Lightweight Remote Sensing Change Detection With Progressive Feature Aggregation and Supervised Attention},\\n volume = {61},\\n year = {2023}\\n}\\n'}, 'authors': [{'authorId': '1390750342', 'name': 'Zhenglai Li'}, {'authorId': '2118762522', 'name': 'Chang Tang'}, {'authorId': '2130021053', 'name': 'Xinwang Liu'}, {'authorId': '2155469694', 'name': 'Wei Zhang'}, {'authorId': '2204069471', 'name': 'Jie Dou'}, {'authorId': '2108594617', 'name': 'Lizhe Wang'}, {'authorId': '152596321', 'name': 'A. Zomaya'}]}, {'paperId': '18de22177116f2e662047adb9fe42b70c6f2c6ba', 'externalIds': {'DBLP': 'journals/tgrs/LiTWZ22', 'DOI': '10.1109/TGRS.2022.3199502', 'CorpusId': 251708786}, 'corpusId': 251708786, 'publicationVenue': {'id': '70628d6a-97aa-4571-9701-bc0eb3989c32', 'name': 'IEEE Transactions on Geoscience and Remote Sensing', 'type': 'journal', 'alternate_names': ['IEEE Trans Geosci Remote Sens'], 'issn': '0196-2892', 'url': 'http://ieeexplore.ieee.org/servlet/opac?punumber=36', 'alternate_urls': ['https://ieeexplore.ieee.org/xpl/RecentIssue.jsp?punumber=36']}, 'url': 'https://www.semanticscholar.org/paper/18de22177116f2e662047adb9fe42b70c6f2c6ba', 'title': 'Remote Sensing Change Detection via Temporal Feature Interaction and Guided Refinement', 'abstract': 'Remote sensing change detection (RSCD), which identifies the changed and unchanged pixels from a registered pair of remote sensing images, has enjoyed remarkable success recently. However, locating changed objects with fine structural details is still a challenging problem in RSCD. In this article, we propose a novel RSCD network via temporal feature interaction and guided refinement (TFI-GR) to solve this issue. Specifically, unlike previous methods, which just employ one single concatenation or subtraction operation for bi-temporal feature fusion, we design a temporal feature interaction module (TFIM) to enhance interaction between bi-temporal features and capture temporal difference information at diverse feature levels. Afterward, a guided refinement modules (GRMs), which aggregates both low- and high-level temporal difference representations to polish the location information of high-level features and filter the background clutters of low-level features, is repeatedly performed. Finally, the multilevel temporal difference features are progressively fused to generate change maps for change detection. To demonstrate the effectiveness of the proposed TFI-GR, comprehensive experiments are performed on three high spatial resolution RSCD datasets. Experimental results indicate that the proposed method is superior to other state-of-the-art change detection methods. The demo code of this work is publicly available at https://github.com/guanyuezhen/TFI-GR.', 'venue': 'IEEE Transactions on Geoscience and Remote Sensing', 'year': 2022, 'referenceCount': 48, 'citationCount': 8, 'influentialCitationCount': 1, 'isOpenAccess': False, 'openAccessPdf': None, 'fieldsOfStudy': ['Computer Science'], 's2FieldsOfStudy': [{'category': 'Computer Science', 'source': 'external'}, {'category': 'Environmental Science', 'source': 's2-fos-model'}], 'publicationTypes': ['JournalArticle'], 'publicationDate': None, 'journal': {'volume': '60', 'pages': '1-11', 'name': 'IEEE Transactions on Geoscience and Remote Sensing'}, 'citationStyles': {'bibtex': '@Article{Li2022RemoteSC,\\n author = {Zhenglai Li and Chang Tang and Lizhe Wang and A. Zomaya},\\n booktitle = {IEEE Transactions on Geoscience and Remote Sensing},\\n journal = {IEEE Transactions on Geoscience and Remote Sensing},\\n pages = {1-11},\\n title = {Remote Sensing Change Detection via Temporal Feature Interaction and Guided Refinement},\\n volume = {60},\\n year = {2022}\\n}\\n'}, 'authors': [{'authorId': '1390750342', 'name': 'Zhenglai Li'}, {'authorId': '145199348', 'name': 'Chang Tang'}, {'authorId': '2108594617', 'name': 'Lizhe Wang'}, {'authorId': '152596321', 'name': 'A. Zomaya'}]}, {'paperId': '226fd7ef0d7ba2f4007225286511255116fc9b0d', 'externalIds': {'DBLP': 'journals/staeors/LiuCDL22', 'DOI': '10.1109/jstars.2022.3177235', 'CorpusId': 249030261}, 'corpusId': 249030261, 'publicationVenue': {'id': '849b6687-df71-4d12-9c46-59f45d5ce951', 'name': 'IEEE Journal of Selected Topics in Applied Earth Observations and Remote Sensing', 'type': 'journal', 'alternate_names': ['IEEE J Sel Top Appl Earth Obs Remote Sens'], 'issn': '1939-1404', 'url': 'https://ieeexplore.ieee.org/servlet/opac?punumber=4609443', 'alternate_urls': ['https://ieeexplore.ieee.org/xpl/RecentIssue.jsp?punumber=4609443']}, 'url': 'https://www.semanticscholar.org/paper/226fd7ef0d7ba2f4007225286511255116fc9b0d', 'title': 'A CNN-Transformer Network With Multiscale Context Aggregation for Fine-Grained Cropland Change Detection', 'abstract': 'Nonagriculturalization incidents are serious threats to local agricultural ecosystem and global food security. Remote sensing change detection (CD) can provide an effective approach for in-time detection and prevention of such incidents. However, existing CD methods are difficult to deal with the large intraclass differences of cropland changes in high-resolution images. In addition, traditional CNN based models are plagued by the loss of long-range context information, and the high computational complexity brought by deep layers. Therefore, in this article, we propose a CNN-transformer network with multiscale context aggregation (MSCANet), which combines the merits of CNN and transformer to fulfill efficient and effective cropland CD. In the MSCANet, a CNN-based feature extractor is first utilized to capture hierarchical features, then a transformer-based MSCA is designed to encode and aggregate context information. Finally, a multibranch prediction head with three CNN classifiers is applied to obtain change maps, to enhance the supervision for deep layers. Besides, for the lack of CD dataset with fine-grained cropland change of interest, we also provide a new cropland change detection dataset, which contains 600 pairs of 512 × 512 bi-temporal images with the spatial resolution of 0.5–2m. Comparative experiments with several CD models prove the effectiveness of the MSCANet, with the highest F1 of 64.67% on the high-resolution semantic CD dataset, and of 71.29% on CLCD.', 'venue': 'IEEE Journal of Selected Topics in Applied Earth Observations and Remote Sensing', 'year': 2022, 'referenceCount': 0, 'citationCount': 31, 'influentialCitationCount': 9, 'isOpenAccess': True, 'openAccessPdf': {'url': 'https://ieeexplore.ieee.org/ielx7/4609443/4609444/09780164.pdf', 'status': None}, 'fieldsOfStudy': ['Computer Science'], 's2FieldsOfStudy': [{'category': 'Computer Science', 'source': 'external'}, {'category': 'Environmental Science', 'source': 's2-fos-model'}, {'category': 'Computer Science', 'source': 's2-fos-model'}], 'publicationTypes': ['JournalArticle'], 'publicationDate': None, 'journal': {'volume': '15', 'pages': '4297-4306', 'name': 'IEEE Journal of Selected Topics in Applied Earth Observations and Remote Sensing'}, 'citationStyles': {'bibtex': '@Article{Liu2022ACN,\\n author = {Mengxi Liu and Zhuoqun Chai and Haojun Deng and Rong Liu},\\n booktitle = {IEEE Journal of Selected Topics in Applied Earth Observations and Remote Sensing},\\n journal = {IEEE Journal of Selected Topics in Applied Earth Observations and Remote Sensing},\\n pages = {4297-4306},\\n title = {A CNN-Transformer Network With Multiscale Context Aggregation for Fine-Grained Cropland Change Detection},\\n volume = {15},\\n year = {2022}\\n}\\n'}, 'authors': [{'authorId': '2152968633', 'name': 'Mengxi Liu'}, {'authorId': '2166161931', 'name': 'Zhuoqun Chai'}, {'authorId': '6754517', 'name': 'Haojun Deng'}, {'authorId': '2166207702', 'name': 'Rong Liu'}]}, {'paperId': 'b5c7fb3b0d341582b30f6f3eae35248c94c877cf', 'externalIds': {'DBLP': 'journals/tgrs/HuangSWY22', 'DOI': '10.1109/tgrs.2021.3127580', 'CorpusId': 244048285}, 'corpusId': 244048285, 'publicationVenue': {'id': '70628d6a-97aa-4571-9701-bc0eb3989c32', 'name': 'IEEE Transactions on Geoscience and Remote Sensing', 'type': 'journal', 'alternate_names': ['IEEE Trans Geosci Remote Sens'], 'issn': '0196-2892', 'url': 'http://ieeexplore.ieee.org/servlet/opac?punumber=36', 'alternate_urls': ['https://ieeexplore.ieee.org/xpl/RecentIssue.jsp?punumber=36']}, 'url': 'https://www.semanticscholar.org/paper/b5c7fb3b0d341582b30f6f3eae35248c94c877cf', 'title': 'Multiple Attention Siamese Network for High-Resolution Image Change Detection', 'abstract': 'Change detection (CD) remains an important issue in remote sensing applications, especially for high-resolution images, but it has yet to be fully resolved. In this study, we propose a novel Siamese network model, i.e., the multiple attention Siamese network (MASNet), for high-resolution image change detection (HRCD). The selective kernel convolution (SKConv) is first embedded into the encoders of the Siamese network to improve its feature extraction ability. The attention feature fusion module (AFFM) is then proposed and utilized to reform the network’s decoder, which realizes the fusion and selection of image features extracted from different scales and times. Experiments on three benchmark CD datasets, namely, the season-varying change detection dataset (SCDDS), Wuhan University (WHU) building change detection dataset (WBDS), and Google dataset (GDS), are conducted to validate the proposed model. The results show that the proposed attention module (the AFFM) is superior to multiple classic attention modules, including the squeeze-and-excitation block (SE), spatial SE block (sSE), spatial and channel SE block (scSE), convolutional block attention module (CBAM), and efficient channel attention module (ECA), in terms of the fusing of CD features. Furthermore, MASNet achieves a higher overall accuracy (OA), mean intersection over union (mIoU), F1-score (F1), and kappa coefficient (kappa) than ten state-of-the-art HRCD methods, such as the deeply supervised image fusion network (DSIFN), spatial–temporal attention neural network (STANet), and dual attentive fully convolutional Siamese network (DASNet) while maintaining low missed alarms and false alarms and having a fair method efficiency.', 'venue': 'IEEE Transactions on Geoscience and Remote Sensing', 'year': 2022, 'referenceCount': 0, 'citationCount': 13, 'influentialCitationCount': 0, 'isOpenAccess': False, 'openAccessPdf': None, 'fieldsOfStudy': ['Computer Science'], 's2FieldsOfStudy': [{'category': 'Computer Science', 'source': 'external'}, {'category': 'Computer Science', 'source': 's2-fos-model'}], 'publicationTypes': ['JournalArticle'], 'publicationDate': None, 'journal': {'volume': '60', 'pages': '1-16', 'name': 'IEEE Transactions on Geoscience and Remote Sensing'}, 'citationStyles': {'bibtex': '@Article{Huang2022MultipleAS,\\n author = {Jiru Huang and Qian Shen and Min Wang and Mengyuan Yang},\\n booktitle = {IEEE Transactions on Geoscience and Remote Sensing},\\n journal = {IEEE Transactions on Geoscience and Remote Sensing},\\n pages = {1-16},\\n title = {Multiple Attention Siamese Network for High-Resolution Image Change Detection},\\n volume = {60},\\n year = {2022}\\n}\\n'}, 'authors': [{'authorId': '2110005184', 'name': 'Jiru Huang'}, {'authorId': '2069022969', 'name': 'Qian Shen'}, {'authorId': '2145298307', 'name': 'Min Wang'}, {'authorId': '2111077250', 'name': 'Mengyuan Yang'}]}, {'paperId': '072360f21414b7ca85e65958b1bedba25e7172ee', 'externalIds': {'DBLP': 'journals/tgrs/HeCH22', 'DOI': '10.1109/tgrs.2022.3176913', 'CorpusId': 249216616}, 'corpusId': 249216616, 'publicationVenue': {'id': '70628d6a-97aa-4571-9701-bc0eb3989c32', 'name': 'IEEE Transactions on Geoscience and Remote Sensing', 'type': 'journal', 'alternate_names': ['IEEE Trans Geosci Remote Sens'], 'issn': '0196-2892', 'url': 'http://ieeexplore.ieee.org/servlet/opac?punumber=36', 'alternate_urls': ['https://ieeexplore.ieee.org/xpl/RecentIssue.jsp?punumber=36']}, 'url': 'https://www.semanticscholar.org/paper/072360f21414b7ca85e65958b1bedba25e7172ee', 'title': 'Towards a Trustworthy Classifier with Deep CNN: Uncertainty Estimation Meets Hyperspectral Image', 'abstract': 'Recently, deep convolutional neural networks (CNNs) have achieved high classification accuracy of hyperspectral image (HSI). However, high accuracy is not the only goal of a good HSI classifier. In real-world applications, it is necessary to tell whether the classifier is certain about its classification result, which is critical for the safe usage. Unfortunately, most of existing models do not consider the issue. In this study, uncertainty is estimated and reduced to build a trustworthy HSI classifier. Firstly, since the output probabilities of softmax layer cannot represent the confidence scores, distance measurement scheme is used to measure the confidence scores. And then, a trustworthy HSI classifier, which reduces the predictive uncertainty in CNN (i.e., PU-CNN), is obtained by minimizing the distance to the correct centroid. Secondly, the fact that a training sample of HSI usually contains many pixel vectors that belong to different classes, which brings label uncertainty. Then, label uncertainty CNN (i.e., LU-CNN), which uses a classifier-consistent estimator to recover the multiple classes in each HSI sample, is proposed. LU-CNN computes loss over candidate label sets to find the optimal classes, which leads to a trustworthy HSI classifier. Finally, the combination of PU-CNN and LU-CNN (i.e., PL-CNN) is proposed to address predictive uncertainty and label uncertainty at the same time. Experimental results on the three popular hyperspectral datasets show that the proposed methods yield improvements in both accuracy and confidence. The proposed trustworthy classifier opens a new window for safe usage of HSI.', 'venue': 'IEEE Transactions on Geoscience and Remote Sensing', 'year': 2022, 'referenceCount': 0, 'citationCount': 1, 'influentialCitationCount': 0, 'isOpenAccess': False, 'openAccessPdf': None, 'fieldsOfStudy': ['Computer Science'], 's2FieldsOfStudy': [{'category': 'Computer Science', 'source': 'external'}, {'category': 'Computer Science', 'source': 's2-fos-model'}, {'category': 'Environmental Science', 'source': 's2-fos-model'}], 'publicationTypes': ['JournalArticle'], 'publicationDate': None, 'journal': {'volume': 'PP', 'pages': '1-1', 'name': 'IEEE Transactions on Geoscience and Remote Sensing'}, 'citationStyles': {'bibtex': '@Article{He2022TowardsAT,\\n author = {Xin He and Yushi Chen and Lin Huang},\\n booktitle = {IEEE Transactions on Geoscience and Remote Sensing},\\n journal = {IEEE Transactions on Geoscience and Remote Sensing},\\n pages = {1-1},\\n title = {Towards a Trustworthy Classifier with Deep CNN: Uncertainty Estimation Meets Hyperspectral Image},\\n volume = {PP},\\n year = {2022}\\n}\\n'}, 'authors': [{'authorId': '2154166122', 'name': 'Xin He'}, {'authorId': '2597809', 'name': 'Yushi Chen'}, {'authorId': '2111398941', 'name': 'Lin Huang'}]}, {'paperId': '753606373f25a508771edca33a9a8d37c128d27f', 'externalIds': {'DBLP': 'journals/tgrs/SunLGLK22', 'DOI': '10.1109/TGRS.2021.3110998', 'CorpusId': 239322612}, 'corpusId': 239322612, 'publicationVenue': {'id': '70628d6a-97aa-4571-9701-bc0eb3989c32', 'name': 'IEEE Transactions on Geoscience and Remote Sensing', 'type': 'journal', 'alternate_names': ['IEEE Trans Geosci Remote Sens'], 'issn': '0196-2892', 'url': 'http://ieeexplore.ieee.org/servlet/opac?punumber=36', 'alternate_urls': ['https://ieeexplore.ieee.org/xpl/RecentIssue.jsp?punumber=36']}, 'url': 'https://www.semanticscholar.org/paper/753606373f25a508771edca33a9a8d37c128d27f', 'title': 'Sparse-Constrained Adaptive Structure Consistency-Based Unsupervised Image Regression for Heterogeneous Remote- Sensing Change Detection', 'abstract': 'Change detection of heterogeneous multitemporal satellite images is an important and challenging topic in remote sensing. Since the imaging mechanisms of heterogeneous sensors are different, it is not possible to directly compare heterogeneous images to detect changes as in the homogeneous images. To address this challenge, we propose an unsupervised image regression-based change detection method based on the structure consistency. The proposed method first adaptively constructs a similarity graph to represent the structure of a pre-event image, then uses the graph to translate the pre-event image to the domain of the post-event image, and then computes the difference image. Finally, a superpixel-based Markovian segmentation model is designed to segment the difference image into changed and unchanged classes. The proposed adaptive structure consistency-based image regression model can not only alleviate the impact of noise and changed pixels on the regression process by using the structure-based transformation, but also easily distinguish between changed and unchanged classes in the difference image by using the prior sparse knowledge of changes. Experimental results on six different datasets demonstrate the effectiveness of the proposed method by comparing with some state-of-the-art methods.', 'venue': 'IEEE Transactions on Geoscience and Remote Sensing', 'year': 2021, 'referenceCount': 41, 'citationCount': 18, 'influentialCitationCount': 0, 'isOpenAccess': False, 'openAccessPdf': None, 'fieldsOfStudy': ['Computer Science'], 's2FieldsOfStudy': [{'category': 'Computer Science', 'source': 'external'}, {'category': 'Computer Science', 'source': 's2-fos-model'}, {'category': 'Mathematics', 'source': 's2-fos-model'}, {'category': 'Environmental Science', 'source': 's2-fos-model'}], 'publicationTypes': ['JournalArticle'], 'publicationDate': None, 'journal': {'volume': 'PP', 'pages': '1-14', 'name': 'IEEE Transactions on Geoscience and Remote Sensing'}, 'citationStyles': {'bibtex': '@Article{Sun2021SparseConstrainedAS,\\n author = {Yuli Sun and Lin Lei and Dongdong Guan and Ming Li and Gangyao Kuang},\\n booktitle = {IEEE Transactions on Geoscience and Remote Sensing},\\n journal = {IEEE Transactions on Geoscience and Remote Sensing},\\n pages = {1-14},\\n title = {Sparse-Constrained Adaptive Structure Consistency-Based Unsupervised Image Regression for Heterogeneous Remote- Sensing Change Detection},\\n volume = {PP},\\n year = {2021}\\n}\\n'}, 'authors': [{'authorId': '1500378392', 'name': 'Yuli Sun'}, {'authorId': '35975070', 'name': 'Lin Lei'}, {'authorId': '50420536', 'name': 'Dongdong Guan'}, {'authorId': '2150653803', 'name': 'Ming Li'}, {'authorId': '7897173', 'name': 'Gangyao Kuang'}]}, {'paperId': 'e78359fb85f5fc0749ac02237d49c08a59e54923', 'externalIds': {'DBLP': 'journals/tgrs/LeiWNWX0N22', 'DOI': '10.1109/tgrs.2021.3134691', 'CorpusId': 245084977}, 'corpusId': 245084977, 'publicationVenue': {'id': '70628d6a-97aa-4571-9701-bc0eb3989c32', 'name': 'IEEE Transactions on Geoscience and Remote Sensing', 'type': 'journal', 'alternate_names': ['IEEE Trans Geosci Remote Sens'], 'issn': '0196-2892', 'url': 'http://ieeexplore.ieee.org/servlet/opac?punumber=36', 'alternate_urls': ['https://ieeexplore.ieee.org/xpl/RecentIssue.jsp?punumber=36']}, 'url': 'https://www.semanticscholar.org/paper/e78359fb85f5fc0749ac02237d49c08a59e54923', 'title': 'Difference Enhancement and Spatial-Spectral Non-Local Network for Change Detection in VHR Remote Sensing Images', 'abstract': 'The popular Siamese convolutional neural networks (CNNs) for remote sensing (RS) image change detection (CD) often suffer from two problems. First, they either ignore the original information of bi-temporal images or insufficiently utilize the difference information between bi-temporal images, which leads to the low tightness of the changed objects. Secondly, Siamese CNNs always employ dual-branch encoder for CD, which increases computational cost. To address above issues, this paper proposes a network based on difference enhancement and spatial-spectral non-local (DESSN) for CD in very-high-resolution (VHR) images. This paper makes threefold contributions. First, we design a difference enhancement (DE) module that can effectively learn the difference representation between foreground and background to reduce the impact of irrelevant changes on the detection results. Second, we present a spatial-spectral non-local (SSN) module that is different from vanilla non-local, because multi-scale spatial global features are incorporated to model the large-scale variation of objects during CD. The module can be used to strengthen the edge integrity and internal tightness of changed objects. Third, the asymmetric double convolution with Ghost (ADCG) module is exploited instead of standard convolution. The ADCG can not only refine the edge information of the changed objects since horizontal and vertical convolutional kernels have good contour preservation advantages, but also greatly reduce the computational complexity of the proposed model. The experiments on two public VHR CD datasets demonstrate that the proposed network can provide higher detection accuracy and requires smaller memory usage than state-of-the-art networks.', 'venue': 'IEEE Transactions on Geoscience and Remote Sensing', 'year': 2021, 'referenceCount': 0, 'citationCount': 21, 'influentialCitationCount': 2, 'isOpenAccess': True, 'openAccessPdf': {'url': 'https://ieeexplore.ieee.org/ielx7/36/9633014/09646959.pdf', 'status': None}, 'fieldsOfStudy': ['Computer Science'], 's2FieldsOfStudy': [{'category': 'Computer Science', 'source': 'external'}, {'category': 'Environmental Science', 'source': 's2-fos-model'}], 'publicationTypes': ['JournalArticle'], 'publicationDate': None, 'journal': {'volume': 'PP', 'pages': '1-1', 'name': 'IEEE Transactions on Geoscience and Remote Sensing'}, 'citationStyles': {'bibtex': '@Article{Lei2021DifferenceEA,\\n author = {Tao Lei and Jie Wang and Hailong Ning and Xingwu Wang and Dinghua Xue and Qi Wang and A. Nandi},\\n booktitle = {IEEE Transactions on Geoscience and Remote Sensing},\\n journal = {IEEE Transactions on Geoscience and Remote Sensing},\\n pages = {1-1},\\n title = {Difference Enhancement and Spatial-Spectral Non-Local Network for Change Detection in VHR Remote Sensing Images},\\n volume = {PP},\\n year = {2021}\\n}\\n'}, 'authors': [{'authorId': '144673777', 'name': 'Tao Lei'}, {'authorId': '2146042279', 'name': 'Jie Wang'}, {'authorId': '2036585936', 'name': 'Hailong Ning'}, {'authorId': '2144804458', 'name': 'Xingwu Wang'}, {'authorId': '51446173', 'name': 'Dinghua Xue'}, {'authorId': '2151571362', 'name': 'Qi Wang'}, {'authorId': '145720325', 'name': 'A. Nandi'}]}, {'paperId': None, 'externalIds': None, 'corpusId': None, 'publicationVenue': None, 'url': None, 'title': 'Difficultyaware attention network with confidence learning for medical image segmentation', 'abstract': None, 'venue': 'AAAI Conference on Artificial Intelligence, vol. 33, no. 01, 2019, pp. 1085–1092.', 'year': 2019, 'referenceCount': None, 'citationCount': None, 'influentialCitationCount': None, 'isOpenAccess': None, 'openAccessPdf': None, 'fieldsOfStudy': None, 's2FieldsOfStudy': None, 'publicationTypes': None, 'publicationDate': None, 'journal': None, 'citationStyles': None, 'authors': []}, {'paperId': 'a847f9233848cd4b3c2de6cdc6c22f2e6f8f8c7a', 'externalIds': {'MAG': '2074597716', 'DOI': '10.1080/02757259609532305', 'CorpusId': 129459788}, 'corpusId': 129459788, 'publicationVenue': None, 'url': 'https://www.semanticscholar.org/paper/a847f9233848cd4b3c2de6cdc6c22f2e6f8f8c7a', 'title': 'Digital change detection in forest ecosystems with remote sensing imagery', 'abstract': \"Abstract The world's forest ecosystems are in a state of permanent flux at a variety of spatial and temporal scales. Monitoring techniques based on multispectral satellite‐acquired data have demonstrated potential as a means to detect, identify, and map changes in forest cover. This paper, which reviews the methods and the results of digital change detection primarily in temperate forest ecosystems, has two major components. First, the different perspectives from which the variability in the change event has been approached are summarized, and the appropriate choice of digital imagery acquisition dates and interval length for change detection are discussed. In the second part, preprocessing routines to establish a more direct linkage between digital remote sensing data and biophysical phenomena, and the actual change detection methods themselves are reviewed and critically assessed. A case study in temperate forests (north‐central U.S.A.) then serves as an illustration of how the different change detectio...\", 'venue': '', 'year': 1996, 'referenceCount': 72, 'citationCount': 676, 'influentialCitationCount': 28, 'isOpenAccess': False, 'openAccessPdf': None, 'fieldsOfStudy': ['Geography'], 's2FieldsOfStudy': [{'category': 'Geography', 'source': 'external'}, {'category': 'Environmental Science', 'source': 's2-fos-model'}, {'category': 'Mathematics', 'source': 's2-fos-model'}], 'publicationTypes': ['Review'], 'publicationDate': None, 'journal': {'volume': '13', 'pages': '207-234', 'name': ''}, 'citationStyles': {'bibtex': '@Inproceedings{Coppin1996DigitalCD,\\n author = {P. Coppin and M. Bauer},\\n pages = {207-234},\\n title = {Digital change detection in forest ecosystems with remote sensing imagery},\\n volume = {13},\\n year = {1996}\\n}\\n'}, 'authors': [{'authorId': '1782342', 'name': 'P. Coppin'}, {'authorId': '31997876', 'name': 'M. Bauer'}]}, {'paperId': 'ca0382b2e2aff0249ae94833641108f281d13b0d', 'externalIds': {'DBLP': 'phd/ca/Neal95', 'CorpusId': 251471788}, 'corpusId': 251471788, 'publicationVenue': None, 'url': 'https://www.semanticscholar.org/paper/ca0382b2e2aff0249ae94833641108f281d13b0d', 'title': 'Bayesian learning for neural networks', 'abstract': None, 'venue': '', 'year': 1995, 'referenceCount': 0, 'citationCount': 1640, 'influentialCitationCount': 210, 'isOpenAccess': False, 'openAccessPdf': None, 'fieldsOfStudy': ['Computer Science'], 's2FieldsOfStudy': [{'category': 'Computer Science', 'source': 'external'}, {'category': 'Computer Science', 'source': 's2-fos-model'}], 'publicationTypes': None, 'publicationDate': None, 'journal': None, 'citationStyles': {'bibtex': '@Inproceedings{Neal1995BayesianLF,\\n author = {Radford M. Neal},\\n title = {Bayesian learning for neural networks},\\n year = {1995}\\n}\\n'}, 'authors': [{'authorId': '1764325', 'name': 'Radford M. Neal'}]}]}"
      ]
     },
     "execution_count": 6,
     "metadata": {},
     "output_type": "execute_result"
    }
   ],
   "source": [
    "paper"
   ]
  }
 ],
 "metadata": {
  "kernelspec": {
   "display_name": "paper-analysis-RNeKgHHX",
   "language": "python",
   "name": "python3"
  },
  "language_info": {
   "codemirror_mode": {
    "name": "ipython",
    "version": 3
   },
   "file_extension": ".py",
   "mimetype": "text/x-python",
   "name": "python",
   "nbconvert_exporter": "python",
   "pygments_lexer": "ipython3",
   "version": "3.10.11"
  },
  "orig_nbformat": 4
 },
 "nbformat": 4,
 "nbformat_minor": 2
}
